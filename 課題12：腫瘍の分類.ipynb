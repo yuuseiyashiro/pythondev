{
  "cells": [
    {
      "cell_type": "markdown",
      "metadata": {
        "id": "TWn0zyQIdo_t"
      },
      "source": [
        "# 【課題】腫瘍の良性／悪性を予測（分類）しよう"
      ]
    },
    {
      "cell_type": "markdown",
      "metadata": {
        "id": "enaoPFPQekiy"
      },
      "source": [
        "## データを読み込む"
      ]
    },
    {
      "cell_type": "markdown",
      "metadata": {
        "id": "CeY-DqOYiONL"
      },
      "source": [
        "`breast_cancer_wisconsin_data.csv` を読み込みましょう。"
      ]
    },
    {
      "cell_type": "code",
      "execution_count": null,
      "metadata": {
        "id": "YqUT4ezQiUSQ"
      },
      "outputs": [],
      "source": [
        "# Pandasを使ってbreast_cancer_wisconsin_data.csvを読み込む（変更しないでください）\n",
        "import pandas as pd\n",
        "bc_data = pd.read_csv(\"breast_cancer_wisconsin_data.csv\")"
      ]
    },
    {
      "cell_type": "markdown",
      "metadata": {
        "id": "fW1INtrcsgjA"
      },
      "source": [
        "読み込んだデータについて確認します。"
      ]
    },
    {
      "cell_type": "code",
      "execution_count": null,
      "metadata": {
        "id": "fmS_eWkDskg9"
      },
      "outputs": [],
      "source": [
        "# 読み込んだデータが何行何列かをshapeで確認する（変更しないでください）\n",
        "print(bc_data.shape)"
      ]
    },
    {
      "cell_type": "code",
      "execution_count": null,
      "metadata": {
        "id": "-uNEBwjvs1vq"
      },
      "outputs": [],
      "source": [
        "# 読み込んだデータの先頭5行を確認する（変更しないでください）\n",
        "bc_data.head()"
      ]
    },
    {
      "cell_type": "code",
      "execution_count": null,
      "metadata": {
        "id": "nF--Wff3s9hO"
      },
      "outputs": [],
      "source": [
        "# 読み込んだデータの先頭の1行だけを確認する（変更しないでください）\n",
        "bc_data.iloc[0, :]"
      ]
    },
    {
      "cell_type": "markdown",
      "metadata": {
        "id": "41oCK0t9ti92"
      },
      "source": [
        "このCSVファイルには30以上の列があります。主要な列のみ、以下に概要を記載します。\n",
        "\n",
        "- id：連番\n",
        "- diagnosis：\"B\"か\"M\"の文字が格納されている（\"B\"：良性、\"M\"：悪性）\n",
        "- radius_mean：中心から外周までの平均距離（半径）\n",
        "- texture_mean：グレースケール（色の濃さ）の平均値\n",
        "- perimeter_mean：外周の平均の長さ"
      ]
    },
    {
      "cell_type": "markdown",
      "metadata": {
        "id": "DkK-rhF9t8Nl"
      },
      "source": [
        "今回は `radius_mean`（半径）と `perimeter_mean`（外周の長さ）を説明変数、`diagnosis`（良性か悪性か）を目的変数として分類を行ないます。\n",
        "\n",
        "データの前処理や分割を行なう前に、スライスを使って、`radius_mean`列と`perimeter_mean`列を変数`X`、`diagnosis` 列のみを変数 `y` に格納してください。また、PandasでCSVを読み込んだため、データはDataFrame形式となっています。そのため、データはndarray形式に変換してください。"
      ]
    },
    {
      "cell_type": "code",
      "execution_count": null,
      "metadata": {
        "id": "H7YcaFqxvPxF"
      },
      "outputs": [],
      "source": [
        "# スライスとndarrayへの変換をして X と y を作成する\n",
        "# （以下にコードを書いてください）\n"
      ]
    },
    {
      "cell_type": "markdown",
      "metadata": {
        "id": "ROUfpyB0wEQy"
      },
      "source": [
        "## データの前処理を行なう"
      ]
    },
    {
      "cell_type": "markdown",
      "metadata": {
        "id": "imN-hd3LwKHR"
      },
      "source": [
        "さて、`y` には \"B\" もしくは \"M\" という文字データが入っています。数値化した方がコンピュータは学習しやすくなるので、データの前処理の1つ「カテゴリ値の数値化」を実行しましょう。カテゴリ値の数値化をするには `LabelEncoder` というものを利用します。\n",
        "\n",
        "[sklearn.preprocessing.LabelEncoder](https://scikit-learn.org/stable/modules/generated/sklearn.preprocessing.LabelEncoder.html)\n",
        "\n",
        "※ `LabelEncoder` は、レッスン本文では登場しませんでしたので、以下のコードをそのまま実行すれば大丈夫です。このコードは、上記の公式ドキュメントの内容に沿って記述されています。**なお、このとき `y` は、NumPyのndarray形式に変換されている必要があります。**"
      ]
    },
    {
      "cell_type": "code",
      "execution_count": null,
      "metadata": {
        "id": "wcekAgIowoxs"
      },
      "outputs": [],
      "source": [
        "# カテゴリ値の数値化\n",
        "# （変更しないでください）\n",
        "from sklearn.preprocessing import LabelEncoder\n",
        "le = LabelEncoder()\n",
        "le.fit([\"B\", \"M\"])    # 良性：0, 悪性：1\n",
        "y = le.transform(y)\n",
        "\n",
        "# 数値化した状態を確認してみる（変更しないでください）\n",
        "y"
      ]
    },
    {
      "cell_type": "markdown",
      "metadata": {
        "id": "edZwmr0uyCud"
      },
      "source": [
        "## データを訓練データとテストデータに分ける"
      ]
    },
    {
      "cell_type": "markdown",
      "metadata": {
        "id": "vZ76BtqbyE9X"
      },
      "source": [
        "`X` および `y` を訓練データとテストデータに分けましょう。その際、訓練データ8割、テストデータ2割としてください。また、並び順がランダムになるよう、分割してください。"
      ]
    },
    {
      "cell_type": "code",
      "execution_count": null,
      "metadata": {
        "id": "BFmSr525yH5T"
      },
      "outputs": [],
      "source": [
        "# 訓練データ8割、テストデータ2割に分割する\n",
        "# （以下にコードを書いてください）\n"
      ]
    },
    {
      "cell_type": "markdown",
      "metadata": {
        "id": "IromdmDAzE7m"
      },
      "source": [
        "## モデルを作成して訓練する"
      ]
    },
    {
      "cell_type": "markdown",
      "metadata": {
        "id": "kyM7doXOzLHx"
      },
      "source": [
        "ここでは、レッスン本文でも利用した「サポートベクターマシン」（`SVC`）の線形分類モデルを使います。また、作成したモデルに訓練データを渡して、学習を行ないます。"
      ]
    },
    {
      "cell_type": "code",
      "execution_count": null,
      "metadata": {
        "id": "gmMtWDs9zG0x"
      },
      "outputs": [],
      "source": [
        "# SVCの線形分類モデルを作成する\n",
        "# （以下にコードを書いてください）\n",
        "\n",
        "\n",
        "# 訓練データを使って訓練を行なう\n",
        "# （以下にコードを書いてください）\n"
      ]
    },
    {
      "cell_type": "markdown",
      "metadata": {
        "id": "ufwZH4Ds1bmj"
      },
      "source": [
        "## 期待する性能が出たかを評価する"
      ]
    },
    {
      "cell_type": "markdown",
      "metadata": {
        "id": "vaLbbC0e1f1A"
      },
      "source": [
        "分類を行ないましょう。"
      ]
    },
    {
      "cell_type": "code",
      "execution_count": null,
      "metadata": {
        "id": "yMsJogfB1hgP"
      },
      "outputs": [],
      "source": [
        "# テストデータを使って分類を実行する\n",
        "# （以下にコードを書いてください）\n"
      ]
    },
    {
      "cell_type": "markdown",
      "metadata": {
        "id": "9DCk2bMn1svD"
      },
      "source": [
        "この分類結果を用いて、モデルの評価を行ないます。\n",
        "\n",
        "まずは、予測値と実際の値をそのまま表示してください。"
      ]
    },
    {
      "cell_type": "code",
      "execution_count": null,
      "metadata": {
        "id": "f1WrG6qV1w25"
      },
      "outputs": [],
      "source": [
        "# 予測値を表示する\n",
        "# （以下にコードを書いてください）\n"
      ]
    },
    {
      "cell_type": "code",
      "execution_count": null,
      "metadata": {
        "id": "1qBBnTwk17-z"
      },
      "outputs": [],
      "source": [
        "# 実際の値を表示する\n",
        "# （以下にコードを書いてください）\n"
      ]
    },
    {
      "cell_type": "markdown",
      "metadata": {
        "id": "DjTmCVyu2CbQ"
      },
      "source": [
        "予測の精度を混同行列で示しましょう。"
      ]
    },
    {
      "cell_type": "code",
      "execution_count": null,
      "metadata": {
        "id": "1Dd-M4qM2EBa"
      },
      "outputs": [],
      "source": [
        "# 混同行列で集計結果を表示する\n",
        "# （以下にコードを書いてください）\n"
      ]
    },
    {
      "cell_type": "markdown",
      "metadata": {
        "id": "O1tIlN8a2YWy"
      },
      "source": [
        "最後に `classification_report()` を実行し、結果を表示してください。"
      ]
    },
    {
      "cell_type": "code",
      "execution_count": null,
      "metadata": {
        "id": "FQ2rUebn2WoU"
      },
      "outputs": [],
      "source": [
        "# classification_report()の実行結果を表示する\n",
        "# （以下にコードを書いてください）\n"
      ]
    }
  ],
  "metadata": {
    "colab": {
      "provenance": []
    },
    "kernelspec": {
      "display_name": "Python 3",
      "name": "python3"
    },
    "language_info": {
      "name": "python"
    }
  },
  "nbformat": 4,
  "nbformat_minor": 0
}
