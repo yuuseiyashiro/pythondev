{
 "cells": [
  {
   "cell_type": "code",
   "execution_count": null,
   "id": "c715de46",
   "metadata": {},
   "outputs": [],
   "source": [
    "\n",
    "for i in range(1,100):\n",
    "    if i!=2 and i%2==0:\n",
    "        continue\n",
    "    if i!=3 and i%3==0:\n",
    "        continue\n",
    "    if i!=5 and i%5==0:\n",
    "        continue\n",
    "    if i!=7 and i%7==0:\n",
    "        continue\n",
    "    print(i)"
   ]
  },
  {
   "cell_type": "code",
   "execution_count": null,
   "id": "7cd51886",
   "metadata": {},
   "outputs": [],
   "source": []
  }
 ],
 "metadata": {
  "kernelspec": {
   "display_name": ".venv",
   "language": "python",
   "name": "python3"
  },
  "language_info": {
   "name": "python",
   "version": "3.13.7"
  }
 },
 "nbformat": 4,
 "nbformat_minor": 5
}
