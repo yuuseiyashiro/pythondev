{
 "cells": [
  {
   "cell_type": "code",
   "execution_count": null,
   "id": "c715de46",
   "metadata": {},
   "outputs": [],
   "source": [
    "\n",
    "for i in range(1,100):\n",
    "      if i%2==0 or i%3==0 or i%5==0 or i%7==0:\n",
    "           print(i)\n"
   ]
  }
 ],
 "metadata": {
  "language_info": {
   "name": "python"
  }
 },
 "nbformat": 4,
 "nbformat_minor": 5
}
