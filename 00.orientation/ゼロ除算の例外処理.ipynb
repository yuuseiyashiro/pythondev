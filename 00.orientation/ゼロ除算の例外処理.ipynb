{
 "cells": [
  {
   "cell_type": "code",
   "execution_count": null,
   "id": "0f1e4a2b",
   "metadata": {},
   "outputs": [],
   "source": [
    "a = int(input(\"割られる数を入力してください：\"))\n",
    "b = int(input(\"割る数を入力してください：\"))\n",
    "try:\n",
    "    c = a / b\n",
    "    print(f\"{a} ÷ {b} = {c}\")\n",
    "except ZeroDivisionError:\n",
    "    print(\"エラー：ゼロで割り算をしないでください。\")\n",
    "    print(\"処理を終了します。\")\n",
    "except:\n",
    "    print(\"数値を入力してください。\")\n",
    "    print(\"処理を終了します。\")"
   ]
  }
 ],
 "metadata": {
  "language_info": {
   "name": "python"
  }
 },
 "nbformat": 4,
 "nbformat_minor": 5
}
