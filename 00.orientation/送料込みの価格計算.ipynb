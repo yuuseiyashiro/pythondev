{
 "cells": [
  {
   "cell_type": "code",
   "execution_count": null,
   "id": "c4257492",
   "metadata": {},
   "outputs": [],
   "source": [
    "i=0\n",
    "S=0\n",
    "zeinukikakaku=int(input(\"税抜き価格を入力してください\"))\n",
    "if zeinukikakaku>=2000:\n",
    "    print(\"送料は無料です。\")\n",
    "    print(\"価格は\",round(zeinukikakaku*1.1,1),\"円です。\")\n",
    "else:\n",
    "    print(\"送料は350円です。\")\n",
    "    zeinukikakaku=zeinukikakaku*1.1+350\n",
    "    print(\"送料込みの価格は\",round(zeinukikakaku,1),\"円です。\")\n"
   ]
  }
 ],
 "metadata": {
  "kernelspec": {
   "display_name": ".venv",
   "language": "python",
   "name": "python3"
  },
  "language_info": {
   "codemirror_mode": {
    "name": "ipython",
    "version": 3
   },
   "file_extension": ".py",
   "mimetype": "text/x-python",
   "name": "python",
   "nbconvert_exporter": "python",
   "pygments_lexer": "ipython3",
   "version": "3.13.7"
  }
 },
 "nbformat": 4,
 "nbformat_minor": 5
}
