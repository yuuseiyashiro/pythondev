{
 "cells": [
  {
   "cell_type": "code",
   "execution_count": null,
   "id": "c4257492",
   "metadata": {},
   "outputs": [],
   "source": [
    "zeinukikakaku=input(\"税抜き価格を入力してください\")\n",
    "zeikomikakaku=int(zeinukikakakaku)*1.1\n",
    "if zeikomikakaku>=2000:\n",
    "    print(\"送料は無料です\")\n",
    "else:\n",
    "    print(\"送料は350円です\")\n",
    "    zeikomikakaku+=350\n",
    "    print(\"価格は\",zeikomikakaku,\"円です。\")\n"
   ]
  }
 ],
 "metadata": {
  "kernelspec": {
   "display_name": ".venv",
   "language": "python",
   "name": "python3"
  },
  "language_info": {
   "codemirror_mode": {
    "name": "ipython",
    "version": 3
   },
   "file_extension": ".py",
   "mimetype": "text/x-python",
   "name": "python",
   "nbconvert_exporter": "python",
   "pygments_lexer": "ipython3",
   "version": "3.13.7"
  }
 },
 "nbformat": 4,
 "nbformat_minor": 5
}
