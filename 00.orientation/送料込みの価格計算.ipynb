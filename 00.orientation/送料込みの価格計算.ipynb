{
 "cells": [
  {
   "cell_type": "code",
   "execution_count": null,
   "id": "c4257492",
   "metadata": {},
   "outputs": [],
   "source": [
    "i=0\n",
    "S=0\n",
    "price_without_tax=int(input(\"税抜き価格を入力してください\"))\n",
    "price_with_tax=price_without_tax*1.1\n",
    "if price_with_tax>=2000:\n",
    "    print(\"送料は無料です。\")\n",
    "    print(\"価格は\",round(price_with_tax,1),\"円です。\")\n",
    "else:\n",
    "    print(\"送料は350円です。\")\n",
    "    price_with_tax=price_with_tax+350\n",
    "    print(\"送料込みの価格は\",round(price_with_tax,1),\"円です。\")\n"
   ]
  }
 ],
 "metadata": {
  "kernelspec": {
   "display_name": ".venv",
   "language": "python",
   "name": "python3"
  },
  "language_info": {
   "codemirror_mode": {
    "name": "ipython",
    "version": 3
   },
   "file_extension": ".py",
   "mimetype": "text/x-python",
   "name": "python",
   "nbconvert_exporter": "python",
   "pygments_lexer": "ipython3",
   "version": "3.13.7"
  }
 },
 "nbformat": 4,
 "nbformat_minor": 5
}
