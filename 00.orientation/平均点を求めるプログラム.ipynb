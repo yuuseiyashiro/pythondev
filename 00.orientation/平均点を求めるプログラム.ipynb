{
 "cells": [
  {
   "cell_type": "code",
   "execution_count": null,
   "id": "cce6709f",
   "metadata": {},
   "outputs": [],
   "source": [
    "i=0\n",
    "s=0\n",
    "while True:\n",
    "    a=input(\"点数を入力してください。\")\n",
    "    s+=int(a)\n",
    "    i+=1\n",
    "    if a==-1:\n",
    "        break\n",
    "    print(f\"{i}\",\"人のテストの平均点は\",round(s/i,1),\"点です。\")"
   ]
  }
 ],
 "metadata": {
  "kernelspec": {
   "display_name": ".venv",
   "language": "python",
   "name": "python3"
  },
  "language_info": {
   "codemirror_mode": {
    "name": "ipython",
    "version": 3
   },
   "file_extension": ".py",
   "mimetype": "text/x-python",
   "name": "python",
   "nbconvert_exporter": "python",
   "pygments_lexer": "ipython3",
   "version": "3.13.7"
  }
 },
 "nbformat": 4,
 "nbformat_minor": 5
}
