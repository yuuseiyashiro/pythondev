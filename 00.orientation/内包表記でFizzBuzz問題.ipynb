{
 "cells": [
  {
   "cell_type": "code",
   "execution_count": null,
   "id": "5027d2d8",
   "metadata": {},
   "outputs": [],
   "source": [
    "FizzBuzz=[\"FizzBuzz\" if i%15==0 else \"Fizz\" if i%5==0 else \"Buzz\" if i%3==0 else i for i in range(1,101)]\n",
    "print(FizzBuzz)"
   ]
  }
 ],
 "metadata": {
  "kernelspec": {
   "display_name": ".venv",
   "language": "python",
   "name": "python3"
  },
  "language_info": {
   "name": "python",
   "version": "3.13.7"
  }
 },
 "nbformat": 4,
 "nbformat_minor": 5
}
