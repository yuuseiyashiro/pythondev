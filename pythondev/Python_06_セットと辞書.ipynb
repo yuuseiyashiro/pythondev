{
  "cells": [
    {
      "cell_type": "markdown",
      "id": "sfPnSOI6_O9Q",
      "metadata": {
        "id": "sfPnSOI6_O9Q"
      },
      "source": [
        "## セット（Set・集合）を作る"
      ]
    },
    {
      "cell_type": "markdown",
      "id": "2xkdvsnGYYUH",
      "metadata": {
        "id": "2xkdvsnGYYUH"
      },
      "source": [
        "### `{ }` で作る"
      ]
    },
    {
      "cell_type": "code",
      "execution_count": 1,
      "id": "98346a6e",
      "metadata": {
        "colab": {
          "base_uri": "https://localhost:8080/"
        },
        "id": "98346a6e",
        "outputId": "2d721314-520d-41c9-ab6c-9fc3b5e4bf66"
      },
      "outputs": [
        {
          "name": "stdout",
          "output_type": "stream",
          "text": [
            "{1, 2, 3, 4, 5, 6, 7}\n",
            "{'orange', 'apple', 'peach', 'banana'}\n",
            "{}\n",
            "{1, 'hoge', 4, 'bar', 7, 'fuga'}\n"
          ]
        }
      ],
      "source": [
        "a = {2, 5, 7, 1, 3, 6, 4}\n",
        "b = {\"apple\", \"banana\", \"orange\", \"peach\"}\n",
        "c = {}\n",
        "d = {1, \"hoge\", 4, \"fuga\", \"bar\", 7}\n",
        "\n",
        "print(a)\n",
        "print(b)\n",
        "print(c)\n",
        "print(d)"
      ]
    },
    {
      "cell_type": "code",
      "execution_count": 2,
      "id": "f98748f9",
      "metadata": {
        "colab": {
          "base_uri": "https://localhost:8080/"
        },
        "id": "f98748f9",
        "outputId": "ed7b1075-c605-49d8-afd4-c93b442ee4f9"
      },
      "outputs": [
        {
          "name": "stdout",
          "output_type": "stream",
          "text": [
            "<class 'set'> <class 'set'> <class 'dict'>\n"
          ]
        }
      ],
      "source": [
        "print(type(a), type(b), type(c))"
      ]
    },
    {
      "cell_type": "code",
      "execution_count": 3,
      "id": "e35acdd5",
      "metadata": {
        "colab": {
          "base_uri": "https://localhost:8080/"
        },
        "id": "e35acdd5",
        "outputId": "e611a0fb-49ac-4886-a0b2-78e9dc68aacf"
      },
      "outputs": [
        {
          "data": {
            "text/plain": [
              "{'apple', 'banana', 'orange', 'peach'}"
            ]
          },
          "execution_count": 3,
          "metadata": {},
          "output_type": "execute_result"
        }
      ],
      "source": [
        "b = {\"apple\", \"banana\", \"banana\", \"orange\", \"banana\", \"peach\"}\n",
        "b"
      ]
    },
    {
      "cell_type": "markdown",
      "id": "Ue0tuYK9YcHR",
      "metadata": {
        "id": "Ue0tuYK9YcHR"
      },
      "source": [
        "### `set()`"
      ]
    },
    {
      "cell_type": "code",
      "execution_count": 4,
      "id": "9a4e657d",
      "metadata": {
        "colab": {
          "base_uri": "https://localhost:8080/"
        },
        "id": "9a4e657d",
        "outputId": "873e9f4a-0ef0-4486-acc0-1a4bbe96cebe"
      },
      "outputs": [
        {
          "name": "stdout",
          "output_type": "stream",
          "text": [
            "{'a', 'e', 'm', 'A', 'T', 'c', 'h', 'y', 'd'}\n",
            "{1, 3, 5, 7, 9}\n",
            "set()\n"
          ]
        }
      ],
      "source": [
        "e = set(\"TechAcademy\")\n",
        "f = set(range(1, 11, 2))\n",
        "g = set()\n",
        "print(e)\n",
        "print(f)\n",
        "print(g)"
      ]
    },
    {
      "cell_type": "markdown",
      "id": "c991f538",
      "metadata": {
        "id": "c991f538"
      },
      "source": [
        "### セットの内包表記"
      ]
    },
    {
      "cell_type": "code",
      "execution_count": 5,
      "id": "eb76654f",
      "metadata": {
        "colab": {
          "base_uri": "https://localhost:8080/"
        },
        "id": "eb76654f",
        "outputId": "3645f4a1-ae82-492a-eb1c-24a33d51bc94"
      },
      "outputs": [
        {
          "data": {
            "text/plain": [
              "{0, 2, 4, 6, 8, 10, 12, 14, 16, 18, 20}"
            ]
          },
          "execution_count": 5,
          "metadata": {},
          "output_type": "execute_result"
        }
      ],
      "source": [
        "nums_d = {num * 2 for num in range(0, 11)}\n",
        "nums_d"
      ]
    },
    {
      "cell_type": "markdown",
      "id": "4ef04be8",
      "metadata": {
        "id": "4ef04be8"
      },
      "source": [
        "## セットを使う"
      ]
    },
    {
      "cell_type": "markdown",
      "id": "4NjwXvBLY3Ar",
      "metadata": {
        "id": "4NjwXvBLY3Ar"
      },
      "source": [
        "### 要素の新規登録"
      ]
    },
    {
      "cell_type": "code",
      "execution_count": 6,
      "id": "cdb254b4",
      "metadata": {
        "colab": {
          "base_uri": "https://localhost:8080/"
        },
        "id": "cdb254b4",
        "outputId": "fd278569-f3fe-4a60-e80c-eba54f5284c1"
      },
      "outputs": [
        {
          "name": "stdout",
          "output_type": "stream",
          "text": [
            "{'baseball'}\n",
            "{'baseball', 'soccer'}\n",
            "{'baseball', 'soccer'}\n"
          ]
        }
      ],
      "source": [
        "sports = set()\n",
        "sports.add(\"baseball\")\n",
        "print(sports)\n",
        "sports.add(\"soccer\")\n",
        "print(sports)\n",
        "sports.add(\"soccer\")\n",
        "print(sports)"
      ]
    },
    {
      "cell_type": "markdown",
      "id": "e531600d",
      "metadata": {
        "id": "e531600d"
      },
      "source": [
        "### 要素の削除と更新\n"
      ]
    },
    {
      "cell_type": "code",
      "execution_count": 7,
      "id": "bae0b840",
      "metadata": {
        "colab": {
          "base_uri": "https://localhost:8080/"
        },
        "id": "bae0b840",
        "outputId": "254c1eb3-81e9-4d3d-dee2-3ae16d5f1f62"
      },
      "outputs": [
        {
          "data": {
            "text/plain": [
              "{'baseball', 'soccer', 'volleyball'}"
            ]
          },
          "execution_count": 7,
          "metadata": {},
          "output_type": "execute_result"
        }
      ],
      "source": [
        "sports = set()\n",
        "sports.add(\"baseball\")\n",
        "sports.add(\"soccer\")\n",
        "sports.add(\"golf\")\n",
        "sports.add(\"volleyball\")\n",
        "sports.remove(\"golf\")\n",
        "sports"
      ]
    },
    {
      "cell_type": "code",
      "execution_count": 8,
      "id": "JmlpLQ0bDHTg",
      "metadata": {
        "colab": {
          "base_uri": "https://localhost:8080/",
          "height": 180
        },
        "id": "JmlpLQ0bDHTg",
        "outputId": "2f25d321-0c2c-4cd3-beb7-464e3751e814"
      },
      "outputs": [
        {
          "ename": "KeyError",
          "evalue": "'golf'",
          "output_type": "error",
          "traceback": [
            "\u001b[31m---------------------------------------------------------------------------\u001b[39m",
            "\u001b[31mKeyError\u001b[39m                                  Traceback (most recent call last)",
            "\u001b[36mCell\u001b[39m\u001b[36m \u001b[39m\u001b[32mIn[8]\u001b[39m\u001b[32m, line 1\u001b[39m\n\u001b[32m----> \u001b[39m\u001b[32m1\u001b[39m \u001b[43msports\u001b[49m\u001b[43m.\u001b[49m\u001b[43mremove\u001b[49m\u001b[43m(\u001b[49m\u001b[33;43m\"\u001b[39;49m\u001b[33;43mgolf\u001b[39;49m\u001b[33;43m\"\u001b[39;49m\u001b[43m)\u001b[49m\n",
            "\u001b[31mKeyError\u001b[39m: 'golf'"
          ]
        }
      ],
      "source": [
        "sports.remove(\"golf\")"
      ]
    },
    {
      "cell_type": "code",
      "execution_count": 9,
      "id": "lCl5nq8TDebF",
      "metadata": {
        "id": "lCl5nq8TDebF"
      },
      "outputs": [],
      "source": [
        "sports.discard(\"golf\")"
      ]
    },
    {
      "cell_type": "code",
      "execution_count": 10,
      "id": "JI__borWEE08",
      "metadata": {
        "colab": {
          "base_uri": "https://localhost:8080/"
        },
        "id": "JI__borWEE08",
        "outputId": "b0155c1e-28bd-40ac-e1bf-8594a7dd1121"
      },
      "outputs": [
        {
          "data": {
            "text/plain": [
              "{'baseball', 'soccer', 'volleyball'}"
            ]
          },
          "execution_count": 10,
          "metadata": {},
          "output_type": "execute_result"
        }
      ],
      "source": [
        "sports"
      ]
    },
    {
      "cell_type": "code",
      "execution_count": 11,
      "id": "gFzxibsCEFlW",
      "metadata": {
        "colab": {
          "base_uri": "https://localhost:8080/"
        },
        "id": "gFzxibsCEFlW",
        "outputId": "4dc128d7-a82d-422a-bde1-79c8e8c04295"
      },
      "outputs": [
        {
          "data": {
            "text/plain": [
              "set()"
            ]
          },
          "execution_count": 11,
          "metadata": {},
          "output_type": "execute_result"
        }
      ],
      "source": [
        "sports.clear()\n",
        "sports"
      ]
    },
    {
      "cell_type": "code",
      "execution_count": 12,
      "id": "1OpQntfnEOao",
      "metadata": {
        "colab": {
          "base_uri": "https://localhost:8080/"
        },
        "id": "1OpQntfnEOao",
        "outputId": "1d56c52d-0762-478f-bf91-910c6b104753"
      },
      "outputs": [
        {
          "data": {
            "text/plain": [
              "set()"
            ]
          },
          "execution_count": 12,
          "metadata": {},
          "output_type": "execute_result"
        }
      ],
      "source": [
        "sports = {'baseball', 'soccer', 'volleyball'}\n",
        "sports = set()\n",
        "sports"
      ]
    },
    {
      "cell_type": "code",
      "execution_count": 13,
      "id": "IR6J4dPpES7o",
      "metadata": {
        "colab": {
          "base_uri": "https://localhost:8080/",
          "height": 197
        },
        "id": "IR6J4dPpES7o",
        "outputId": "089751e5-155c-4ffc-854f-b2f84a641826"
      },
      "outputs": [
        {
          "ename": "TypeError",
          "evalue": "'set' object does not support item assignment",
          "output_type": "error",
          "traceback": [
            "\u001b[31m---------------------------------------------------------------------------\u001b[39m",
            "\u001b[31mTypeError\u001b[39m                                 Traceback (most recent call last)",
            "\u001b[36mCell\u001b[39m\u001b[36m \u001b[39m\u001b[32mIn[13]\u001b[39m\u001b[32m, line 2\u001b[39m\n\u001b[32m      1\u001b[39m sports = {\u001b[33m'\u001b[39m\u001b[33mbaseball\u001b[39m\u001b[33m'\u001b[39m, \u001b[33m'\u001b[39m\u001b[33msoccer\u001b[39m\u001b[33m'\u001b[39m, \u001b[33m'\u001b[39m\u001b[33mvolleyball\u001b[39m\u001b[33m'\u001b[39m}\n\u001b[32m----> \u001b[39m\u001b[32m2\u001b[39m \u001b[43msports\u001b[49m\u001b[43m[\u001b[49m\u001b[32;43m2\u001b[39;49m\u001b[43m]\u001b[49m = \u001b[33m\"\u001b[39m\u001b[33mkickboxing\u001b[39m\u001b[33m\"\u001b[39m\n",
            "\u001b[31mTypeError\u001b[39m: 'set' object does not support item assignment"
          ]
        }
      ],
      "source": [
        "sports = {'baseball', 'soccer', 'volleyball'}\n",
        "sports[2] = \"kickboxing\""
      ]
    },
    {
      "cell_type": "markdown",
      "id": "21089469",
      "metadata": {
        "id": "21089469"
      },
      "source": [
        "### 要素の検索"
      ]
    },
    {
      "cell_type": "code",
      "execution_count": 14,
      "id": "f5ebG2vvEbfx",
      "metadata": {
        "colab": {
          "base_uri": "https://localhost:8080/"
        },
        "id": "f5ebG2vvEbfx",
        "outputId": "322c1ab9-cb3b-4f42-aa22-0f9830f7da10"
      },
      "outputs": [
        {
          "data": {
            "text/plain": [
              "{'baseball', 'soccer', 'volleyball'}"
            ]
          },
          "execution_count": 14,
          "metadata": {},
          "output_type": "execute_result"
        }
      ],
      "source": [
        "sports = {'baseball', 'soccer', 'volleyball'}\n",
        "sports"
      ]
    },
    {
      "cell_type": "code",
      "execution_count": 15,
      "id": "-pIk17SUEgQd",
      "metadata": {
        "colab": {
          "base_uri": "https://localhost:8080/"
        },
        "id": "-pIk17SUEgQd",
        "outputId": "859c4a61-4104-4d0e-f614-b551c74b8003"
      },
      "outputs": [
        {
          "data": {
            "text/plain": [
              "True"
            ]
          },
          "execution_count": 15,
          "metadata": {},
          "output_type": "execute_result"
        }
      ],
      "source": [
        "\"baseball\" in sports"
      ]
    },
    {
      "cell_type": "code",
      "execution_count": 16,
      "id": "1a7c9ab2",
      "metadata": {
        "colab": {
          "base_uri": "https://localhost:8080/"
        },
        "id": "1a7c9ab2",
        "outputId": "8cba8222-5cac-4548-b7a1-f100bed7af87"
      },
      "outputs": [
        {
          "data": {
            "text/plain": [
              "False"
            ]
          },
          "execution_count": 16,
          "metadata": {},
          "output_type": "execute_result"
        }
      ],
      "source": [
        "\"tennis\" in sports"
      ]
    },
    {
      "cell_type": "code",
      "execution_count": 17,
      "id": "5ZoFVMLnDONB",
      "metadata": {
        "colab": {
          "base_uri": "https://localhost:8080/"
        },
        "id": "5ZoFVMLnDONB",
        "outputId": "3a9fa9d7-a3dd-4563-95cf-3ca5e4a23411"
      },
      "outputs": [
        {
          "data": {
            "text/plain": [
              "True"
            ]
          },
          "execution_count": 17,
          "metadata": {},
          "output_type": "execute_result"
        }
      ],
      "source": [
        "\"tennis\" not in sports"
      ]
    },
    {
      "cell_type": "markdown",
      "id": "af6f3354",
      "metadata": {
        "id": "af6f3354"
      },
      "source": [
        "### 変更不可のセット（frozenset）"
      ]
    },
    {
      "cell_type": "code",
      "execution_count": 18,
      "id": "R7qnbILxEi-N",
      "metadata": {
        "colab": {
          "base_uri": "https://localhost:8080/",
          "height": 197
        },
        "id": "R7qnbILxEi-N",
        "outputId": "1c474b73-3394-424f-d071-1e04bdb3cd56"
      },
      "outputs": [
        {
          "ename": "AttributeError",
          "evalue": "'frozenset' object has no attribute 'add'",
          "output_type": "error",
          "traceback": [
            "\u001b[31m---------------------------------------------------------------------------\u001b[39m",
            "\u001b[31mAttributeError\u001b[39m                            Traceback (most recent call last)",
            "\u001b[36mCell\u001b[39m\u001b[36m \u001b[39m\u001b[32mIn[18]\u001b[39m\u001b[32m, line 2\u001b[39m\n\u001b[32m      1\u001b[39m sports = \u001b[38;5;28mfrozenset\u001b[39m(sports)\n\u001b[32m----> \u001b[39m\u001b[32m2\u001b[39m \u001b[43msports\u001b[49m\u001b[43m.\u001b[49m\u001b[43madd\u001b[49m(\u001b[33m\"\u001b[39m\u001b[33mgolf\u001b[39m\u001b[33m\"\u001b[39m)\n",
            "\u001b[31mAttributeError\u001b[39m: 'frozenset' object has no attribute 'add'"
          ]
        }
      ],
      "source": [
        "sports = frozenset(sports)\n",
        "sports.add(\"golf\")"
      ]
    },
    {
      "cell_type": "markdown",
      "id": "0f62dff2",
      "metadata": {
        "id": "0f62dff2"
      },
      "source": [
        "## セットの集合演算"
      ]
    },
    {
      "cell_type": "code",
      "execution_count": null,
      "id": "CZmuZ2f35O33",
      "metadata": {
        "id": "CZmuZ2f35O33"
      },
      "outputs": [],
      "source": []
    },
    {
      "cell_type": "markdown",
      "id": "XkGWrkLfanAw",
      "metadata": {
        "id": "XkGWrkLfanAw"
      },
      "source": [
        "### 和集合"
      ]
    },
    {
      "cell_type": "code",
      "execution_count": 19,
      "id": "cfa1cea4",
      "metadata": {
        "colab": {
          "base_uri": "https://localhost:8080/"
        },
        "id": "cfa1cea4",
        "outputId": "a355558d-7b22-4964-9171-e94c8b9d91e9"
      },
      "outputs": [
        {
          "data": {
            "text/plain": [
              "{'apple', 'banana', 'grape', 'orange', 'peach'}"
            ]
          },
          "execution_count": 19,
          "metadata": {},
          "output_type": "execute_result"
        }
      ],
      "source": [
        "f1 = {\"apple\", \"banana\", \"orange\"}\n",
        "f2 = {\"peach\", \"orange\", \"grape\"}\n",
        "f3 = f1 | f2\n",
        "f3"
      ]
    },
    {
      "cell_type": "markdown",
      "id": "33ec980a",
      "metadata": {
        "id": "33ec980a"
      },
      "source": [
        "### 積集合"
      ]
    },
    {
      "cell_type": "code",
      "execution_count": 20,
      "id": "304ce606",
      "metadata": {
        "colab": {
          "base_uri": "https://localhost:8080/"
        },
        "id": "304ce606",
        "outputId": "c1451095-c348-4086-d375-d9956dae51e8"
      },
      "outputs": [
        {
          "data": {
            "text/plain": [
              "{'orange'}"
            ]
          },
          "execution_count": 20,
          "metadata": {},
          "output_type": "execute_result"
        }
      ],
      "source": [
        "f4 = f1 & f2\n",
        "f4"
      ]
    },
    {
      "cell_type": "markdown",
      "id": "57a44f59",
      "metadata": {
        "id": "57a44f59"
      },
      "source": [
        "### 差集合"
      ]
    },
    {
      "cell_type": "code",
      "execution_count": 21,
      "id": "4d7dff88",
      "metadata": {
        "colab": {
          "base_uri": "https://localhost:8080/"
        },
        "id": "4d7dff88",
        "outputId": "875fef84-406d-4913-af3c-29cfb77f38d2"
      },
      "outputs": [
        {
          "data": {
            "text/plain": [
              "{'apple', 'banana'}"
            ]
          },
          "execution_count": 21,
          "metadata": {},
          "output_type": "execute_result"
        }
      ],
      "source": [
        "f5 = f1 - f2\n",
        "f5"
      ]
    },
    {
      "cell_type": "markdown",
      "id": "050bb593",
      "metadata": {
        "id": "050bb593"
      },
      "source": [
        "### 破壊的な集合演算"
      ]
    },
    {
      "cell_type": "code",
      "execution_count": 22,
      "id": "83ee2661",
      "metadata": {
        "colab": {
          "base_uri": "https://localhost:8080/"
        },
        "id": "83ee2661",
        "outputId": "4faea399-9646-4af6-fe56-5303c0b027de"
      },
      "outputs": [
        {
          "data": {
            "text/plain": [
              "{'apple', 'banana', 'grape', 'orange', 'peach'}"
            ]
          },
          "execution_count": 22,
          "metadata": {},
          "output_type": "execute_result"
        }
      ],
      "source": [
        "# 破壊的な和集合：|= 演算子\n",
        "f01 = {\"apple\", \"banana\", \"orange\"}\n",
        "f02 = {\"orange\", \"peach\", \"grape\"}\n",
        "f01 |= f02\n",
        "f01"
      ]
    },
    {
      "cell_type": "code",
      "execution_count": 23,
      "id": "3jQTqOAe6Ck7",
      "metadata": {
        "colab": {
          "base_uri": "https://localhost:8080/"
        },
        "id": "3jQTqOAe6Ck7",
        "outputId": "f0cbfe20-005b-42ce-d459-330f948656da"
      },
      "outputs": [
        {
          "data": {
            "text/plain": [
              "{'orange'}"
            ]
          },
          "execution_count": 23,
          "metadata": {},
          "output_type": "execute_result"
        }
      ],
      "source": [
        "# 破壊的な積集合：&= 演算子\n",
        "f01 = {\"apple\", \"banana\", \"orange\"}\n",
        "f02 = {\"orange\", \"peach\", \"grape\"}\n",
        "f01 &= f02\n",
        "f01"
      ]
    },
    {
      "cell_type": "code",
      "execution_count": 24,
      "id": "uT4N2_6r6gBE",
      "metadata": {
        "colab": {
          "base_uri": "https://localhost:8080/"
        },
        "id": "uT4N2_6r6gBE",
        "outputId": "78e73fb8-47a8-4c4a-b1de-bab730cb7084"
      },
      "outputs": [
        {
          "data": {
            "text/plain": [
              "{'apple', 'banana'}"
            ]
          },
          "execution_count": 24,
          "metadata": {},
          "output_type": "execute_result"
        }
      ],
      "source": [
        "# 破壊的な差集合：-= 演算子\n",
        "f01 = {\"apple\", \"banana\", \"orange\"}\n",
        "f02 = {\"orange\", \"peach\", \"grape\"}\n",
        "f01 -= f02\n",
        "f01"
      ]
    },
    {
      "cell_type": "markdown",
      "id": "b580d11c",
      "metadata": {
        "id": "b580d11c"
      },
      "source": [
        "### 部分集合"
      ]
    },
    {
      "cell_type": "code",
      "execution_count": 25,
      "id": "59eeaf19",
      "metadata": {
        "colab": {
          "base_uri": "https://localhost:8080/"
        },
        "id": "59eeaf19",
        "outputId": "94ad1534-0340-4500-b65f-ebc8bbb52c25"
      },
      "outputs": [
        {
          "name": "stdout",
          "output_type": "stream",
          "text": [
            "True\n"
          ]
        }
      ],
      "source": [
        "a = {\"apple\", \"banana\"}\n",
        "b = {\"apple\", \"banana\", \"orange\", \"peach\", \"grape\"}\n",
        "print(a <= b)"
      ]
    },
    {
      "cell_type": "code",
      "execution_count": 26,
      "id": "Ig099O07GOyc",
      "metadata": {
        "colab": {
          "base_uri": "https://localhost:8080/"
        },
        "id": "Ig099O07GOyc",
        "outputId": "408fc705-a3d3-4c04-a1ff-0042b262b331"
      },
      "outputs": [
        {
          "name": "stdout",
          "output_type": "stream",
          "text": [
            "False\n"
          ]
        }
      ],
      "source": [
        "a = {\"apple\", \"banana\", \"bilingual\"}\n",
        "b = {\"apple\", \"banana\", \"orange\", \"peach\", \"grape\"}\n",
        "print(a <= b)"
      ]
    },
    {
      "cell_type": "markdown",
      "id": "V9CDZCKZHJeG",
      "metadata": {
        "id": "V9CDZCKZHJeG"
      },
      "source": [
        "## 辞書を作る"
      ]
    },
    {
      "cell_type": "markdown",
      "id": "qHOcALn_8ofP",
      "metadata": {
        "id": "qHOcALn_8ofP"
      },
      "source": [
        "### `{ }` で作る"
      ]
    },
    {
      "cell_type": "code",
      "execution_count": 27,
      "id": "a7de4fb9",
      "metadata": {
        "colab": {
          "base_uri": "https://localhost:8080/"
        },
        "id": "a7de4fb9",
        "outputId": "c832d73f-66a2-44e5-e589-98bf39be6bf9"
      },
      "outputs": [
        {
          "data": {
            "text/plain": [
              "{'first_name': 'Taro',\n",
              " 'last_name': 'Tanaka',\n",
              " 'age': 25,\n",
              " 'is_male': True,\n",
              " 'tel_no': '090-1234-5678'}"
            ]
          },
          "execution_count": 27,
          "metadata": {},
          "output_type": "execute_result"
        }
      ],
      "source": [
        "contact = {\"first_name\": \"Taro\", \"last_name\": \"Tanaka\", \"age\": 25, \"is_male\": True, \"tel_no\": \"090-1234-5678\"}\n",
        "contact"
      ]
    },
    {
      "cell_type": "code",
      "execution_count": 28,
      "id": "0d8c84e3",
      "metadata": {
        "colab": {
          "base_uri": "https://localhost:8080/"
        },
        "id": "0d8c84e3",
        "outputId": "fdff98d4-17e5-400d-bfdf-26e41f8fafe0"
      },
      "outputs": [
        {
          "data": {
            "text/plain": [
              "{'foo': 3, 'bar': 5, 'hoge': 7}"
            ]
          },
          "execution_count": 28,
          "metadata": {},
          "output_type": "execute_result"
        }
      ],
      "source": [
        "d = {\"foo\": 1, \"foo\": 3, \"bar\": 5, \"hoge\": 7}\n",
        "d"
      ]
    },
    {
      "cell_type": "code",
      "execution_count": 29,
      "id": "8807015d",
      "metadata": {
        "colab": {
          "base_uri": "https://localhost:8080/"
        },
        "id": "8807015d",
        "outputId": "179faada-e653-4225-a24d-dd700ef3acb9"
      },
      "outputs": [
        {
          "data": {
            "text/plain": [
              "{1: 10, 3: 30, 5: 50, 7: 70}"
            ]
          },
          "execution_count": 29,
          "metadata": {},
          "output_type": "execute_result"
        }
      ],
      "source": [
        "nums = {1: 10, 3: 30, 5: 50, 7: 70}\n",
        "nums"
      ]
    },
    {
      "cell_type": "code",
      "execution_count": 30,
      "id": "8b4bfd12",
      "metadata": {
        "colab": {
          "base_uri": "https://localhost:8080/"
        },
        "id": "8b4bfd12",
        "outputId": "477e28ac-96a6-49fa-d773-b028dba172af"
      },
      "outputs": [
        {
          "data": {
            "text/plain": [
              "{(2018, 5, 1): 28, (2018, 5, 2): 25, (2018, 5, 3): 27, (2018, 5, 4): 24}"
            ]
          },
          "execution_count": 30,
          "metadata": {},
          "output_type": "execute_result"
        }
      ],
      "source": [
        "high_degree = {(2018, 5, 1): 28, (2018, 5, 2): 25, (2018, 5, 3): 27, (2018, 5, 4): 24}\n",
        "high_degree"
      ]
    },
    {
      "cell_type": "markdown",
      "id": "81326491",
      "metadata": {
        "id": "81326491"
      },
      "source": [
        "### `dict()`"
      ]
    },
    {
      "cell_type": "markdown",
      "id": "0JLmdlzxAys_",
      "metadata": {
        "id": "0JLmdlzxAys_"
      },
      "source": [
        "#### タプルを複数もつリストから作る"
      ]
    },
    {
      "cell_type": "code",
      "execution_count": 31,
      "id": "7aca07da",
      "metadata": {
        "colab": {
          "base_uri": "https://localhost:8080/"
        },
        "id": "7aca07da",
        "outputId": "2761451a-8e52-4ce3-be38-5ed2d91fafae"
      },
      "outputs": [
        {
          "data": {
            "text/plain": [
              "{'foo': 3, 'bar': 5, 'hoge': 7}"
            ]
          },
          "execution_count": 31,
          "metadata": {},
          "output_type": "execute_result"
        }
      ],
      "source": [
        "d1 = dict( [ (\"foo\", 3), (\"bar\", 5), (\"hoge\", 7) ] )\n",
        "d1"
      ]
    },
    {
      "cell_type": "markdown",
      "id": "909a4e98",
      "metadata": {
        "id": "909a4e98"
      },
      "source": [
        "#### `zip()`から作る"
      ]
    },
    {
      "cell_type": "code",
      "execution_count": 32,
      "id": "93ead903",
      "metadata": {
        "colab": {
          "base_uri": "https://localhost:8080/"
        },
        "id": "93ead903",
        "outputId": "b75ab6b5-b48f-438b-9e48-81750147c9e1"
      },
      "outputs": [
        {
          "data": {
            "text/plain": [
              "{'foo': 3, 'bar': 5, 'hoge': 7}"
            ]
          },
          "execution_count": 32,
          "metadata": {},
          "output_type": "execute_result"
        }
      ],
      "source": [
        "keys = [\"foo\", \"bar\", \"hoge\"]\n",
        "values = [3, 5, 7]\n",
        "d2 = dict( zip(keys, values) )\n",
        "d2"
      ]
    },
    {
      "cell_type": "markdown",
      "id": "3373e365",
      "metadata": {
        "id": "3373e365"
      },
      "source": [
        "#### 「`キー=値`」という記述から作る"
      ]
    },
    {
      "cell_type": "code",
      "execution_count": 33,
      "id": "077b4b07",
      "metadata": {
        "colab": {
          "base_uri": "https://localhost:8080/"
        },
        "id": "077b4b07",
        "outputId": "c491a544-5829-4a4b-c0ac-8b5068cb6b21"
      },
      "outputs": [
        {
          "data": {
            "text/plain": [
              "{'foo': 3, 'bar': 5, 'hoge': 7}"
            ]
          },
          "execution_count": 33,
          "metadata": {},
          "output_type": "execute_result"
        }
      ],
      "source": [
        "d3 = dict(foo = 3, bar = 5, hoge = 7)\n",
        "d3"
      ]
    },
    {
      "cell_type": "markdown",
      "id": "KlYcNxsz-X_o",
      "metadata": {
        "id": "KlYcNxsz-X_o"
      },
      "source": [
        "#### `dict.fromkeys()`を使う"
      ]
    },
    {
      "cell_type": "code",
      "execution_count": 34,
      "id": "9oEQdyOZ-cy2",
      "metadata": {
        "colab": {
          "base_uri": "https://localhost:8080/"
        },
        "id": "9oEQdyOZ-cy2",
        "outputId": "38947dee-b24a-4b08-e6b0-41adbd319e97"
      },
      "outputs": [
        {
          "data": {
            "text/plain": [
              "{'p': 0, 'y': 0, 't': 0, 'h': 0, 'o': 0, 'n': 0}"
            ]
          },
          "execution_count": 34,
          "metadata": {},
          "output_type": "execute_result"
        }
      ],
      "source": [
        "char_count = dict.fromkeys(list(\"python\"), 0)\n",
        "char_count"
      ]
    },
    {
      "cell_type": "markdown",
      "id": "7701b5d9",
      "metadata": {
        "id": "7701b5d9"
      },
      "source": [
        "### 辞書の内包表記"
      ]
    },
    {
      "cell_type": "code",
      "execution_count": 35,
      "id": "2a7c9558",
      "metadata": {
        "colab": {
          "base_uri": "https://localhost:8080/"
        },
        "id": "2a7c9558",
        "outputId": "60a380a3-e609-4095-b8f2-313f1a788d96"
      },
      "outputs": [
        {
          "data": {
            "text/plain": [
              "{0: 0, 1: 2, 2: 4, 3: 6, 4: 8, 5: 10}"
            ]
          },
          "execution_count": 35,
          "metadata": {},
          "output_type": "execute_result"
        }
      ],
      "source": [
        "nums = {i: i*2 for i in range(6)}\n",
        "nums"
      ]
    },
    {
      "cell_type": "markdown",
      "id": "c7668699",
      "metadata": {
        "id": "c7668699"
      },
      "source": [
        "## 辞書を使う"
      ]
    },
    {
      "cell_type": "markdown",
      "id": "OkYjpPA6BAEO",
      "metadata": {
        "id": "OkYjpPA6BAEO"
      },
      "source": [
        "### 要素の追加・更新と参照"
      ]
    },
    {
      "cell_type": "code",
      "execution_count": 36,
      "id": "fZUZzQbuIMHE",
      "metadata": {
        "colab": {
          "base_uri": "https://localhost:8080/"
        },
        "id": "fZUZzQbuIMHE",
        "outputId": "099ef4f1-324b-4940-fd9f-8aa796220637"
      },
      "outputs": [
        {
          "data": {
            "text/plain": [
              "{'Hokkaido': 1, 'Aomori': 2, 'Tokyo': 13, 'Osaka': 27}"
            ]
          },
          "execution_count": 36,
          "metadata": {},
          "output_type": "execute_result"
        }
      ],
      "source": [
        "pref_code = {}\n",
        "pref_code[\"Hokkaido\"] = 1\n",
        "pref_code[\"Aomori\"] = 2\n",
        "pref_code[\"Tokyo\"] = 12\n",
        "pref_code[\"Tokyo\"] = 13\n",
        "pref_code[\"Osaka\"] = 27\n",
        "pref_code"
      ]
    },
    {
      "cell_type": "code",
      "execution_count": 37,
      "id": "E6g5jHEBINVk",
      "metadata": {
        "colab": {
          "base_uri": "https://localhost:8080/"
        },
        "id": "E6g5jHEBINVk",
        "outputId": "c6d841ff-14e5-4fc8-d32c-a57e1f3866a3"
      },
      "outputs": [
        {
          "data": {
            "text/plain": [
              "13"
            ]
          },
          "execution_count": 37,
          "metadata": {},
          "output_type": "execute_result"
        }
      ],
      "source": [
        "pref_code[\"Tokyo\"]"
      ]
    },
    {
      "cell_type": "code",
      "execution_count": 38,
      "id": "fc18c7a9",
      "metadata": {
        "colab": {
          "base_uri": "https://localhost:8080/",
          "height": 180
        },
        "id": "fc18c7a9",
        "outputId": "bd872234-8b73-4c40-c60d-b2cb8583b758"
      },
      "outputs": [
        {
          "ename": "KeyError",
          "evalue": "'Fukuoka'",
          "output_type": "error",
          "traceback": [
            "\u001b[31m---------------------------------------------------------------------------\u001b[39m",
            "\u001b[31mKeyError\u001b[39m                                  Traceback (most recent call last)",
            "\u001b[36mCell\u001b[39m\u001b[36m \u001b[39m\u001b[32mIn[38]\u001b[39m\u001b[32m, line 1\u001b[39m\n\u001b[32m----> \u001b[39m\u001b[32m1\u001b[39m \u001b[43mpref_code\u001b[49m\u001b[43m[\u001b[49m\u001b[33;43m\"\u001b[39;49m\u001b[33;43mFukuoka\u001b[39;49m\u001b[33;43m\"\u001b[39;49m\u001b[43m]\u001b[49m\n",
            "\u001b[31mKeyError\u001b[39m: 'Fukuoka'"
          ]
        }
      ],
      "source": [
        "pref_code[\"Fukuoka\"]"
      ]
    },
    {
      "cell_type": "code",
      "execution_count": 39,
      "id": "XKNDTbazISuH",
      "metadata": {
        "colab": {
          "base_uri": "https://localhost:8080/"
        },
        "id": "XKNDTbazISuH",
        "outputId": "6e9d1f92-5c82-436a-869e-cf11c6e9b1e6"
      },
      "outputs": [
        {
          "data": {
            "text/plain": [
              "1"
            ]
          },
          "execution_count": 39,
          "metadata": {},
          "output_type": "execute_result"
        }
      ],
      "source": [
        "pref_code.get(\"Hokkaido\")"
      ]
    },
    {
      "cell_type": "code",
      "execution_count": 40,
      "id": "aaf5da9e",
      "metadata": {
        "id": "aaf5da9e"
      },
      "outputs": [],
      "source": [
        "pref_code.get(\"Okinawa\")"
      ]
    },
    {
      "cell_type": "code",
      "execution_count": 41,
      "id": "v9NHb636IVjB",
      "metadata": {
        "id": "v9NHb636IVjB"
      },
      "outputs": [],
      "source": [
        "high_degree = {(2018, 5, 1): 28, (2018, 5, 2): 25, (2018, 5, 3): 27, (2018, 5, 4): 24}"
      ]
    },
    {
      "cell_type": "code",
      "execution_count": 42,
      "id": "ZGZdlfxbIXIs",
      "metadata": {
        "colab": {
          "base_uri": "https://localhost:8080/"
        },
        "id": "ZGZdlfxbIXIs",
        "outputId": "bb42b031-c855-439d-fd2b-79d5ba1d7f07"
      },
      "outputs": [
        {
          "data": {
            "text/plain": [
              "25"
            ]
          },
          "execution_count": 42,
          "metadata": {},
          "output_type": "execute_result"
        }
      ],
      "source": [
        "high_degree[(2018, 5, 2)]"
      ]
    },
    {
      "cell_type": "code",
      "execution_count": 43,
      "id": "48551233",
      "metadata": {
        "colab": {
          "base_uri": "https://localhost:8080/"
        },
        "id": "48551233",
        "outputId": "a2ebd0e6-3671-4867-82a3-70ec975ef466"
      },
      "outputs": [
        {
          "data": {
            "text/plain": [
              "27"
            ]
          },
          "execution_count": 43,
          "metadata": {},
          "output_type": "execute_result"
        }
      ],
      "source": [
        "high_degree.get((2018, 5, 3))"
      ]
    },
    {
      "cell_type": "markdown",
      "id": "4dd5058d",
      "metadata": {
        "id": "4dd5058d"
      },
      "source": [
        "### 要素の削除"
      ]
    },
    {
      "cell_type": "code",
      "execution_count": 44,
      "id": "TdPo2J_kIbCU",
      "metadata": {
        "colab": {
          "base_uri": "https://localhost:8080/"
        },
        "id": "TdPo2J_kIbCU",
        "outputId": "c216a6dc-b108-4207-bfcc-739aacce4b71"
      },
      "outputs": [
        {
          "data": {
            "text/plain": [
              "1"
            ]
          },
          "execution_count": 44,
          "metadata": {},
          "output_type": "execute_result"
        }
      ],
      "source": [
        "pref_code.pop(\"Hokkaido\")"
      ]
    },
    {
      "cell_type": "code",
      "execution_count": 45,
      "id": "f6362fa7",
      "metadata": {
        "colab": {
          "base_uri": "https://localhost:8080/"
        },
        "id": "f6362fa7",
        "outputId": "a30f0538-6139-4689-b61c-89290a82ba1b"
      },
      "outputs": [
        {
          "data": {
            "text/plain": [
              "{'Aomori': 2, 'Tokyo': 13, 'Osaka': 27}"
            ]
          },
          "execution_count": 45,
          "metadata": {},
          "output_type": "execute_result"
        }
      ],
      "source": [
        "pref_code"
      ]
    },
    {
      "cell_type": "code",
      "execution_count": 46,
      "id": "milOkeuTCil1",
      "metadata": {
        "colab": {
          "base_uri": "https://localhost:8080/"
        },
        "id": "milOkeuTCil1",
        "outputId": "c3429715-d3ac-44fb-a453-4b5172b35caa"
      },
      "outputs": [
        {
          "data": {
            "text/plain": [
              "{'Hokkaido': 1, 'Aomori': 2, 'Tokyo': 13, 'Osaka': 27}"
            ]
          },
          "execution_count": 46,
          "metadata": {},
          "output_type": "execute_result"
        }
      ],
      "source": [
        "pref_code2 = {'Hokkaido': 1, 'Aomori': 2, 'Tokyo': 13, 'Osaka': 27}\n",
        "pref_code2"
      ]
    },
    {
      "cell_type": "code",
      "execution_count": 47,
      "id": "0z81mKAWCyVI",
      "metadata": {
        "colab": {
          "base_uri": "https://localhost:8080/"
        },
        "id": "0z81mKAWCyVI",
        "outputId": "7ccdfff4-0655-423f-b141-6784fc3c5556"
      },
      "outputs": [
        {
          "data": {
            "text/plain": [
              "{}"
            ]
          },
          "execution_count": 47,
          "metadata": {},
          "output_type": "execute_result"
        }
      ],
      "source": [
        "pref_code2.clear()\n",
        "pref_code2"
      ]
    },
    {
      "cell_type": "markdown",
      "id": "4d93add6",
      "metadata": {
        "id": "4d93add6"
      },
      "source": [
        "### 要素の検索"
      ]
    },
    {
      "cell_type": "code",
      "execution_count": 48,
      "id": "_iDwy3mVIesG",
      "metadata": {
        "colab": {
          "base_uri": "https://localhost:8080/"
        },
        "id": "_iDwy3mVIesG",
        "outputId": "3262387d-0ab1-4d50-cb4c-d3fc8a7e4fa7"
      },
      "outputs": [
        {
          "data": {
            "text/plain": [
              "True"
            ]
          },
          "execution_count": 48,
          "metadata": {},
          "output_type": "execute_result"
        }
      ],
      "source": [
        "\"Tokyo\" in pref_code"
      ]
    },
    {
      "cell_type": "code",
      "execution_count": 49,
      "id": "8d5fd6bd",
      "metadata": {
        "colab": {
          "base_uri": "https://localhost:8080/"
        },
        "id": "8d5fd6bd",
        "outputId": "d1579edf-0f60-45b3-d973-d6aac1e3873d"
      },
      "outputs": [
        {
          "data": {
            "text/plain": [
              "False"
            ]
          },
          "execution_count": 49,
          "metadata": {},
          "output_type": "execute_result"
        }
      ],
      "source": [
        "\"Fukuoka\" in pref_code"
      ]
    },
    {
      "cell_type": "code",
      "execution_count": 50,
      "id": "J4xSG4FKDd5D",
      "metadata": {
        "colab": {
          "base_uri": "https://localhost:8080/"
        },
        "id": "J4xSG4FKDd5D",
        "outputId": "e4d48e9e-903b-425b-dae9-2e11e4346bbc"
      },
      "outputs": [
        {
          "data": {
            "text/plain": [
              "True"
            ]
          },
          "execution_count": 50,
          "metadata": {},
          "output_type": "execute_result"
        }
      ],
      "source": [
        "\"Fukuoka\" not in pref_code"
      ]
    },
    {
      "cell_type": "markdown",
      "id": "9a1f8a40",
      "metadata": {
        "id": "9a1f8a40"
      },
      "source": [
        "### 辞書と繰り返し処理"
      ]
    },
    {
      "cell_type": "code",
      "execution_count": 51,
      "id": "ijM3nbPzIiHt",
      "metadata": {
        "colab": {
          "base_uri": "https://localhost:8080/"
        },
        "id": "ijM3nbPzIiHt",
        "outputId": "1ff030cd-b441-4c1e-f659-14080f362e41"
      },
      "outputs": [
        {
          "data": {
            "text/plain": [
              "dict_keys(['Aomori', 'Tokyo', 'Osaka'])"
            ]
          },
          "execution_count": 51,
          "metadata": {},
          "output_type": "execute_result"
        }
      ],
      "source": [
        "pref_code.keys()"
      ]
    },
    {
      "cell_type": "code",
      "execution_count": 52,
      "id": "lpAjosVDIjNU",
      "metadata": {
        "colab": {
          "base_uri": "https://localhost:8080/"
        },
        "id": "lpAjosVDIjNU",
        "outputId": "bd9160b2-738f-42f7-d93f-87e611ef05c3"
      },
      "outputs": [
        {
          "data": {
            "text/plain": [
              "dict_values([2, 13, 27])"
            ]
          },
          "execution_count": 52,
          "metadata": {},
          "output_type": "execute_result"
        }
      ],
      "source": [
        "pref_code.values()"
      ]
    },
    {
      "cell_type": "code",
      "execution_count": 53,
      "id": "ffc4ee26",
      "metadata": {
        "colab": {
          "base_uri": "https://localhost:8080/"
        },
        "id": "ffc4ee26",
        "outputId": "99abfff8-b1be-42f2-d90c-744ff9bfd934"
      },
      "outputs": [
        {
          "data": {
            "text/plain": [
              "dict_items([('Aomori', 2), ('Tokyo', 13), ('Osaka', 27)])"
            ]
          },
          "execution_count": 53,
          "metadata": {},
          "output_type": "execute_result"
        }
      ],
      "source": [
        "pref_code.items()"
      ]
    },
    {
      "cell_type": "code",
      "execution_count": 54,
      "id": "32e9b715",
      "metadata": {
        "colab": {
          "base_uri": "https://localhost:8080/"
        },
        "id": "32e9b715",
        "outputId": "9b5bdfab-f182-4baf-b153-d405c24e575b"
      },
      "outputs": [
        {
          "name": "stdout",
          "output_type": "stream",
          "text": [
            "Hokkaido\n",
            "Aomori\n",
            "Tokyo\n",
            "Osaka\n",
            "1\n",
            "2\n",
            "13\n",
            "27\n",
            "Hokkaido : 1\n",
            "Aomori : 2\n",
            "Tokyo : 13\n",
            "Osaka : 27\n"
          ]
        }
      ],
      "source": [
        "# dict\n",
        "pref_code = {'Hokkaido': 1, 'Aomori': 2, 'Tokyo': 13, 'Osaka': 27}\n",
        "\n",
        "# keys\n",
        "for code in pref_code.keys():\n",
        "    print(code)\n",
        "\n",
        "# values\n",
        "for value in pref_code.values():\n",
        "    print(value)\n",
        "\n",
        "# items\n",
        "for key, value in pref_code.items():\n",
        "    print(f\"{key} : {value}\")"
      ]
    }
  ],
  "metadata": {
    "colab": {
      "provenance": []
    },
    "kernelspec": {
      "display_name": ".venv",
      "language": "python",
      "name": "python3"
    },
    "language_info": {
      "codemirror_mode": {
        "name": "ipython",
        "version": 3
      },
      "file_extension": ".py",
      "mimetype": "text/x-python",
      "name": "python",
      "nbconvert_exporter": "python",
      "pygments_lexer": "ipython3",
      "version": "3.12.7"
    }
  },
  "nbformat": 4,
  "nbformat_minor": 5
}
