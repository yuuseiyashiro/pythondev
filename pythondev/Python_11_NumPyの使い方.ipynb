{
  "cells": [
    {
      "cell_type": "markdown",
      "id": "x6wd2QXdl0co",
      "metadata": {
        "id": "x6wd2QXdl0co"
      },
      "source": [
        "## NumPyの配列を作る"
      ]
    },
    {
      "cell_type": "code",
      "execution_count": 1,
      "id": "fa1bd116",
      "metadata": {
        "id": "fa1bd116"
      },
      "outputs": [],
      "source": [
        "import numpy as np"
      ]
    },
    {
      "cell_type": "markdown",
      "id": "6cbb6148",
      "metadata": {
        "id": "6cbb6148"
      },
      "source": [
        "### array() でNumPyの配列を作る"
      ]
    },
    {
      "cell_type": "code",
      "execution_count": 2,
      "id": "38f44823",
      "metadata": {
        "colab": {
          "base_uri": "https://localhost:8080/"
        },
        "id": "38f44823",
        "outputId": "fa0fd1cf-10f8-45db-9226-058f12e98602"
      },
      "outputs": [
        {
          "name": "stdout",
          "output_type": "stream",
          "text": [
            "<class 'numpy.ndarray'>\n",
            "[0 1 2]\n",
            "int32\n"
          ]
        }
      ],
      "source": [
        "a = np.array([0, 1, 2])\n",
        "print(type(a))\n",
        "print(a)\n",
        "print(a.dtype)"
      ]
    },
    {
      "cell_type": "code",
      "execution_count": 3,
      "id": "b57eb1e3",
      "metadata": {
        "colab": {
          "base_uri": "https://localhost:8080/"
        },
        "id": "b57eb1e3",
        "outputId": "8c1e08c7-5425-43a0-80a0-04b18e628fe4"
      },
      "outputs": [
        {
          "name": "stdout",
          "output_type": "stream",
          "text": [
            "[1.  1.5 2. ]\n",
            "float64\n",
            "[ True False  True False False]\n",
            "bool\n",
            "['T' 'e' 'c' 'h' 'A' 'c' 'a' 'd' 'e' 'm' 'y']\n",
            "<U1\n"
          ]
        }
      ],
      "source": [
        "b = np.array([1, 1.5, 2])\n",
        "print(b)\n",
        "print(b.dtype)\n",
        "\n",
        "c = np.array([True, False, True, False, False])\n",
        "print(c)\n",
        "print(c.dtype)\n",
        "\n",
        "d = np.array(list(\"TechAcademy\"))\n",
        "print(d)\n",
        "print(d.dtype)"
      ]
    },
    {
      "cell_type": "markdown",
      "id": "46f5283a",
      "metadata": {
        "id": "46f5283a"
      },
      "source": [
        "### 小さい数値を使いたい場合"
      ]
    },
    {
      "cell_type": "code",
      "execution_count": 4,
      "id": "c04bfca7",
      "metadata": {
        "colab": {
          "base_uri": "https://localhost:8080/"
        },
        "id": "c04bfca7",
        "outputId": "3c60ed4e-20f7-4580-cdf6-d4a516e494f0"
      },
      "outputs": [
        {
          "name": "stdout",
          "output_type": "stream",
          "text": [
            "[100 200 300]\n",
            "int16\n"
          ]
        }
      ],
      "source": [
        "e = np.array([100, 200, 300], dtype = np.int16)\n",
        "print(e)\n",
        "print(e.dtype)"
      ]
    },
    {
      "cell_type": "markdown",
      "id": "297734d6",
      "metadata": {
        "id": "297734d6"
      },
      "source": [
        "### すでに存在するndarrayのデータ型を変換する"
      ]
    },
    {
      "cell_type": "code",
      "execution_count": 5,
      "id": "7094e00b",
      "metadata": {
        "colab": {
          "base_uri": "https://localhost:8080/"
        },
        "id": "7094e00b",
        "outputId": "3f6a1201-bce1-4122-ba56-a2fb2e252e94"
      },
      "outputs": [
        {
          "name": "stdout",
          "output_type": "stream",
          "text": [
            "[1.5 2.5 3.5]\n",
            "float64\n"
          ]
        }
      ],
      "source": [
        "f = np.array([1.5, 2.5, 3.5])\n",
        "print(f)\n",
        "print(f.dtype)"
      ]
    },
    {
      "cell_type": "code",
      "execution_count": 6,
      "id": "62a466b5",
      "metadata": {
        "colab": {
          "base_uri": "https://localhost:8080/"
        },
        "id": "62a466b5",
        "outputId": "95674d88-67c7-4a45-e0bc-d3fe324b8d85"
      },
      "outputs": [
        {
          "name": "stdout",
          "output_type": "stream",
          "text": [
            "[1 2 3]\n",
            "int64\n"
          ]
        }
      ],
      "source": [
        "f = f.astype(np.int64)\n",
        "print(f)\n",
        "print(f.dtype)"
      ]
    },
    {
      "cell_type": "markdown",
      "id": "638bf074",
      "metadata": {
        "id": "638bf074"
      },
      "source": [
        "### 配列の作成に関する便利なメソッド\n",
        "\n",
        "#### np.arange()\n",
        "\n",
        "`range()`のように連続する整数値でndarrayを作りたい場合は`np.arange()`メソッドを使います。引数の指定方法は`range()`と一緒です。引数が1つ（`np.arange(n)`）なら「0以上n未満」、引数が2つ（`np.arange(a, b)`）なら「a以上b未満」、引数が3つ（`np.arange(x, y, z)`）なら「x以上y未満（増分：z）」です。"
      ]
    },
    {
      "cell_type": "code",
      "execution_count": 7,
      "id": "4647989f",
      "metadata": {
        "colab": {
          "base_uri": "https://localhost:8080/"
        },
        "id": "4647989f",
        "outputId": "af475b70-5162-41e5-fd90-f8d96b51f5b5"
      },
      "outputs": [
        {
          "name": "stdout",
          "output_type": "stream",
          "text": [
            "[ 0  1  2  3  4  5  6  7  8  9 10 11 12 13 14 15 16 17 18 19]\n",
            "[ 1  2  3  4  5  6  7  8  9 10 11 12 13 14 15 16 17 18 19 20]\n",
            "[ 2  4  6  8 10 12 14 16 18 20 22 24 26 28 30 32 34 36 38 40]\n"
          ]
        }
      ],
      "source": [
        "a = np.arange(20)\n",
        "print(a)\n",
        "\n",
        "b = np.arange(1, 21)\n",
        "print(b)\n",
        "\n",
        "c = np.arange(2, 41, 2)\n",
        "print(c)"
      ]
    },
    {
      "cell_type": "markdown",
      "id": "b8a60e78",
      "metadata": {
        "id": "b8a60e78"
      },
      "source": [
        "#### np.linspace()"
      ]
    },
    {
      "cell_type": "code",
      "execution_count": 8,
      "id": "ad07ac71",
      "metadata": {
        "colab": {
          "base_uri": "https://localhost:8080/"
        },
        "id": "ad07ac71",
        "outputId": "211bd730-9cf8-4500-928a-0e4da292301b"
      },
      "outputs": [
        {
          "name": "stdout",
          "output_type": "stream",
          "text": [
            "[ 0.   2.5  5.   7.5 10. ]\n"
          ]
        }
      ],
      "source": [
        "d = np.linspace(0, 10, 5)\n",
        "print(d)"
      ]
    },
    {
      "cell_type": "markdown",
      "id": "263c2b64",
      "metadata": {
        "id": "263c2b64"
      },
      "source": [
        "#### np.empty()"
      ]
    },
    {
      "cell_type": "code",
      "execution_count": 9,
      "id": "1eba7b78",
      "metadata": {
        "colab": {
          "base_uri": "https://localhost:8080/"
        },
        "id": "1eba7b78",
        "outputId": "c60bd50c-37cf-4aee-8462-6629fed947a6"
      },
      "outputs": [
        {
          "name": "stdout",
          "output_type": "stream",
          "text": [
            "[ 0.   2.5  5.   7.5 10. ]\n"
          ]
        }
      ],
      "source": [
        "e = np.empty(5)\n",
        "print(e)"
      ]
    },
    {
      "cell_type": "markdown",
      "id": "a4cd74aa",
      "metadata": {
        "id": "a4cd74aa"
      },
      "source": [
        "#### np.zeros()とnp.ones()"
      ]
    },
    {
      "cell_type": "code",
      "execution_count": 10,
      "id": "ba47bfb0",
      "metadata": {
        "colab": {
          "base_uri": "https://localhost:8080/"
        },
        "id": "ba47bfb0",
        "outputId": "909baabe-6d01-4128-a9ef-5afe5670b291"
      },
      "outputs": [
        {
          "name": "stdout",
          "output_type": "stream",
          "text": [
            "[0. 0. 0. 0. 0.]\n"
          ]
        }
      ],
      "source": [
        "f = np.zeros(5)\n",
        "print(f)"
      ]
    },
    {
      "cell_type": "code",
      "execution_count": 11,
      "id": "FedFUSA9x5X6",
      "metadata": {
        "colab": {
          "base_uri": "https://localhost:8080/"
        },
        "id": "FedFUSA9x5X6",
        "outputId": "007d0c7e-4f54-4dc6-c841-de472039de58"
      },
      "outputs": [
        {
          "name": "stdout",
          "output_type": "stream",
          "text": [
            "[1. 1. 1. 1. 1.]\n"
          ]
        }
      ],
      "source": [
        "f1 = np.ones(5)\n",
        "print(f1)"
      ]
    },
    {
      "cell_type": "markdown",
      "id": "de507173",
      "metadata": {
        "id": "de507173"
      },
      "source": [
        "#### np.random.rand()"
      ]
    },
    {
      "cell_type": "code",
      "execution_count": 12,
      "id": "965f214d",
      "metadata": {
        "colab": {
          "base_uri": "https://localhost:8080/"
        },
        "id": "965f214d",
        "outputId": "1c17d005-5f34-4ec3-f35e-3e4f912e6dc7"
      },
      "outputs": [
        {
          "name": "stdout",
          "output_type": "stream",
          "text": [
            "[0.10441343 0.83896936 0.5661343  0.75793453 0.17933427]\n"
          ]
        }
      ],
      "source": [
        "g = np.random.rand(5)\n",
        "print(g)"
      ]
    },
    {
      "cell_type": "code",
      "execution_count": 13,
      "id": "3a1a2a64",
      "metadata": {
        "colab": {
          "base_uri": "https://localhost:8080/"
        },
        "id": "3a1a2a64",
        "outputId": "d1cf4455-a61d-4110-c953-5b738bbdcaff"
      },
      "outputs": [
        {
          "name": "stdout",
          "output_type": "stream",
          "text": [
            "[1 6 4 5 2]\n"
          ]
        }
      ],
      "source": [
        "g = g * 6 + 1\n",
        "g = g.astype(np.int8)\n",
        "print(g)"
      ]
    },
    {
      "cell_type": "markdown",
      "id": "54c5f962",
      "metadata": {
        "id": "54c5f962"
      },
      "source": [
        "#### np.concatenate()"
      ]
    },
    {
      "cell_type": "code",
      "execution_count": 14,
      "id": "32455f45",
      "metadata": {
        "colab": {
          "base_uri": "https://localhost:8080/"
        },
        "id": "32455f45",
        "outputId": "005af8b6-f66c-449d-8338-000a67e1d610"
      },
      "outputs": [
        {
          "name": "stdout",
          "output_type": "stream",
          "text": [
            "[1 2 3 4 5 6]\n"
          ]
        }
      ],
      "source": [
        "h = np.arange(1, 4)    # [1, 2, 3]\n",
        "i = np.arange(4, 7)    # [4, 5, 6]\n",
        "j = np.concatenate([h, i])\n",
        "print(j)"
      ]
    },
    {
      "cell_type": "markdown",
      "id": "646d08b0",
      "metadata": {
        "id": "646d08b0"
      },
      "source": [
        "#### 補足：tolist()"
      ]
    },
    {
      "cell_type": "code",
      "execution_count": 15,
      "id": "7a1f63b5",
      "metadata": {
        "colab": {
          "base_uri": "https://localhost:8080/"
        },
        "id": "7a1f63b5",
        "outputId": "d123a9d9-2ad3-417c-a792-122d2bdfdf87"
      },
      "outputs": [
        {
          "name": "stdout",
          "output_type": "stream",
          "text": [
            "[1, 6, 4, 5, 2]\n"
          ]
        }
      ],
      "source": [
        "gl = g.tolist()\n",
        "print(gl)"
      ]
    },
    {
      "cell_type": "markdown",
      "id": "7da5e702",
      "metadata": {
        "id": "7da5e702"
      },
      "source": [
        "### 多次元配列を作る"
      ]
    },
    {
      "cell_type": "code",
      "execution_count": 16,
      "id": "d6b0373c",
      "metadata": {
        "colab": {
          "base_uri": "https://localhost:8080/"
        },
        "id": "d6b0373c",
        "outputId": "64b57bf0-6912-4cb3-cd44-b4c4f15198a6"
      },
      "outputs": [
        {
          "name": "stdout",
          "output_type": "stream",
          "text": [
            "[[1 2 3]\n",
            " [4 5 6]]\n"
          ]
        }
      ],
      "source": [
        "a = np.array([[1, 2, 3], [4, 5, 6]])\n",
        "print(a)"
      ]
    },
    {
      "cell_type": "code",
      "execution_count": 17,
      "id": "84511247",
      "metadata": {
        "colab": {
          "base_uri": "https://localhost:8080/"
        },
        "id": "84511247",
        "outputId": "0f90c8a2-0257-4138-e937-fe1e7b6b2747"
      },
      "outputs": [
        {
          "name": "stdout",
          "output_type": "stream",
          "text": [
            "[[1 2 3]\n",
            " [4 5 6]]\n"
          ]
        }
      ],
      "source": [
        "a = np.empty((2, 3), dtype=np.int64)\n",
        "\n",
        "a[0] = [1, 2, 3]\n",
        "a[1] = [4, 5, 6]\n",
        "\n",
        "print(a)"
      ]
    },
    {
      "cell_type": "markdown",
      "id": "784990bb",
      "metadata": {
        "id": "784990bb"
      },
      "source": [
        "#### 1次元配列を多次元配列に変換するreshape()"
      ]
    },
    {
      "cell_type": "code",
      "execution_count": 18,
      "id": "5dff456e",
      "metadata": {
        "colab": {
          "base_uri": "https://localhost:8080/"
        },
        "id": "5dff456e",
        "outputId": "0840f13d-7b2e-477b-ca84-e54a2847d19e"
      },
      "outputs": [
        {
          "name": "stdout",
          "output_type": "stream",
          "text": [
            "[ 1  2  3  4  5  6  7  8  9 10 11 12 13 14 15 16 17 18 19 20]\n",
            "(20,)\n"
          ]
        }
      ],
      "source": [
        "a = np.arange(1, 21)\n",
        "print(a)\n",
        "print(a.shape)"
      ]
    },
    {
      "cell_type": "code",
      "execution_count": 19,
      "id": "a9f45e61",
      "metadata": {
        "colab": {
          "base_uri": "https://localhost:8080/"
        },
        "id": "a9f45e61",
        "outputId": "c6fc03d0-7c7f-43bf-e4d1-9fb0b5d7dc9c"
      },
      "outputs": [
        {
          "name": "stdout",
          "output_type": "stream",
          "text": [
            "[[ 1  2  3  4  5]\n",
            " [ 6  7  8  9 10]\n",
            " [11 12 13 14 15]\n",
            " [16 17 18 19 20]]\n",
            "(4, 5)\n"
          ]
        }
      ],
      "source": [
        "b = a.reshape(4, 5)\n",
        "print(b)\n",
        "print(b.shape)"
      ]
    },
    {
      "cell_type": "code",
      "execution_count": 20,
      "id": "85327219",
      "metadata": {
        "colab": {
          "base_uri": "https://localhost:8080/"
        },
        "id": "85327219",
        "outputId": "19fa3597-aab7-43c9-cc45-a370bfab8dd6"
      },
      "outputs": [
        {
          "name": "stdout",
          "output_type": "stream",
          "text": [
            "[[[ 1  2  3  4  5]\n",
            "  [ 6  7  8  9 10]]\n",
            "\n",
            " [[11 12 13 14 15]\n",
            "  [16 17 18 19 20]]]\n"
          ]
        }
      ],
      "source": [
        "b3 = a.reshape(2, 2, 5)\n",
        "print(b3)"
      ]
    },
    {
      "cell_type": "markdown",
      "id": "5d1fd731",
      "metadata": {
        "id": "5d1fd731"
      },
      "source": [
        "#### 多次元配列を1次元配列に変換するflatten()とravel()"
      ]
    },
    {
      "cell_type": "code",
      "execution_count": 21,
      "id": "4350b50d",
      "metadata": {
        "colab": {
          "base_uri": "https://localhost:8080/"
        },
        "id": "4350b50d",
        "outputId": "cde8cf72-77cd-4b40-fca3-d096faccfd63"
      },
      "outputs": [
        {
          "name": "stdout",
          "output_type": "stream",
          "text": [
            "[[ 1  2  3  4  5]\n",
            " [ 6  7  8  9 10]\n",
            " [11 12 13 14 15]\n",
            " [16 17 18 19 20]]\n",
            "[ 1  2  3  4  5  6  7  8  9 10 11 12 13 14 15 16 17 18 19 20]\n"
          ]
        }
      ],
      "source": [
        "c = np.arange(1, 21).reshape(4, 5)\n",
        "d = c.flatten()\n",
        "print(c)\n",
        "print(d)"
      ]
    },
    {
      "cell_type": "code",
      "execution_count": 22,
      "id": "JYM07YViIRBR",
      "metadata": {
        "colab": {
          "base_uri": "https://localhost:8080/"
        },
        "id": "JYM07YViIRBR",
        "outputId": "21e63023-5f91-42d3-c00b-a7c9d5cfce0d"
      },
      "outputs": [
        {
          "name": "stdout",
          "output_type": "stream",
          "text": [
            "[[ 1  2  3  4  5]\n",
            " [ 6  7  8  9 10]\n",
            " [11 12 13 14 15]\n",
            " [16 17 18 19 20]]\n",
            "[ 1  2  3  4  5  6  7  8  9 10 11 12 13 14 15 16 17 18 19 20]\n"
          ]
        }
      ],
      "source": [
        "e = c.ravel()\n",
        "\n",
        "print(c)\n",
        "print(e)"
      ]
    },
    {
      "cell_type": "markdown",
      "id": "c8d722d5",
      "metadata": {
        "id": "c8d722d5"
      },
      "source": [
        "## 配列を使う"
      ]
    },
    {
      "cell_type": "markdown",
      "id": "f5aonqL0LwrZ",
      "metadata": {
        "id": "f5aonqL0LwrZ"
      },
      "source": [
        "### 要素の参照と更新"
      ]
    },
    {
      "cell_type": "code",
      "execution_count": 23,
      "id": "7bf2fe14",
      "metadata": {
        "colab": {
          "base_uri": "https://localhost:8080/"
        },
        "id": "7bf2fe14",
        "outputId": "9a38e5e7-a116-42f7-e8ce-97c4d8ca4611"
      },
      "outputs": [
        {
          "name": "stdout",
          "output_type": "stream",
          "text": [
            "1\n"
          ]
        }
      ],
      "source": [
        "a = np.arange(1, 101).reshape(10, 10)\n",
        "print(a[0, 0])            # 0番目のみ"
      ]
    },
    {
      "cell_type": "code",
      "execution_count": 24,
      "id": "QNqMXQ6aL0sF",
      "metadata": {
        "colab": {
          "base_uri": "https://localhost:8080/"
        },
        "id": "QNqMXQ6aL0sF",
        "outputId": "4d86055a-ba6c-4219-db7a-b28473aed41a"
      },
      "outputs": [
        {
          "name": "stdout",
          "output_type": "stream",
          "text": [
            "12\n"
          ]
        }
      ],
      "source": [
        "print(a[1, 1])            # 1番目のみ"
      ]
    },
    {
      "cell_type": "code",
      "execution_count": 25,
      "id": "7P3nWi2SL4Qf",
      "metadata": {
        "colab": {
          "base_uri": "https://localhost:8080/"
        },
        "id": "7P3nWi2SL4Qf",
        "outputId": "06c3342f-0022-4b94-aa08-08f1bf7c6a55"
      },
      "outputs": [
        {
          "name": "stdout",
          "output_type": "stream",
          "text": [
            "[[12 13]\n",
            " [22 23]]\n"
          ]
        }
      ],
      "source": [
        "print(a[1:3, 1:3])        # 1番目から2番目まで"
      ]
    },
    {
      "cell_type": "code",
      "execution_count": 26,
      "id": "29d3zgK7L7pa",
      "metadata": {
        "colab": {
          "base_uri": "https://localhost:8080/"
        },
        "id": "29d3zgK7L7pa",
        "outputId": "59a41e45-52ee-4d69-a11d-f74f681a3e41"
      },
      "outputs": [
        {
          "name": "stdout",
          "output_type": "stream",
          "text": [
            "[[12 15]\n",
            " [42 45]]\n"
          ]
        }
      ],
      "source": [
        "print(a[1:5:3, 1:5:3])    # 1番目から4番目まで（増分3で）"
      ]
    },
    {
      "cell_type": "code",
      "execution_count": 27,
      "id": "FWUTkcz3MmFx",
      "metadata": {
        "colab": {
          "base_uri": "https://localhost:8080/"
        },
        "id": "FWUTkcz3MmFx",
        "outputId": "67972e76-d001-4ca4-9b9a-15890dd8a27f"
      },
      "outputs": [
        {
          "name": "stdout",
          "output_type": "stream",
          "text": [
            "[[ 1  2  3  4  5]\n",
            " [11 12 13 14 15]\n",
            " [21 22 23 24 25]\n",
            " [31 32 33 34 35]\n",
            " [41 42 43 44 45]]\n"
          ]
        }
      ],
      "source": [
        "print(a[:5, :5])          # 先頭から4番目まで"
      ]
    },
    {
      "cell_type": "code",
      "execution_count": 28,
      "id": "XKXdZvC8NDDA",
      "metadata": {
        "colab": {
          "base_uri": "https://localhost:8080/"
        },
        "id": "XKXdZvC8NDDA",
        "outputId": "e969d658-18df-49f4-e1c3-ecb2992e6f57"
      },
      "outputs": [
        {
          "name": "stdout",
          "output_type": "stream",
          "text": [
            "[[ 78  79  80]\n",
            " [ 88  89  90]\n",
            " [ 98  99 100]]\n"
          ]
        }
      ],
      "source": [
        "print(a[7:, 7:])          # 7番目から末尾まで"
      ]
    },
    {
      "cell_type": "code",
      "execution_count": 29,
      "id": "ssg-CanqNFOy",
      "metadata": {
        "colab": {
          "base_uri": "https://localhost:8080/"
        },
        "id": "ssg-CanqNFOy",
        "outputId": "d92303dc-001f-41c3-c1fd-661fbfdea9eb"
      },
      "outputs": [
        {
          "name": "stdout",
          "output_type": "stream",
          "text": [
            "[[  1   4   7  10]\n",
            " [ 31  34  37  40]\n",
            " [ 61  64  67  70]\n",
            " [ 91  94  97 100]]\n"
          ]
        }
      ],
      "source": [
        "print(a[::3, ::3])        # 先頭から末尾まで（増分3で）"
      ]
    },
    {
      "cell_type": "code",
      "execution_count": 30,
      "id": "SaQvQ_qcNHJa",
      "metadata": {
        "colab": {
          "base_uri": "https://localhost:8080/"
        },
        "id": "SaQvQ_qcNHJa",
        "outputId": "1c0cac62-8d95-4d2a-88ae-28a40f595ee5"
      },
      "outputs": [
        {
          "name": "stdout",
          "output_type": "stream",
          "text": [
            "[[  1   2   3   4   5   6   7   8   9  10]\n",
            " [ 11  12  13  14  15  16  17  18  19  20]\n",
            " [ 21  22  23  24  25  26  27  28  29  30]\n",
            " [ 31  32  33  34  35  36  37  38  39  40]\n",
            " [ 41  42  43  44  45  46  47  48  49  50]\n",
            " [ 51  52  53  54  55  56  57  58  59  60]\n",
            " [ 61  62  63  64  65  66  67  68  69  70]\n",
            " [ 71  72  73  74  75  76  77  78  79  80]\n",
            " [ 81  82  83  84  85  86  87  88  89  90]\n",
            " [ 91  92  93  94  95  96  97  98  99 100]]\n"
          ]
        }
      ],
      "source": [
        "print(a[:, :])            # 全体（先頭から末尾まで）」"
      ]
    },
    {
      "cell_type": "markdown",
      "id": "0dd84cfe",
      "metadata": {
        "id": "0dd84cfe"
      },
      "source": [
        "### 要素の新規追加"
      ]
    },
    {
      "cell_type": "code",
      "execution_count": 31,
      "id": "3d0a4613",
      "metadata": {
        "colab": {
          "base_uri": "https://localhost:8080/"
        },
        "id": "3d0a4613",
        "outputId": "bc066c2d-a14b-4efc-f731-56016f888993"
      },
      "outputs": [
        {
          "name": "stdout",
          "output_type": "stream",
          "text": [
            "[ 1  2  3  4  5  6  7  8  9 10 11 12 13 14 15 16 17 18 19 20 21 22 23 24]\n"
          ]
        }
      ],
      "source": [
        "a = np.arange(1, 20)                # 1から19までで配列を作成\n",
        "a = np.append(a, 20)                # 20を追加\n",
        "a = np.append(a, (21, 22, 23, 24))  # 21から24までを追加\n",
        "print(a)"
      ]
    },
    {
      "cell_type": "code",
      "execution_count": 32,
      "id": "ba4dd3cf",
      "metadata": {
        "colab": {
          "base_uri": "https://localhost:8080/"
        },
        "id": "ba4dd3cf",
        "outputId": "21c50d01-5c30-4286-ca54-e19d30f4a54f"
      },
      "outputs": [
        {
          "name": "stdout",
          "output_type": "stream",
          "text": [
            "[1 6 2 7 8 3 4 5]\n"
          ]
        }
      ],
      "source": [
        "b = np.arange(1, 6)           # 1から5までで配列を作成\n",
        "b = np.insert(b, 1, 6)        # 1番目に6を追加\n",
        "b = np.insert(b, 3, (7, 8))   # 3番目に7と8を追加\n",
        "print(b)"
      ]
    },
    {
      "cell_type": "markdown",
      "id": "4c7e6c4c",
      "metadata": {
        "id": "4c7e6c4c"
      },
      "source": [
        "### 要素の削除"
      ]
    },
    {
      "cell_type": "code",
      "execution_count": 33,
      "id": "6ded7ff1",
      "metadata": {
        "colab": {
          "base_uri": "https://localhost:8080/"
        },
        "id": "6ded7ff1",
        "outputId": "e4f66276-a86f-4970-e833-e96af6f6957a"
      },
      "outputs": [
        {
          "name": "stdout",
          "output_type": "stream",
          "text": [
            "[0 1 3 4]\n"
          ]
        }
      ],
      "source": [
        "a = np.arange(5)      # [0 1 2 3 4] の配列を作成\n",
        "a = np.delete(a, 2)   # 2番目を削除\n",
        "print(a)"
      ]
    },
    {
      "cell_type": "markdown",
      "id": "5b2ce862",
      "metadata": {
        "id": "5b2ce862"
      },
      "source": [
        "多次元配列の場合は、引数が1つ増えます。3つ目の引数に0を入れると1行丸々、1の場合は1列丸々削除されます。"
      ]
    },
    {
      "cell_type": "code",
      "execution_count": 34,
      "id": "7b7f9ad5",
      "metadata": {
        "colab": {
          "base_uri": "https://localhost:8080/"
        },
        "id": "7b7f9ad5",
        "outputId": "8daa968c-58aa-49c8-ac31-97de3f0caf48"
      },
      "outputs": [
        {
          "name": "stdout",
          "output_type": "stream",
          "text": [
            "[[ 1  2  3  4  5]\n",
            " [11 12 13 14 15]\n",
            " [16 17 18 19 20]\n",
            " [21 22 23 24 25]]\n"
          ]
        }
      ],
      "source": [
        "# 1行目を削除\n",
        "b = np.arange(1, 26).reshape(5, 5)\n",
        "b = np.delete(b, 1, 0)\n",
        "print(b)"
      ]
    },
    {
      "cell_type": "code",
      "execution_count": 35,
      "id": "l4vgnS8TRUkb",
      "metadata": {
        "colab": {
          "base_uri": "https://localhost:8080/"
        },
        "id": "l4vgnS8TRUkb",
        "outputId": "89b498d6-3478-4783-b44c-7b0f05455644"
      },
      "outputs": [
        {
          "name": "stdout",
          "output_type": "stream",
          "text": [
            "[[ 1  3  4  5]\n",
            " [ 6  8  9 10]\n",
            " [11 13 14 15]\n",
            " [16 18 19 20]\n",
            " [21 23 24 25]]\n"
          ]
        }
      ],
      "source": [
        "# 1列目を削除\n",
        "c = np.arange(1, 26).reshape(5, 5)\n",
        "c = np.delete(c, 1, 1)\n",
        "print(c)"
      ]
    },
    {
      "cell_type": "markdown",
      "id": "6d4f1039",
      "metadata": {
        "id": "6d4f1039"
      },
      "source": [
        "## NumPyの応用的な使い方"
      ]
    },
    {
      "cell_type": "markdown",
      "id": "67tJM8bOR1Pl",
      "metadata": {
        "id": "67tJM8bOR1Pl"
      },
      "source": [
        "### 四則演算"
      ]
    },
    {
      "cell_type": "code",
      "execution_count": 36,
      "id": "ba3f2cd4",
      "metadata": {
        "colab": {
          "base_uri": "https://localhost:8080/"
        },
        "id": "ba3f2cd4",
        "outputId": "f91afd1d-7493-4ab5-b2d0-c0ade07ee748"
      },
      "outputs": [
        {
          "name": "stdout",
          "output_type": "stream",
          "text": [
            "[ 1  2  3  4  5  6  7  8  9 10]\n"
          ]
        }
      ],
      "source": [
        "a = np.arange(1, 11)\n",
        "print(a)"
      ]
    },
    {
      "cell_type": "code",
      "execution_count": 37,
      "id": "53exySRoR5iV",
      "metadata": {
        "colab": {
          "base_uri": "https://localhost:8080/"
        },
        "id": "53exySRoR5iV",
        "outputId": "b4abfdea-2190-40cd-9a30-a0955ff8a0f2"
      },
      "outputs": [
        {
          "name": "stdout",
          "output_type": "stream",
          "text": [
            "[ 2  3  4  5  6  7  8  9 10 11]\n"
          ]
        }
      ],
      "source": [
        "print(a + 1)"
      ]
    },
    {
      "cell_type": "code",
      "execution_count": 38,
      "id": "gaHUSjPmR7rC",
      "metadata": {
        "colab": {
          "base_uri": "https://localhost:8080/"
        },
        "id": "gaHUSjPmR7rC",
        "outputId": "c898c08b-1e36-4f24-e937-299b66426b3f"
      },
      "outputs": [
        {
          "name": "stdout",
          "output_type": "stream",
          "text": [
            "[0 1 2 3 4 5 6 7 8 9]\n"
          ]
        }
      ],
      "source": [
        "print(a - 1)"
      ]
    },
    {
      "cell_type": "code",
      "execution_count": 39,
      "id": "3H2Sxyg-R9hg",
      "metadata": {
        "colab": {
          "base_uri": "https://localhost:8080/"
        },
        "id": "3H2Sxyg-R9hg",
        "outputId": "746ea91c-83e1-49c4-b7f5-1b93c821f8cb"
      },
      "outputs": [
        {
          "name": "stdout",
          "output_type": "stream",
          "text": [
            "[ 2  4  6  8 10 12 14 16 18 20]\n"
          ]
        }
      ],
      "source": [
        "print(a * 2)"
      ]
    },
    {
      "cell_type": "code",
      "execution_count": 40,
      "id": "bTI0dI5qR_fh",
      "metadata": {
        "colab": {
          "base_uri": "https://localhost:8080/"
        },
        "id": "bTI0dI5qR_fh",
        "outputId": "5b4a628b-0be9-466f-fb93-ede1852013bc"
      },
      "outputs": [
        {
          "name": "stdout",
          "output_type": "stream",
          "text": [
            "[0.5 1.  1.5 2.  2.5 3.  3.5 4.  4.5 5. ]\n"
          ]
        }
      ],
      "source": [
        "print(a / 2)"
      ]
    },
    {
      "cell_type": "code",
      "execution_count": 41,
      "id": "BP7ftdngSB7A",
      "metadata": {
        "colab": {
          "base_uri": "https://localhost:8080/"
        },
        "id": "BP7ftdngSB7A",
        "outputId": "223f6582-192c-4a73-9b31-af6d96d10221"
      },
      "outputs": [
        {
          "name": "stdout",
          "output_type": "stream",
          "text": [
            "[1 0 1 0 1 0 1 0 1 0]\n"
          ]
        }
      ],
      "source": [
        "print(a % 2)"
      ]
    },
    {
      "cell_type": "code",
      "execution_count": 42,
      "id": "3e81416f",
      "metadata": {
        "colab": {
          "base_uri": "https://localhost:8080/"
        },
        "id": "3e81416f",
        "outputId": "f63e6adb-e469-43e5-b7cd-da2653ab4a75"
      },
      "outputs": [
        {
          "name": "stdout",
          "output_type": "stream",
          "text": [
            "[[ 8 10 12]\n",
            " [14 16 18]]\n"
          ]
        }
      ],
      "source": [
        "a = np.arange(1, 7).reshape(2, 3)\n",
        "b = np.arange(7, 13).reshape(2, 3)\n",
        "print(b + a)"
      ]
    },
    {
      "cell_type": "code",
      "execution_count": 43,
      "id": "sD7Rnv8MSwZD",
      "metadata": {
        "colab": {
          "base_uri": "https://localhost:8080/"
        },
        "id": "sD7Rnv8MSwZD",
        "outputId": "e80d5921-5e2b-4d89-fe48-441af864d330"
      },
      "outputs": [
        {
          "name": "stdout",
          "output_type": "stream",
          "text": [
            "[[6 6 6]\n",
            " [6 6 6]]\n"
          ]
        }
      ],
      "source": [
        "print(b - a)"
      ]
    },
    {
      "cell_type": "markdown",
      "id": "936cf4b6",
      "metadata": {
        "id": "936cf4b6"
      },
      "source": [
        "もちろん、かけ算とわり算も可能です。"
      ]
    },
    {
      "cell_type": "code",
      "execution_count": 44,
      "id": "5cd76df4",
      "metadata": {
        "colab": {
          "base_uri": "https://localhost:8080/"
        },
        "id": "5cd76df4",
        "outputId": "798cddb5-613b-4cc8-dbd9-f314f233092f"
      },
      "outputs": [
        {
          "name": "stdout",
          "output_type": "stream",
          "text": [
            "[[ 5 12]\n",
            " [21 32]]\n"
          ]
        }
      ],
      "source": [
        "c = np.arange(1, 5).reshape(2, 2)\n",
        "d = np.arange(5, 9).reshape(2, 2)\n",
        "print(c * d)"
      ]
    },
    {
      "cell_type": "code",
      "execution_count": 45,
      "id": "eGSCjbrdTByd",
      "metadata": {
        "colab": {
          "base_uri": "https://localhost:8080/"
        },
        "id": "eGSCjbrdTByd",
        "outputId": "caa5f419-8d5d-4959-9832-2f0778182f32"
      },
      "outputs": [
        {
          "name": "stdout",
          "output_type": "stream",
          "text": [
            "[[0.2        0.33333333]\n",
            " [0.42857143 0.5       ]]\n"
          ]
        }
      ],
      "source": [
        "print(c / d)"
      ]
    },
    {
      "cell_type": "markdown",
      "id": "e16d9904",
      "metadata": {
        "id": "e16d9904"
      },
      "source": [
        "### ユニバーサル関数"
      ]
    },
    {
      "cell_type": "code",
      "execution_count": 46,
      "id": "9bd291bc",
      "metadata": {
        "colab": {
          "base_uri": "https://localhost:8080/"
        },
        "id": "9bd291bc",
        "outputId": "c0c54a22-596e-428a-8a10-94484d5181aa"
      },
      "outputs": [
        {
          "name": "stdout",
          "output_type": "stream",
          "text": [
            "[5.09554705 2.39912073 3.07242962 3.6827572  4.55562584]\n"
          ]
        }
      ],
      "source": [
        "a = np.random.rand(5)\n",
        "a = a * 6 + 1\n",
        "\n",
        "print(a)"
      ]
    },
    {
      "cell_type": "code",
      "execution_count": 47,
      "id": "J81fRslpT6we",
      "metadata": {
        "colab": {
          "base_uri": "https://localhost:8080/"
        },
        "id": "J81fRslpT6we",
        "outputId": "a663f828-65f5-405f-8fa5-588a473883e3"
      },
      "outputs": [
        {
          "name": "stdout",
          "output_type": "stream",
          "text": [
            "[5 2 3 3 4]\n"
          ]
        }
      ],
      "source": [
        "print(np.array(np.floor(a), dtype=np.int64))"
      ]
    },
    {
      "cell_type": "code",
      "execution_count": 48,
      "id": "OQxFyD3zT90P",
      "metadata": {
        "colab": {
          "base_uri": "https://localhost:8080/"
        },
        "id": "OQxFyD3zT90P",
        "outputId": "4f970e66-596c-4e65-bdc3-71da44cb50d1"
      },
      "outputs": [
        {
          "name": "stdout",
          "output_type": "stream",
          "text": [
            "[6 3 4 4 5]\n"
          ]
        }
      ],
      "source": [
        "print(np.array(np.ceil(a), dtype=np.int64))"
      ]
    },
    {
      "cell_type": "code",
      "execution_count": 49,
      "id": "QdXp9W8DT_2c",
      "metadata": {
        "colab": {
          "base_uri": "https://localhost:8080/"
        },
        "id": "QdXp9W8DT_2c",
        "outputId": "9fa86843-d596-4c26-ea5c-19f68e62a819"
      },
      "outputs": [
        {
          "name": "stdout",
          "output_type": "stream",
          "text": [
            "[5 2 3 4 5]\n"
          ]
        }
      ],
      "source": [
        "print(np.array(np.round(a), dtype=np.int64))"
      ]
    },
    {
      "cell_type": "markdown",
      "id": "iPhn4M46YyFL",
      "metadata": {
        "id": "iPhn4M46YyFL"
      },
      "source": [
        "### axis（軸）"
      ]
    },
    {
      "cell_type": "markdown",
      "id": "WolFioLedYBV",
      "metadata": {
        "id": "WolFioLedYBV"
      },
      "source": [
        "#### axisの利用例1：np.sum()"
      ]
    },
    {
      "cell_type": "code",
      "execution_count": 50,
      "id": "NECcSlgwY0eA",
      "metadata": {
        "colab": {
          "base_uri": "https://localhost:8080/"
        },
        "id": "NECcSlgwY0eA",
        "outputId": "35134a0c-363c-45c3-b359-7c99768de7e0"
      },
      "outputs": [
        {
          "name": "stdout",
          "output_type": "stream",
          "text": [
            "[[0 1 2]\n",
            " [3 4 5]\n",
            " [6 7 8]]\n"
          ]
        }
      ],
      "source": [
        "a = np.arange(0, 9).reshape(3, 3)\n",
        "print(a)"
      ]
    },
    {
      "cell_type": "code",
      "execution_count": 51,
      "id": "4hBC_FPmbDPB",
      "metadata": {
        "colab": {
          "base_uri": "https://localhost:8080/"
        },
        "id": "4hBC_FPmbDPB",
        "outputId": "6369a5e6-55cf-4e92-ca9d-8719c7ff34b4"
      },
      "outputs": [
        {
          "name": "stdout",
          "output_type": "stream",
          "text": [
            "36\n"
          ]
        }
      ],
      "source": [
        "# 全要素の合計\n",
        "print(np.sum(a))"
      ]
    },
    {
      "cell_type": "code",
      "execution_count": 52,
      "id": "S6Wo-5DMZQ4E",
      "metadata": {
        "colab": {
          "base_uri": "https://localhost:8080/"
        },
        "id": "S6Wo-5DMZQ4E",
        "outputId": "2a253245-5d04-4850-de5d-47d1d6fed19f"
      },
      "outputs": [
        {
          "name": "stdout",
          "output_type": "stream",
          "text": [
            "[ 9 12 15]\n"
          ]
        }
      ],
      "source": [
        "# 縦方向の合計\n",
        "print(np.sum(a, axis=0))"
      ]
    },
    {
      "cell_type": "code",
      "execution_count": 53,
      "id": "EsIkvn5XcauP",
      "metadata": {
        "colab": {
          "base_uri": "https://localhost:8080/"
        },
        "id": "EsIkvn5XcauP",
        "outputId": "a519d003-4f2d-4ded-aae0-98bdf77b3079"
      },
      "outputs": [
        {
          "name": "stdout",
          "output_type": "stream",
          "text": [
            "[ 3 12 21]\n"
          ]
        }
      ],
      "source": [
        "# 横方向の合計\n",
        "print(np.sum(a, axis=1))"
      ]
    },
    {
      "cell_type": "markdown",
      "id": "iTYhC8ybdjna",
      "metadata": {
        "id": "iTYhC8ybdjna"
      },
      "source": [
        "#### axisの利用例2：np.insert()"
      ]
    },
    {
      "cell_type": "code",
      "execution_count": 54,
      "id": "e90419d5",
      "metadata": {
        "colab": {
          "base_uri": "https://localhost:8080/"
        },
        "id": "e90419d5",
        "outputId": "f0054573-daa9-4bac-bf35-ff590b90e8ec"
      },
      "outputs": [
        {
          "name": "stdout",
          "output_type": "stream",
          "text": [
            "[[0 0 0]\n",
            " [0 0 0]\n",
            " [0 0 0]]\n"
          ]
        }
      ],
      "source": [
        "a = np.array([[0, 0, 0], [0, 0, 0], [0, 0, 0]])\n",
        "b = np.array([1, 1, 1])\n",
        "\n",
        "# 配列aの縦と横の要素数を取得\n",
        "# （このように書くことで変数hには縦の要素数3、変数vには横の要素数3が格納される）\n",
        "(h, v) = a.shape\n",
        "\n",
        "print(a)"
      ]
    },
    {
      "cell_type": "code",
      "execution_count": 55,
      "id": "m4WenBlSeDeS",
      "metadata": {
        "colab": {
          "base_uri": "https://localhost:8080/"
        },
        "id": "m4WenBlSeDeS",
        "outputId": "22094702-af94-4257-c48b-8ed9aae83eea"
      },
      "outputs": [
        {
          "name": "stdout",
          "output_type": "stream",
          "text": [
            "[[0 0 0]\n",
            " [0 0 0]\n",
            " [1 1 1]\n",
            " [0 0 0]]\n"
          ]
        }
      ],
      "source": [
        "# 上から2番目にbを追加\n",
        "c = np.insert(a, 2, b, axis=0)\n",
        "print(c)"
      ]
    },
    {
      "cell_type": "code",
      "execution_count": 56,
      "id": "InlwPMQhOwYN",
      "metadata": {
        "colab": {
          "base_uri": "https://localhost:8080/"
        },
        "id": "InlwPMQhOwYN",
        "outputId": "3acc6366-18e2-4aa8-de13-1f137dff7107"
      },
      "outputs": [
        {
          "name": "stdout",
          "output_type": "stream",
          "text": [
            "[[0 0 0]\n",
            " [0 0 0]\n",
            " [0 0 0]\n",
            " [1 1 1]]\n"
          ]
        }
      ],
      "source": [
        "# 一番下にbを追加\n",
        "d = np.insert(a, h, b, axis=0)\n",
        "print(d)"
      ]
    },
    {
      "cell_type": "code",
      "execution_count": 57,
      "id": "tjXlR4tQOy1I",
      "metadata": {
        "colab": {
          "base_uri": "https://localhost:8080/"
        },
        "id": "tjXlR4tQOy1I",
        "outputId": "ea519cb9-53cb-422a-e373-f0adf6edb97b"
      },
      "outputs": [
        {
          "name": "stdout",
          "output_type": "stream",
          "text": [
            "[[0 0 1 0]\n",
            " [0 0 1 0]\n",
            " [0 0 1 0]]\n"
          ]
        }
      ],
      "source": [
        "# 左から2番目にbを追加\n",
        "e = np.insert(a, 2, b, axis=1)\n",
        "print(e)"
      ]
    },
    {
      "cell_type": "code",
      "execution_count": 58,
      "id": "yqoyXfH9O1Bg",
      "metadata": {
        "colab": {
          "base_uri": "https://localhost:8080/"
        },
        "id": "yqoyXfH9O1Bg",
        "outputId": "14a604d9-fca4-4400-b79f-fa34cb999ce7"
      },
      "outputs": [
        {
          "name": "stdout",
          "output_type": "stream",
          "text": [
            "[[0 0 0 1]\n",
            " [0 0 0 1]\n",
            " [0 0 0 1]]\n"
          ]
        }
      ],
      "source": [
        "# 一番右にbを追加\n",
        "f = np.insert(a, v, b, axis=1)\n",
        "print(f)"
      ]
    },
    {
      "cell_type": "markdown",
      "id": "x-EyHlo4f-zE",
      "metadata": {
        "id": "x-EyHlo4f-zE"
      },
      "source": [
        "#### axisの利用例3：np.delete()"
      ]
    },
    {
      "cell_type": "code",
      "execution_count": 59,
      "id": "B0UGHEwfgVbM",
      "metadata": {
        "colab": {
          "base_uri": "https://localhost:8080/"
        },
        "id": "B0UGHEwfgVbM",
        "outputId": "e1a9ba6a-38bd-45bf-fd8f-dc044abf9983"
      },
      "outputs": [
        {
          "name": "stdout",
          "output_type": "stream",
          "text": [
            "[[ 1  2  3  4  5]\n",
            " [ 6  7  8  9 10]\n",
            " [11 12 13 14 15]\n",
            " [16 17 18 19 20]\n",
            " [21 22 23 24 25]]\n"
          ]
        }
      ],
      "source": [
        "a = np.arange(1, 26).reshape(5, 5)\n",
        "print(a)"
      ]
    },
    {
      "cell_type": "code",
      "execution_count": 60,
      "id": "eVlvIcHCgcbA",
      "metadata": {
        "colab": {
          "base_uri": "https://localhost:8080/"
        },
        "id": "eVlvIcHCgcbA",
        "outputId": "b9155e70-36cc-469d-a36c-99d5ff8a016a"
      },
      "outputs": [
        {
          "name": "stdout",
          "output_type": "stream",
          "text": [
            "[[ 1  2  3  4  5]\n",
            " [11 12 13 14 15]\n",
            " [16 17 18 19 20]\n",
            " [21 22 23 24 25]]\n"
          ]
        }
      ],
      "source": [
        "b = a.copy()\n",
        "\n",
        "# 上から1番目を削除\n",
        "b = np.delete(b, 1, axis=0)\n",
        "print(b)"
      ]
    },
    {
      "cell_type": "code",
      "execution_count": 61,
      "id": "UkAPCiUiho6B",
      "metadata": {
        "colab": {
          "base_uri": "https://localhost:8080/"
        },
        "id": "UkAPCiUiho6B",
        "outputId": "0d3d45c9-fcfb-4a51-b21b-58a06bd02282"
      },
      "outputs": [
        {
          "name": "stdout",
          "output_type": "stream",
          "text": [
            "[[ 1  3  4  5]\n",
            " [ 6  8  9 10]\n",
            " [11 13 14 15]\n",
            " [16 18 19 20]\n",
            " [21 23 24 25]]\n"
          ]
        }
      ],
      "source": [
        "c = a.copy()\n",
        "\n",
        "# 左から1番目を削除\n",
        "c = np.delete(c, 1, 1)\n",
        "print(c)"
      ]
    },
    {
      "cell_type": "code",
      "execution_count": null,
      "id": "bd857a75",
      "metadata": {},
      "outputs": [],
      "source": []
    }
  ],
  "metadata": {
    "colab": {
      "provenance": [],
      "toc_visible": true
    },
    "kernelspec": {
      "display_name": ".venv",
      "language": "python",
      "name": "python3"
    },
    "language_info": {
      "codemirror_mode": {
        "name": "ipython",
        "version": 3
      },
      "file_extension": ".py",
      "mimetype": "text/x-python",
      "name": "python",
      "nbconvert_exporter": "python",
      "pygments_lexer": "ipython3",
      "version": "3.12.7"
    }
  },
  "nbformat": 4,
  "nbformat_minor": 5
}
