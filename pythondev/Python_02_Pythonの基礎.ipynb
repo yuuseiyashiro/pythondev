{
  "cells": [
    {
      "cell_type": "markdown",
      "id": "0BlipuxcH3I4",
      "metadata": {
        "id": "0BlipuxcH3I4"
      },
      "source": [
        "## 数値計算や文字列の操作"
      ]
    },
    {
      "cell_type": "markdown",
      "id": "UN2DW-xh2E0w",
      "metadata": {
        "id": "UN2DW-xh2E0w"
      },
      "source": [
        "### 前提となる「データ型」"
      ]
    },
    {
      "cell_type": "code",
      "execution_count": 1,
      "id": "n-4N8Od4IdJ9",
      "metadata": {
        "colab": {
          "base_uri": "https://localhost:8080/"
        },
        "id": "n-4N8Od4IdJ9",
        "outputId": "a27acbd0-09dc-4063-b476-886337004fa1"
      },
      "outputs": [
        {
          "name": "stdout",
          "output_type": "stream",
          "text": [
            "100\n"
          ]
        }
      ],
      "source": [
        "print(100)"
      ]
    },
    {
      "cell_type": "code",
      "execution_count": 2,
      "id": "ti-BdMMTKneM",
      "metadata": {
        "colab": {
          "base_uri": "https://localhost:8080/"
        },
        "id": "ti-BdMMTKneM",
        "outputId": "1b73ed8e-59c7-4a4f-f3a7-23a5952b11a2"
      },
      "outputs": [
        {
          "name": "stdout",
          "output_type": "stream",
          "text": [
            "3.14159\n"
          ]
        }
      ],
      "source": [
        "print(3.14159)"
      ]
    },
    {
      "cell_type": "code",
      "execution_count": 3,
      "id": "zGlRFgZVKhOb",
      "metadata": {
        "colab": {
          "base_uri": "https://localhost:8080/"
        },
        "id": "zGlRFgZVKhOb",
        "outputId": "eeeb52d3-9b04-447b-b438-f65a3d1f044b"
      },
      "outputs": [
        {
          "name": "stdout",
          "output_type": "stream",
          "text": [
            "3.14\n"
          ]
        }
      ],
      "source": [
        "print('3.14')"
      ]
    },
    {
      "cell_type": "code",
      "execution_count": 4,
      "id": "U5sevzvhKcBW",
      "metadata": {
        "colab": {
          "base_uri": "https://localhost:8080/"
        },
        "id": "U5sevzvhKcBW",
        "outputId": "40f6745e-ffc8-4d72-cbf6-e0ab3e2e247c"
      },
      "outputs": [
        {
          "name": "stdout",
          "output_type": "stream",
          "text": [
            "テックアカデミー\n"
          ]
        }
      ],
      "source": [
        "print(\"テックアカデミー\")"
      ]
    },
    {
      "cell_type": "code",
      "execution_count": 5,
      "id": "Kj1ctoV9L12-",
      "metadata": {
        "colab": {
          "base_uri": "https://localhost:8080/"
        },
        "id": "Kj1ctoV9L12-",
        "outputId": "913a5a40-ee73-48e0-eb83-f9a0e9e988f9"
      },
      "outputs": [
        {
          "name": "stdout",
          "output_type": "stream",
          "text": [
            "5\n"
          ]
        }
      ],
      "source": [
        "print(3 + 2)"
      ]
    },
    {
      "cell_type": "code",
      "execution_count": 6,
      "id": "OoYJEMAiPt88",
      "metadata": {
        "colab": {
          "base_uri": "https://localhost:8080/"
        },
        "id": "OoYJEMAiPt88",
        "outputId": "c0c08b59-66af-42bc-9f10-adaf6d0ef7ec"
      },
      "outputs": [
        {
          "name": "stdout",
          "output_type": "stream",
          "text": [
            "0.14158999999999988\n"
          ]
        }
      ],
      "source": [
        "print(3.14159 - 3)"
      ]
    },
    {
      "cell_type": "code",
      "execution_count": 7,
      "id": "ftCe_KM5TD5E",
      "metadata": {
        "colab": {
          "base_uri": "https://localhost:8080/"
        },
        "id": "ftCe_KM5TD5E",
        "outputId": "67b8ffc7-c585-4445-fc9c-7ccc83ae5a0f"
      },
      "outputs": [
        {
          "name": "stdout",
          "output_type": "stream",
          "text": [
            "55\n"
          ]
        }
      ],
      "source": [
        "print(50 + 3 + 2)"
      ]
    },
    {
      "cell_type": "code",
      "execution_count": 8,
      "id": "gPB48PlCP-6q",
      "metadata": {
        "colab": {
          "base_uri": "https://localhost:8080/"
        },
        "id": "gPB48PlCP-6q",
        "outputId": "8a857a8f-4447-4ad5-f163-17d4f17b095d"
      },
      "outputs": [
        {
          "name": "stdout",
          "output_type": "stream",
          "text": [
            "テックアカデミー\n"
          ]
        }
      ],
      "source": [
        "print(\"テック\" + \"アカデミー\")"
      ]
    },
    {
      "cell_type": "code",
      "execution_count": 9,
      "id": "1JAgwPsMO2-K",
      "metadata": {
        "colab": {
          "base_uri": "https://localhost:8080/",
          "height": 180
        },
        "id": "1JAgwPsMO2-K",
        "outputId": "fa7aa2f2-069d-46f5-c5e7-bc32347da940"
      },
      "outputs": [
        {
          "ename": "TypeError",
          "evalue": "unsupported operand type(s) for +: 'int' and 'str'",
          "output_type": "error",
          "traceback": [
            "\u001b[31m---------------------------------------------------------------------------\u001b[39m",
            "\u001b[31mTypeError\u001b[39m                                 Traceback (most recent call last)",
            "\u001b[36mCell\u001b[39m\u001b[36m \u001b[39m\u001b[32mIn[9]\u001b[39m\u001b[32m, line 1\u001b[39m\n\u001b[32m----> \u001b[39m\u001b[32m1\u001b[39m \u001b[38;5;28mprint\u001b[39m(\u001b[32;43m3\u001b[39;49m\u001b[43m \u001b[49m\u001b[43m+\u001b[49m\u001b[43m \u001b[49m\u001b[33;43m\"\u001b[39;49m\u001b[33;43m統計学\u001b[39;49m\u001b[33;43m\"\u001b[39;49m)\n",
            "\u001b[31mTypeError\u001b[39m: unsupported operand type(s) for +: 'int' and 'str'"
          ]
        }
      ],
      "source": [
        "print(3 + \"統計学\")"
      ]
    },
    {
      "cell_type": "code",
      "execution_count": 10,
      "id": "aZCVFqQCQC_G",
      "metadata": {
        "colab": {
          "base_uri": "https://localhost:8080/",
          "height": 180
        },
        "id": "aZCVFqQCQC_G",
        "outputId": "0ae9ee65-e583-4bfb-916c-186266a9de5e"
      },
      "outputs": [
        {
          "ename": "TypeError",
          "evalue": "unsupported operand type(s) for -: 'str' and 'str'",
          "output_type": "error",
          "traceback": [
            "\u001b[31m---------------------------------------------------------------------------\u001b[39m",
            "\u001b[31mTypeError\u001b[39m                                 Traceback (most recent call last)",
            "\u001b[36mCell\u001b[39m\u001b[36m \u001b[39m\u001b[32mIn[10]\u001b[39m\u001b[32m, line 1\u001b[39m\n\u001b[32m----> \u001b[39m\u001b[32m1\u001b[39m \u001b[38;5;28mprint\u001b[39m(\u001b[33;43m\"\u001b[39;49m\u001b[33;43mテック\u001b[39;49m\u001b[33;43m\"\u001b[39;49m\u001b[43m \u001b[49m\u001b[43m-\u001b[49m\u001b[43m \u001b[49m\u001b[33;43m\"\u001b[39;49m\u001b[33;43mアカデミー\u001b[39;49m\u001b[33;43m\"\u001b[39;49m)\n",
            "\u001b[31mTypeError\u001b[39m: unsupported operand type(s) for -: 'str' and 'str'"
          ]
        }
      ],
      "source": [
        "print(\"テック\" - \"アカデミー\")"
      ]
    },
    {
      "cell_type": "markdown",
      "id": "_LqsrMqWHqIi",
      "metadata": {
        "id": "_LqsrMqWHqIi"
      },
      "source": [
        "### 数値"
      ]
    },
    {
      "cell_type": "code",
      "execution_count": 11,
      "id": "YlSyWuRXXU8t",
      "metadata": {
        "colab": {
          "base_uri": "https://localhost:8080/"
        },
        "id": "YlSyWuRXXU8t",
        "outputId": "f4d5add1-498f-4a9a-cd94-1accabbea85f"
      },
      "outputs": [
        {
          "name": "stdout",
          "output_type": "stream",
          "text": [
            "5\n"
          ]
        }
      ],
      "source": [
        "print(3 + 2)"
      ]
    },
    {
      "cell_type": "code",
      "execution_count": 12,
      "id": "Q0rZlyVAXM5w",
      "metadata": {
        "colab": {
          "base_uri": "https://localhost:8080/"
        },
        "id": "Q0rZlyVAXM5w",
        "outputId": "5878b3f7-8ac7-480a-d13a-1118a5bc50db"
      },
      "outputs": [
        {
          "data": {
            "text/plain": [
              "5"
            ]
          },
          "execution_count": 12,
          "metadata": {},
          "output_type": "execute_result"
        }
      ],
      "source": [
        "3 + 2"
      ]
    },
    {
      "cell_type": "markdown",
      "id": "ClUGMxCyXjtD",
      "metadata": {
        "id": "ClUGMxCyXjtD"
      },
      "source": [
        "#### 数値表現"
      ]
    },
    {
      "cell_type": "code",
      "execution_count": 13,
      "id": "_l257iEkXmv6",
      "metadata": {
        "colab": {
          "base_uri": "https://localhost:8080/"
        },
        "id": "_l257iEkXmv6",
        "outputId": "0a3a2489-2bf4-46cf-d673-e8572a7c6312"
      },
      "outputs": [
        {
          "data": {
            "text/plain": [
              "int"
            ]
          },
          "execution_count": 13,
          "metadata": {},
          "output_type": "execute_result"
        }
      ],
      "source": [
        "type(1)"
      ]
    },
    {
      "cell_type": "code",
      "execution_count": 14,
      "id": "SJdMxejIXb8V",
      "metadata": {
        "colab": {
          "base_uri": "https://localhost:8080/"
        },
        "id": "SJdMxejIXb8V",
        "outputId": "ef257cb9-96cf-4f35-d6e8-7d99be452dde"
      },
      "outputs": [
        {
          "data": {
            "text/plain": [
              "float"
            ]
          },
          "execution_count": 14,
          "metadata": {},
          "output_type": "execute_result"
        }
      ],
      "source": [
        "type(3.14159)"
      ]
    },
    {
      "cell_type": "code",
      "execution_count": 15,
      "id": "UYvbf_TpZs7t",
      "metadata": {
        "colab": {
          "base_uri": "https://localhost:8080/"
        },
        "id": "UYvbf_TpZs7t",
        "outputId": "a591a5bb-4167-471b-ab80-32a9897526ff"
      },
      "outputs": [
        {
          "data": {
            "text/plain": [
              "float"
            ]
          },
          "execution_count": 15,
          "metadata": {},
          "output_type": "execute_result"
        }
      ],
      "source": [
        "type(1.)"
      ]
    },
    {
      "cell_type": "code",
      "execution_count": 16,
      "id": "AE9cBZN9XHXY",
      "metadata": {
        "colab": {
          "base_uri": "https://localhost:8080/"
        },
        "id": "AE9cBZN9XHXY",
        "outputId": "1b0d1d2c-af0e-4df9-e875-cb3a40f2f370"
      },
      "outputs": [
        {
          "data": {
            "text/plain": [
              "float"
            ]
          },
          "execution_count": 16,
          "metadata": {},
          "output_type": "execute_result"
        }
      ],
      "source": [
        "type(.5)"
      ]
    },
    {
      "cell_type": "code",
      "execution_count": 17,
      "id": "DKz2RXnNZvq9",
      "metadata": {
        "colab": {
          "base_uri": "https://localhost:8080/"
        },
        "id": "DKz2RXnNZvq9",
        "outputId": "e307b219-ff3c-43a3-d8d2-fb4c639d3770"
      },
      "outputs": [
        {
          "data": {
            "text/plain": [
              "int"
            ]
          },
          "execution_count": 17,
          "metadata": {},
          "output_type": "execute_result"
        }
      ],
      "source": [
        "type(-1)"
      ]
    },
    {
      "cell_type": "code",
      "execution_count": 18,
      "id": "AvXQjdygdwHt",
      "metadata": {
        "colab": {
          "base_uri": "https://localhost:8080/"
        },
        "id": "AvXQjdygdwHt",
        "outputId": "dd32ccf0-00a8-404a-e880-76f09b369d6d"
      },
      "outputs": [
        {
          "data": {
            "text/plain": [
              "100000.0"
            ]
          },
          "execution_count": 18,
          "metadata": {},
          "output_type": "execute_result"
        }
      ],
      "source": [
        "1e+5"
      ]
    },
    {
      "cell_type": "code",
      "execution_count": 19,
      "id": "LUkq_9FQedt5",
      "metadata": {
        "colab": {
          "base_uri": "https://localhost:8080/"
        },
        "id": "LUkq_9FQedt5",
        "outputId": "07b2ede3-e9f1-44f5-80e6-497ab576f9d2"
      },
      "outputs": [
        {
          "data": {
            "text/plain": [
              "100000.0"
            ]
          },
          "execution_count": 19,
          "metadata": {},
          "output_type": "execute_result"
        }
      ],
      "source": [
        "1e5"
      ]
    },
    {
      "cell_type": "code",
      "execution_count": 20,
      "id": "9usIgQmreDls",
      "metadata": {
        "colab": {
          "base_uri": "https://localhost:8080/"
        },
        "id": "9usIgQmreDls",
        "outputId": "0d4a32f1-5f09-43c1-9294-9f6fecce5664"
      },
      "outputs": [
        {
          "data": {
            "text/plain": [
              "0.0001"
            ]
          },
          "execution_count": 20,
          "metadata": {},
          "output_type": "execute_result"
        }
      ],
      "source": [
        "1e-4"
      ]
    },
    {
      "cell_type": "markdown",
      "id": "RwoWnvpnaAak",
      "metadata": {
        "id": "RwoWnvpnaAak"
      },
      "source": [
        "#### 数値演算"
      ]
    },
    {
      "cell_type": "code",
      "execution_count": 21,
      "id": "KfV94Hp29Iqf",
      "metadata": {
        "colab": {
          "base_uri": "https://localhost:8080/"
        },
        "id": "KfV94Hp29Iqf",
        "outputId": "cb3c678f-6a6a-4218-b65e-3efc29481630"
      },
      "outputs": [
        {
          "data": {
            "text/plain": [
              "8300"
            ]
          },
          "execution_count": 21,
          "metadata": {},
          "output_type": "execute_result"
        }
      ],
      "source": [
        "10000 + 300 - 2000"
      ]
    },
    {
      "cell_type": "code",
      "execution_count": 22,
      "id": "UDz9Ui9F9RLH",
      "metadata": {
        "colab": {
          "base_uri": "https://localhost:8080/"
        },
        "id": "UDz9Ui9F9RLH",
        "outputId": "958f946a-1b22-4c85-e5d2-a84340e35270"
      },
      "outputs": [
        {
          "data": {
            "text/plain": [
              "32"
            ]
          },
          "execution_count": 22,
          "metadata": {},
          "output_type": "execute_result"
        }
      ],
      "source": [
        "8 * 4"
      ]
    },
    {
      "cell_type": "code",
      "execution_count": 23,
      "id": "xaD23aC-9SBP",
      "metadata": {
        "colab": {
          "base_uri": "https://localhost:8080/"
        },
        "id": "xaD23aC-9SBP",
        "outputId": "d169b83d-4f6b-4c70-a04d-4aa15a32f83b"
      },
      "outputs": [
        {
          "data": {
            "text/plain": [
              "9.0"
            ]
          },
          "execution_count": 23,
          "metadata": {},
          "output_type": "execute_result"
        }
      ],
      "source": [
        "54 / 6"
      ]
    },
    {
      "cell_type": "code",
      "execution_count": 24,
      "id": "3cc7c2ae",
      "metadata": {
        "colab": {
          "base_uri": "https://localhost:8080/"
        },
        "id": "3cc7c2ae",
        "outputId": "a567e8e7-feb1-46ee-d5a3-63b6c7bd198e"
      },
      "outputs": [
        {
          "data": {
            "text/plain": [
              "2.625"
            ]
          },
          "execution_count": 24,
          "metadata": {},
          "output_type": "execute_result"
        }
      ],
      "source": [
        "21 / 8"
      ]
    },
    {
      "cell_type": "code",
      "execution_count": 25,
      "id": "b30065cc",
      "metadata": {
        "colab": {
          "base_uri": "https://localhost:8080/"
        },
        "id": "b30065cc",
        "outputId": "7499aa4d-a9cc-4cb4-e7ef-b0111ed8c778"
      },
      "outputs": [
        {
          "data": {
            "text/plain": [
              "2"
            ]
          },
          "execution_count": 25,
          "metadata": {},
          "output_type": "execute_result"
        }
      ],
      "source": [
        "21 // 8"
      ]
    },
    {
      "cell_type": "code",
      "execution_count": 26,
      "id": "n7F4VdNDAz5V",
      "metadata": {
        "colab": {
          "base_uri": "https://localhost:8080/"
        },
        "id": "n7F4VdNDAz5V",
        "outputId": "91c0234e-38ff-478e-ecc5-9b36a44a1e4b"
      },
      "outputs": [
        {
          "data": {
            "text/plain": [
              "5"
            ]
          },
          "execution_count": 26,
          "metadata": {},
          "output_type": "execute_result"
        }
      ],
      "source": [
        "21 % 8"
      ]
    },
    {
      "cell_type": "code",
      "execution_count": 27,
      "id": "x-N6_X_UBgba",
      "metadata": {
        "colab": {
          "base_uri": "https://localhost:8080/"
        },
        "id": "x-N6_X_UBgba",
        "outputId": "8d151030-0ccf-4d50-b41e-69caa92c6491"
      },
      "outputs": [
        {
          "data": {
            "text/plain": [
              "4096"
            ]
          },
          "execution_count": 27,
          "metadata": {},
          "output_type": "execute_result"
        }
      ],
      "source": [
        "8 ** 4"
      ]
    },
    {
      "cell_type": "code",
      "execution_count": 28,
      "id": "2KQADjNhCro-",
      "metadata": {
        "colab": {
          "base_uri": "https://localhost:8080/"
        },
        "id": "2KQADjNhCro-",
        "outputId": "8de71ba1-8070-4a27-f130-053db7f704ab"
      },
      "outputs": [
        {
          "data": {
            "text/plain": [
              "4"
            ]
          },
          "execution_count": 28,
          "metadata": {},
          "output_type": "execute_result"
        }
      ],
      "source": [
        "2^6"
      ]
    },
    {
      "cell_type": "code",
      "execution_count": 29,
      "id": "L9LZGwZbMKcr",
      "metadata": {
        "colab": {
          "base_uri": "https://localhost:8080/"
        },
        "id": "L9LZGwZbMKcr",
        "outputId": "d59989d1-2027-47ab-ffb5-8e1a8e485beb"
      },
      "outputs": [
        {
          "data": {
            "text/plain": [
              "13.799999999999999"
            ]
          },
          "execution_count": 29,
          "metadata": {},
          "output_type": "execute_result"
        }
      ],
      "source": [
        "3 * 4.6"
      ]
    },
    {
      "cell_type": "code",
      "execution_count": 30,
      "id": "ytH1qGg8MMfC",
      "metadata": {
        "colab": {
          "base_uri": "https://localhost:8080/"
        },
        "id": "ytH1qGg8MMfC",
        "outputId": "3625378b-1877-4bb8-8535-6bdc9759fd83"
      },
      "outputs": [
        {
          "data": {
            "text/plain": [
              "0.30000000000000004"
            ]
          },
          "execution_count": 30,
          "metadata": {},
          "output_type": "execute_result"
        }
      ],
      "source": [
        "0.1 + 0.1 + 0.1"
      ]
    },
    {
      "cell_type": "code",
      "execution_count": 31,
      "id": "YXn6q5uYEWp7",
      "metadata": {
        "colab": {
          "base_uri": "https://localhost:8080/"
        },
        "id": "YXn6q5uYEWp7",
        "outputId": "b474e7a2-1014-4437-dd91-3c69a80fe1e3"
      },
      "outputs": [
        {
          "data": {
            "text/plain": [
              "13.8"
            ]
          },
          "execution_count": 31,
          "metadata": {},
          "output_type": "execute_result"
        }
      ],
      "source": [
        "round(3 * 4.6, 1)"
      ]
    },
    {
      "cell_type": "markdown",
      "id": "e49a6e49",
      "metadata": {
        "id": "e49a6e49"
      },
      "source": [
        "#### 数値のデータ型変換"
      ]
    },
    {
      "cell_type": "code",
      "execution_count": 32,
      "id": "Qb8IM3gXNttQ",
      "metadata": {
        "colab": {
          "base_uri": "https://localhost:8080/"
        },
        "id": "Qb8IM3gXNttQ",
        "outputId": "025c1659-5008-4151-81eb-330795daf4c2"
      },
      "outputs": [
        {
          "data": {
            "text/plain": [
              "123"
            ]
          },
          "execution_count": 32,
          "metadata": {},
          "output_type": "execute_result"
        }
      ],
      "source": [
        "int(123.456)"
      ]
    },
    {
      "cell_type": "code",
      "execution_count": 33,
      "id": "klhqdAPer7hx",
      "metadata": {
        "colab": {
          "base_uri": "https://localhost:8080/"
        },
        "id": "klhqdAPer7hx",
        "outputId": "a929eb17-b8ef-49d2-8ab1-47b8910ed3b9"
      },
      "outputs": [
        {
          "data": {
            "text/plain": [
              "0"
            ]
          },
          "execution_count": 33,
          "metadata": {},
          "output_type": "execute_result"
        }
      ],
      "source": [
        "int(0.999)"
      ]
    },
    {
      "cell_type": "code",
      "execution_count": 34,
      "id": "dGHZhb_JNu49",
      "metadata": {
        "colab": {
          "base_uri": "https://localhost:8080/"
        },
        "id": "dGHZhb_JNu49",
        "outputId": "f2f0576c-643a-42a6-b47c-221cb9aa0a3a"
      },
      "outputs": [
        {
          "data": {
            "text/plain": [
              "789.0"
            ]
          },
          "execution_count": 34,
          "metadata": {},
          "output_type": "execute_result"
        }
      ],
      "source": [
        "float(789)"
      ]
    },
    {
      "cell_type": "code",
      "execution_count": 35,
      "id": "1DRGvUV1tPRv",
      "metadata": {
        "colab": {
          "base_uri": "https://localhost:8080/"
        },
        "id": "1DRGvUV1tPRv",
        "outputId": "850519b7-1545-4929-ca74-c2957872d961"
      },
      "outputs": [
        {
          "data": {
            "text/plain": [
              "1234567890"
            ]
          },
          "execution_count": 35,
          "metadata": {},
          "output_type": "execute_result"
        }
      ],
      "source": [
        "int(\"1234567890\")"
      ]
    },
    {
      "cell_type": "code",
      "execution_count": 36,
      "id": "h6a-HEVctR8Q",
      "metadata": {
        "colab": {
          "base_uri": "https://localhost:8080/"
        },
        "id": "h6a-HEVctR8Q",
        "outputId": "44200eda-3290-4117-927e-0ecc8a9f1b81"
      },
      "outputs": [
        {
          "data": {
            "text/plain": [
              "3.14159265358"
            ]
          },
          "execution_count": 36,
          "metadata": {},
          "output_type": "execute_result"
        }
      ],
      "source": [
        "float(\"3.14159265358\")"
      ]
    },
    {
      "cell_type": "code",
      "execution_count": 37,
      "id": "0qPyuxs2taJw",
      "metadata": {
        "colab": {
          "base_uri": "https://localhost:8080/",
          "height": 180
        },
        "id": "0qPyuxs2taJw",
        "outputId": "adfd9a52-a527-4f99-b6bb-5d6628ed0653"
      },
      "outputs": [
        {
          "ename": "ValueError",
          "evalue": "invalid literal for int() with base 10: '3.0'",
          "output_type": "error",
          "traceback": [
            "\u001b[31m---------------------------------------------------------------------------\u001b[39m",
            "\u001b[31mValueError\u001b[39m                                Traceback (most recent call last)",
            "\u001b[36mCell\u001b[39m\u001b[36m \u001b[39m\u001b[32mIn[37]\u001b[39m\u001b[32m, line 1\u001b[39m\n\u001b[32m----> \u001b[39m\u001b[32m1\u001b[39m \u001b[38;5;28;43mint\u001b[39;49m\u001b[43m(\u001b[49m\u001b[33;43m\"\u001b[39;49m\u001b[33;43m3.0\u001b[39;49m\u001b[33;43m\"\u001b[39;49m\u001b[43m)\u001b[49m\n",
            "\u001b[31mValueError\u001b[39m: invalid literal for int() with base 10: '3.0'"
          ]
        }
      ],
      "source": [
        "int(\"3.0\")"
      ]
    },
    {
      "cell_type": "code",
      "execution_count": 38,
      "id": "VgRmH7zjjhLk",
      "metadata": {
        "colab": {
          "base_uri": "https://localhost:8080/"
        },
        "id": "VgRmH7zjjhLk",
        "outputId": "18a61df8-7ca9-4102-8558-b0540f60b09f"
      },
      "outputs": [
        {
          "data": {
            "text/plain": [
              "3"
            ]
          },
          "execution_count": 38,
          "metadata": {},
          "output_type": "execute_result"
        }
      ],
      "source": [
        "int(float(\"3.0\"))"
      ]
    },
    {
      "cell_type": "code",
      "execution_count": 39,
      "id": "0Xx1h8tdtmHM",
      "metadata": {
        "colab": {
          "base_uri": "https://localhost:8080/"
        },
        "id": "0Xx1h8tdtmHM",
        "outputId": "2296fcda-45ba-4701-ecc1-01b9085b889b"
      },
      "outputs": [
        {
          "data": {
            "text/plain": [
              "9414513.0"
            ]
          },
          "execution_count": 39,
          "metadata": {},
          "output_type": "execute_result"
        }
      ],
      "source": [
        "float(\"9414513\")"
      ]
    },
    {
      "cell_type": "code",
      "execution_count": 40,
      "id": "S7n4r8xAttEO",
      "metadata": {
        "colab": {
          "base_uri": "https://localhost:8080/",
          "height": 166
        },
        "id": "S7n4r8xAttEO",
        "outputId": "201b4e4e-3b10-4d67-acfc-d39d9b93ca1c"
      },
      "outputs": [
        {
          "ename": "ValueError",
          "evalue": "invalid literal for int() with base 10: '一九九九'",
          "output_type": "error",
          "traceback": [
            "\u001b[31m---------------------------------------------------------------------------\u001b[39m",
            "\u001b[31mValueError\u001b[39m                                Traceback (most recent call last)",
            "\u001b[36mCell\u001b[39m\u001b[36m \u001b[39m\u001b[32mIn[40]\u001b[39m\u001b[32m, line 1\u001b[39m\n\u001b[32m----> \u001b[39m\u001b[32m1\u001b[39m \u001b[38;5;28;43mint\u001b[39;49m\u001b[43m(\u001b[49m\u001b[33;43m\"\u001b[39;49m\u001b[33;43m一九九九\u001b[39;49m\u001b[33;43m\"\u001b[39;49m\u001b[43m)\u001b[49m\n",
            "\u001b[31mValueError\u001b[39m: invalid literal for int() with base 10: '一九九九'"
          ]
        }
      ],
      "source": [
        "int(\"一九九九\")"
      ]
    },
    {
      "cell_type": "code",
      "execution_count": 41,
      "id": "lCad-NIWtx75",
      "metadata": {
        "colab": {
          "base_uri": "https://localhost:8080/",
          "height": 166
        },
        "id": "lCad-NIWtx75",
        "outputId": "4c25a21a-39d8-4e8c-e923-f63ac1d63a7e"
      },
      "outputs": [
        {
          "ename": "ValueError",
          "evalue": "invalid literal for int() with base 10: '1,999,000'",
          "output_type": "error",
          "traceback": [
            "\u001b[31m---------------------------------------------------------------------------\u001b[39m",
            "\u001b[31mValueError\u001b[39m                                Traceback (most recent call last)",
            "\u001b[36mCell\u001b[39m\u001b[36m \u001b[39m\u001b[32mIn[41]\u001b[39m\u001b[32m, line 1\u001b[39m\n\u001b[32m----> \u001b[39m\u001b[32m1\u001b[39m \u001b[38;5;28;43mint\u001b[39;49m\u001b[43m(\u001b[49m\u001b[33;43m\"\u001b[39;49m\u001b[33;43m1,999,000\u001b[39;49m\u001b[33;43m\"\u001b[39;49m\u001b[43m)\u001b[49m\n",
            "\u001b[31mValueError\u001b[39m: invalid literal for int() with base 10: '1,999,000'"
          ]
        }
      ],
      "source": [
        "int(\"1,999,000\")"
      ]
    },
    {
      "cell_type": "markdown",
      "id": "9fa53536",
      "metadata": {
        "id": "9fa53536"
      },
      "source": [
        "### 文字列\n"
      ]
    },
    {
      "cell_type": "markdown",
      "id": "99Pgs98wC4_h",
      "metadata": {
        "id": "99Pgs98wC4_h"
      },
      "source": [
        "#### クォーテーションをクォーテーションの文字として表示する方法"
      ]
    },
    {
      "cell_type": "code",
      "execution_count": 42,
      "id": "ce0246cb",
      "metadata": {
        "colab": {
          "base_uri": "https://localhost:8080/",
          "height": 145
        },
        "id": "ce0246cb",
        "outputId": "44c8fe5c-5c80-4dde-f4e1-846aaffad05f"
      },
      "outputs": [
        {
          "ename": "SyntaxError",
          "evalue": "invalid syntax. Perhaps you forgot a comma? (3595268814.py, line 1)",
          "output_type": "error",
          "traceback": [
            "  \u001b[36mCell\u001b[39m\u001b[36m \u001b[39m\u001b[32mIn[42]\u001b[39m\u001b[32m, line 1\u001b[39m\n\u001b[31m    \u001b[39m\u001b[31mprint(\"Hello, \"Python\" world!\")\u001b[39m\n          ^\n\u001b[31mSyntaxError\u001b[39m\u001b[31m:\u001b[39m invalid syntax. Perhaps you forgot a comma?\n"
          ]
        }
      ],
      "source": [
        "print(\"Hello, \"Python\" world!\")"
      ]
    },
    {
      "cell_type": "code",
      "execution_count": 43,
      "id": "eoeN9kx4eQ53",
      "metadata": {
        "colab": {
          "base_uri": "https://localhost:8080/",
          "height": 145
        },
        "id": "eoeN9kx4eQ53",
        "outputId": "3f641255-e861-4887-b9e8-a270551619a6"
      },
      "outputs": [
        {
          "ename": "SyntaxError",
          "evalue": "unterminated string literal (detected at line 1) (954830709.py, line 1)",
          "output_type": "error",
          "traceback": [
            "  \u001b[36mCell\u001b[39m\u001b[36m \u001b[39m\u001b[32mIn[43]\u001b[39m\u001b[32m, line 1\u001b[39m\n\u001b[31m    \u001b[39m\u001b[31mprint('I'm Taro Tech')\u001b[39m\n                        ^\n\u001b[31mSyntaxError\u001b[39m\u001b[31m:\u001b[39m unterminated string literal (detected at line 1)\n"
          ]
        }
      ],
      "source": [
        "print('I'm Taro Tech')"
      ]
    },
    {
      "cell_type": "markdown",
      "id": "cd90acca",
      "metadata": {
        "id": "cd90acca"
      },
      "source": [
        "##### （1）別のクォーテーションで囲む"
      ]
    },
    {
      "cell_type": "code",
      "execution_count": 44,
      "id": "267716ec",
      "metadata": {
        "colab": {
          "base_uri": "https://localhost:8080/"
        },
        "id": "267716ec",
        "outputId": "8b7b7f28-b737-4ca4-936b-b589edb2f3ad"
      },
      "outputs": [
        {
          "name": "stdout",
          "output_type": "stream",
          "text": [
            "Hello, \"Python\" world!\n"
          ]
        }
      ],
      "source": [
        "print('Hello, \"Python\" world!')"
      ]
    },
    {
      "cell_type": "code",
      "execution_count": 45,
      "id": "GoEZ4qZtlrMP",
      "metadata": {
        "colab": {
          "base_uri": "https://localhost:8080/"
        },
        "id": "GoEZ4qZtlrMP",
        "outputId": "b5af5119-5b69-459b-d310-e05ed24e9bde"
      },
      "outputs": [
        {
          "name": "stdout",
          "output_type": "stream",
          "text": [
            "Hello, 'Python' world!\n"
          ]
        }
      ],
      "source": [
        "print(\"Hello, 'Python' world!\")"
      ]
    },
    {
      "cell_type": "code",
      "execution_count": 46,
      "id": "ulwqDGVsfmec",
      "metadata": {
        "colab": {
          "base_uri": "https://localhost:8080/",
          "height": 145
        },
        "id": "ulwqDGVsfmec",
        "outputId": "9ab1370d-5e4b-4039-9d07-95cb2f9df014"
      },
      "outputs": [
        {
          "ename": "SyntaxError",
          "evalue": "unterminated string literal (detected at line 1) (1199198463.py, line 1)",
          "output_type": "error",
          "traceback": [
            "  \u001b[36mCell\u001b[39m\u001b[36m \u001b[39m\u001b[32mIn[46]\u001b[39m\u001b[32m, line 1\u001b[39m\n\u001b[31m    \u001b[39m\u001b[31mprint('Hello, \"Python\" world! I'm Taro Tech!')\u001b[39m\n                                                ^\n\u001b[31mSyntaxError\u001b[39m\u001b[31m:\u001b[39m unterminated string literal (detected at line 1)\n"
          ]
        }
      ],
      "source": [
        "print('Hello, \"Python\" world! I'm Taro Tech!')"
      ]
    },
    {
      "cell_type": "markdown",
      "id": "417539bd",
      "metadata": {
        "id": "417539bd"
      },
      "source": [
        "##### （2）エスケープシーケンスを使う"
      ]
    },
    {
      "cell_type": "code",
      "execution_count": 47,
      "id": "39f40c3a",
      "metadata": {
        "colab": {
          "base_uri": "https://localhost:8080/"
        },
        "id": "39f40c3a",
        "outputId": "da846a6c-6bbc-42d7-8ee1-7445806d446b"
      },
      "outputs": [
        {
          "name": "stdout",
          "output_type": "stream",
          "text": [
            "Hello, \"Python\" world!\n"
          ]
        }
      ],
      "source": [
        "print(\"Hello, \\\"Python\\\" world!\")"
      ]
    },
    {
      "cell_type": "code",
      "execution_count": 48,
      "id": "yQJrFvHamSYF",
      "metadata": {
        "colab": {
          "base_uri": "https://localhost:8080/"
        },
        "id": "yQJrFvHamSYF",
        "outputId": "91a1e5dd-a31b-44d1-f195-4943f87b2477"
      },
      "outputs": [
        {
          "name": "stdout",
          "output_type": "stream",
          "text": [
            "Hello, 'Python' world!\n"
          ]
        }
      ],
      "source": [
        "print('Hello, \\'Python\\' world!')"
      ]
    },
    {
      "cell_type": "markdown",
      "id": "MyrIStojf_3y",
      "metadata": {
        "id": "MyrIStojf_3y"
      },
      "source": [
        "##### （3）クォーテーションマーク3つで挟む"
      ]
    },
    {
      "cell_type": "code",
      "execution_count": 49,
      "id": "0sJwDJpvgWq2",
      "metadata": {
        "colab": {
          "base_uri": "https://localhost:8080/"
        },
        "id": "0sJwDJpvgWq2",
        "outputId": "70a71cb1-7e6b-432b-c429-7e50e6b42cfd"
      },
      "outputs": [
        {
          "name": "stdout",
          "output_type": "stream",
          "text": [
            "Hello, \"Python\" world!\n"
          ]
        }
      ],
      "source": [
        "print(\"\"\"Hello, \"Python\" world!\"\"\")"
      ]
    },
    {
      "cell_type": "code",
      "execution_count": 50,
      "id": "xjf6Lx1mgcDD",
      "metadata": {
        "colab": {
          "base_uri": "https://localhost:8080/"
        },
        "id": "xjf6Lx1mgcDD",
        "outputId": "524babc5-3157-4a35-bfbd-1ec5104b1970"
      },
      "outputs": [
        {
          "name": "stdout",
          "output_type": "stream",
          "text": [
            "I'm Taro Tech\n"
          ]
        }
      ],
      "source": [
        "print('''I'm Taro Tech''')"
      ]
    },
    {
      "cell_type": "markdown",
      "id": "629dbc62",
      "metadata": {
        "id": "629dbc62"
      },
      "source": [
        "#### 改行して表示する"
      ]
    },
    {
      "cell_type": "code",
      "execution_count": 51,
      "id": "a39f7e8b",
      "metadata": {
        "colab": {
          "base_uri": "https://localhost:8080/"
        },
        "id": "a39f7e8b",
        "outputId": "fbc07001-6b08-4f9f-80bb-4fe8898d13b2"
      },
      "outputs": [
        {
          "name": "stdout",
          "output_type": "stream",
          "text": [
            "統計学\n",
            "---\n",
            "統計学(とうけいがく、英: statistics)とは、統計に関する研究を行う学問である。\n"
          ]
        }
      ],
      "source": [
        "print(\"\"\"統計学\n",
        "---\n",
        "統計学(とうけいがく、英: statistics)とは、統計に関する研究を行う学問である。\"\"\")"
      ]
    },
    {
      "cell_type": "markdown",
      "id": "iSTv-rxDh0eH",
      "metadata": {
        "id": "iSTv-rxDh0eH"
      },
      "source": [
        "#### 「エスケープシーケンス」で改行する"
      ]
    },
    {
      "cell_type": "code",
      "execution_count": 52,
      "id": "t29uI-H0vUQy",
      "metadata": {
        "colab": {
          "base_uri": "https://localhost:8080/",
          "height": 145
        },
        "id": "t29uI-H0vUQy",
        "outputId": "826cd7bd-6460-4673-db37-5bf608c11dd2"
      },
      "outputs": [
        {
          "ename": "SyntaxError",
          "evalue": "unterminated string literal (detected at line 1) (495305360.py, line 1)",
          "output_type": "error",
          "traceback": [
            "  \u001b[36mCell\u001b[39m\u001b[36m \u001b[39m\u001b[32mIn[52]\u001b[39m\u001b[32m, line 1\u001b[39m\n\u001b[31m    \u001b[39m\u001b[31mprint(\"Hello,\u001b[39m\n          ^\n\u001b[31mSyntaxError\u001b[39m\u001b[31m:\u001b[39m unterminated string literal (detected at line 1)\n"
          ]
        }
      ],
      "source": [
        "print(\"Hello,\n",
        "Python\n",
        "world!\")"
      ]
    },
    {
      "cell_type": "code",
      "execution_count": 53,
      "id": "c84588a2",
      "metadata": {
        "colab": {
          "base_uri": "https://localhost:8080/"
        },
        "id": "c84588a2",
        "outputId": "d98ab332-369f-4982-a119-acae43346afd"
      },
      "outputs": [
        {
          "name": "stdout",
          "output_type": "stream",
          "text": [
            "Hello,\n",
            "Python\n",
            "world!\n"
          ]
        }
      ],
      "source": [
        "print(\"Hello,\\nPython\\nworld!\")"
      ]
    },
    {
      "cell_type": "markdown",
      "id": "vBWrsSQI2slF",
      "metadata": {
        "id": "vBWrsSQI2slF"
      },
      "source": [
        "#### 文字列の掛け算"
      ]
    },
    {
      "cell_type": "code",
      "execution_count": 54,
      "id": "e1312ba1",
      "metadata": {
        "colab": {
          "base_uri": "https://localhost:8080/",
          "height": 35
        },
        "id": "e1312ba1",
        "outputId": "be371559-7b43-49f2-b98d-32d04a3027b6"
      },
      "outputs": [
        {
          "data": {
            "text/plain": [
              "'abcabcabc'"
            ]
          },
          "execution_count": 54,
          "metadata": {},
          "output_type": "execute_result"
        }
      ],
      "source": [
        "\"abc\" * 3"
      ]
    },
    {
      "cell_type": "markdown",
      "id": "cdcaea50",
      "metadata": {
        "id": "cdcaea50"
      },
      "source": [
        "#### 数値を文字列に変換する"
      ]
    },
    {
      "cell_type": "code",
      "execution_count": 55,
      "id": "09845fe8",
      "metadata": {
        "colab": {
          "base_uri": "https://localhost:8080/",
          "height": 35
        },
        "id": "09845fe8",
        "outputId": "7193b5a5-483d-4e27-888a-c1bc418eb348"
      },
      "outputs": [
        {
          "data": {
            "text/plain": [
              "'123'"
            ]
          },
          "execution_count": 55,
          "metadata": {},
          "output_type": "execute_result"
        }
      ],
      "source": [
        "str(123)"
      ]
    },
    {
      "cell_type": "code",
      "execution_count": 56,
      "id": "NofbQLGC4KvV",
      "metadata": {
        "colab": {
          "base_uri": "https://localhost:8080/"
        },
        "id": "NofbQLGC4KvV",
        "outputId": "921f0f39-39cc-41fe-e90c-40dcabf3e5de"
      },
      "outputs": [
        {
          "data": {
            "text/plain": [
              "str"
            ]
          },
          "execution_count": 56,
          "metadata": {},
          "output_type": "execute_result"
        }
      ],
      "source": [
        "type(str(123))"
      ]
    },
    {
      "cell_type": "code",
      "execution_count": 57,
      "id": "jIaGbLpVy8Rt",
      "metadata": {
        "colab": {
          "base_uri": "https://localhost:8080/"
        },
        "id": "jIaGbLpVy8Rt",
        "outputId": "dff488d0-99f0-4d8a-bc4c-a3755e52a73e"
      },
      "outputs": [
        {
          "data": {
            "text/plain": [
              "3"
            ]
          },
          "execution_count": 57,
          "metadata": {},
          "output_type": "execute_result"
        }
      ],
      "source": [
        "len(str(123))"
      ]
    },
    {
      "cell_type": "markdown",
      "id": "2d240861",
      "metadata": {
        "id": "2d240861"
      },
      "source": [
        "## 変数"
      ]
    },
    {
      "cell_type": "markdown",
      "id": "YSyPrMbK7hQw",
      "metadata": {
        "id": "YSyPrMbK7hQw"
      },
      "source": [
        "### 変数を使ってみる"
      ]
    },
    {
      "cell_type": "code",
      "execution_count": 58,
      "id": "-yuLhjJw8wDI",
      "metadata": {
        "colab": {
          "base_uri": "https://localhost:8080/"
        },
        "id": "-yuLhjJw8wDI",
        "outputId": "09362da2-f438-4421-bf5f-3c1873a2af47"
      },
      "outputs": [
        {
          "name": "stdout",
          "output_type": "stream",
          "text": [
            "2\n"
          ]
        }
      ],
      "source": [
        "a = 2\n",
        "b = 998\n",
        "print(a)"
      ]
    },
    {
      "cell_type": "code",
      "execution_count": 59,
      "id": "2JwNP2jvAQde",
      "metadata": {
        "colab": {
          "base_uri": "https://localhost:8080/"
        },
        "id": "2JwNP2jvAQde",
        "outputId": "1a6e61fc-b782-4d6e-e124-b753b47b4ca5"
      },
      "outputs": [
        {
          "name": "stdout",
          "output_type": "stream",
          "text": [
            "998\n"
          ]
        }
      ],
      "source": [
        "print(b)"
      ]
    },
    {
      "cell_type": "code",
      "execution_count": 60,
      "id": "AfL5UDnUBIwb",
      "metadata": {
        "colab": {
          "base_uri": "https://localhost:8080/"
        },
        "id": "AfL5UDnUBIwb",
        "outputId": "bfaa9961-dbc8-4230-9d85-711562b5aebe"
      },
      "outputs": [
        {
          "data": {
            "text/plain": [
              "1000"
            ]
          },
          "execution_count": 60,
          "metadata": {},
          "output_type": "execute_result"
        }
      ],
      "source": [
        "2+998"
      ]
    },
    {
      "cell_type": "code",
      "execution_count": 61,
      "id": "7Z5XiAelBKBL",
      "metadata": {
        "colab": {
          "base_uri": "https://localhost:8080/"
        },
        "id": "7Z5XiAelBKBL",
        "outputId": "aeca15de-6407-4f7b-85f9-918050901109"
      },
      "outputs": [
        {
          "data": {
            "text/plain": [
              "1000"
            ]
          },
          "execution_count": 61,
          "metadata": {},
          "output_type": "execute_result"
        }
      ],
      "source": [
        "a + b"
      ]
    },
    {
      "cell_type": "code",
      "execution_count": 62,
      "id": "O_fmCRe8BTTj",
      "metadata": {
        "colab": {
          "base_uri": "https://localhost:8080/"
        },
        "id": "O_fmCRe8BTTj",
        "outputId": "62059502-26cb-4722-d4e7-a42dcab43f11"
      },
      "outputs": [
        {
          "data": {
            "text/plain": [
              "0.002004008016032064"
            ]
          },
          "execution_count": 62,
          "metadata": {},
          "output_type": "execute_result"
        }
      ],
      "source": [
        "a / b"
      ]
    },
    {
      "cell_type": "code",
      "execution_count": 63,
      "id": "0zRiA5bnBgkX",
      "metadata": {
        "colab": {
          "base_uri": "https://localhost:8080/"
        },
        "id": "0zRiA5bnBgkX",
        "outputId": "33b16be2-37fe-4ae6-cff1-79bca43b7785"
      },
      "outputs": [
        {
          "data": {
            "text/plain": [
              "1996"
            ]
          },
          "execution_count": 63,
          "metadata": {},
          "output_type": "execute_result"
        }
      ],
      "source": [
        "a * b"
      ]
    },
    {
      "cell_type": "code",
      "execution_count": 64,
      "id": "h0uczVN1BiTk",
      "metadata": {
        "colab": {
          "base_uri": "https://localhost:8080/"
        },
        "id": "h0uczVN1BiTk",
        "outputId": "eaeb1793-217d-4549-8817-574ccb701b1e"
      },
      "outputs": [
        {
          "data": {
            "text/plain": [
              "2678771517965668302371062622650004526403512029263834018609375970925877627812340306232995947039239645318986682293882867062967863214230785108996144393674643700983641943706057746355268651265592785469488545538261618745895485316849691889791385986519265728642799119421635541915107457913156096709301417017344"
            ]
          },
          "execution_count": 64,
          "metadata": {},
          "output_type": "execute_result"
        }
      ],
      "source": [
        "a ** b"
      ]
    },
    {
      "cell_type": "code",
      "execution_count": 65,
      "id": "jqEFjNC5CFNs",
      "metadata": {
        "id": "jqEFjNC5CFNs"
      },
      "outputs": [],
      "source": [
        "c = a + b"
      ]
    },
    {
      "cell_type": "code",
      "execution_count": 66,
      "id": "3f8665c9",
      "metadata": {
        "colab": {
          "base_uri": "https://localhost:8080/"
        },
        "id": "3f8665c9",
        "outputId": "6195a281-532c-4011-b327-1a55ce92d41d"
      },
      "outputs": [
        {
          "data": {
            "text/plain": [
              "1000"
            ]
          },
          "execution_count": 66,
          "metadata": {},
          "output_type": "execute_result"
        }
      ],
      "source": [
        "c"
      ]
    },
    {
      "cell_type": "code",
      "execution_count": 67,
      "id": "4a849b98",
      "metadata": {
        "colab": {
          "base_uri": "https://localhost:8080/"
        },
        "id": "4a849b98",
        "outputId": "06945a12-bac6-4c6f-869b-97c602a0f42c"
      },
      "outputs": [
        {
          "name": "stdout",
          "output_type": "stream",
          "text": [
            "11\n"
          ]
        }
      ],
      "source": [
        "d = 10\n",
        "e = d + 1\n",
        "print(e)"
      ]
    },
    {
      "cell_type": "markdown",
      "id": "1XIT7xUvGdHC",
      "metadata": {
        "id": "1XIT7xUvGdHC"
      },
      "source": [
        "### 同じ変数に上書きする"
      ]
    },
    {
      "cell_type": "code",
      "execution_count": 68,
      "id": "FjCSevb2IVJl",
      "metadata": {
        "colab": {
          "base_uri": "https://localhost:8080/"
        },
        "id": "FjCSevb2IVJl",
        "outputId": "417c5650-ca10-43d4-e8c8-4aa71579a0b5"
      },
      "outputs": [
        {
          "data": {
            "text/plain": [
              "200"
            ]
          },
          "execution_count": 68,
          "metadata": {},
          "output_type": "execute_result"
        }
      ],
      "source": [
        "f = 100\n",
        "f = f + 100\n",
        "f"
      ]
    },
    {
      "cell_type": "markdown",
      "id": "74630acb",
      "metadata": {
        "id": "74630acb"
      },
      "source": [
        "### 変数を破棄する"
      ]
    },
    {
      "cell_type": "code",
      "execution_count": 69,
      "id": "nmU0AEkxILcD",
      "metadata": {
        "colab": {
          "base_uri": "https://localhost:8080/"
        },
        "id": "nmU0AEkxILcD",
        "outputId": "fce9bc95-641e-4f72-f90f-6f592c6023f7"
      },
      "outputs": [
        {
          "data": {
            "text/plain": [
              "200"
            ]
          },
          "execution_count": 69,
          "metadata": {},
          "output_type": "execute_result"
        }
      ],
      "source": [
        "f"
      ]
    },
    {
      "cell_type": "code",
      "execution_count": 70,
      "id": "DRZmfw1xIMsc",
      "metadata": {
        "colab": {
          "base_uri": "https://localhost:8080/",
          "height": 197
        },
        "id": "DRZmfw1xIMsc",
        "outputId": "18bc3f9d-a42e-4514-d15a-2d312c8d7c69"
      },
      "outputs": [
        {
          "ename": "NameError",
          "evalue": "name 'f' is not defined",
          "output_type": "error",
          "traceback": [
            "\u001b[31m---------------------------------------------------------------------------\u001b[39m",
            "\u001b[31mNameError\u001b[39m                                 Traceback (most recent call last)",
            "\u001b[36mCell\u001b[39m\u001b[36m \u001b[39m\u001b[32mIn[70]\u001b[39m\u001b[32m, line 2\u001b[39m\n\u001b[32m      1\u001b[39m \u001b[38;5;28;01mdel\u001b[39;00m f\n\u001b[32m----> \u001b[39m\u001b[32m2\u001b[39m \u001b[43mf\u001b[49m\n",
            "\u001b[31mNameError\u001b[39m: name 'f' is not defined"
          ]
        }
      ],
      "source": [
        "del f\n",
        "f"
      ]
    },
    {
      "cell_type": "markdown",
      "id": "3ce335a1",
      "metadata": {
        "id": "3ce335a1"
      },
      "source": [
        "### 別の型のデータで変数を上書きする"
      ]
    },
    {
      "cell_type": "code",
      "execution_count": 71,
      "id": "0frFIfYtI7xz",
      "metadata": {
        "colab": {
          "base_uri": "https://localhost:8080/"
        },
        "id": "0frFIfYtI7xz",
        "outputId": "b9000460-46de-4863-bcf1-7ac431ca3e72"
      },
      "outputs": [
        {
          "data": {
            "text/plain": [
              "int"
            ]
          },
          "execution_count": 71,
          "metadata": {},
          "output_type": "execute_result"
        }
      ],
      "source": [
        "a = 123\n",
        "type(a)"
      ]
    },
    {
      "cell_type": "code",
      "execution_count": 72,
      "id": "9c11babb",
      "metadata": {
        "colab": {
          "base_uri": "https://localhost:8080/"
        },
        "id": "9c11babb",
        "outputId": "c112310f-a6a7-4932-caee-06bb5091ac3d"
      },
      "outputs": [
        {
          "data": {
            "text/plain": [
              "str"
            ]
          },
          "execution_count": 72,
          "metadata": {},
          "output_type": "execute_result"
        }
      ],
      "source": [
        "a = \"abc\"\n",
        "type(a)"
      ]
    },
    {
      "cell_type": "markdown",
      "id": "0DA7WmavMB_g",
      "metadata": {
        "id": "0DA7WmavMB_g"
      },
      "source": [
        "## さまざまな演算子\n",
        "\n"
      ]
    },
    {
      "cell_type": "markdown",
      "id": "HVQZzUEEMGpM",
      "metadata": {
        "id": "HVQZzUEEMGpM"
      },
      "source": [
        "### 代入演算子"
      ]
    },
    {
      "cell_type": "code",
      "execution_count": 73,
      "id": "c4E1C1CpJsaA",
      "metadata": {
        "colab": {
          "base_uri": "https://localhost:8080/"
        },
        "id": "c4E1C1CpJsaA",
        "outputId": "d7f9b8a3-64ec-499a-ab9d-9648c8d617b0"
      },
      "outputs": [
        {
          "name": "stdout",
          "output_type": "stream",
          "text": [
            "2\n"
          ]
        }
      ],
      "source": [
        "a = 1\n",
        "a = a + 1\n",
        "print(a)"
      ]
    },
    {
      "cell_type": "code",
      "execution_count": 74,
      "id": "977e3a7d",
      "metadata": {
        "colab": {
          "base_uri": "https://localhost:8080/"
        },
        "id": "977e3a7d",
        "outputId": "f81b04b3-863f-44b8-9975-bdd30aa4f174"
      },
      "outputs": [
        {
          "data": {
            "text/plain": [
              "2"
            ]
          },
          "execution_count": 74,
          "metadata": {},
          "output_type": "execute_result"
        }
      ],
      "source": [
        "a = 1\n",
        "a += 1\n",
        "a"
      ]
    },
    {
      "cell_type": "markdown",
      "id": "zGooMzBV8hY_",
      "metadata": {
        "id": "zGooMzBV8hY_"
      },
      "source": [
        "### 論理値と比較演算子"
      ]
    },
    {
      "cell_type": "code",
      "execution_count": 75,
      "id": "HAaEF-5xLMl2",
      "metadata": {
        "colab": {
          "base_uri": "https://localhost:8080/"
        },
        "id": "HAaEF-5xLMl2",
        "outputId": "131009e8-c15e-4a6a-fb15-919aed7229d4"
      },
      "outputs": [
        {
          "data": {
            "text/plain": [
              "1"
            ]
          },
          "execution_count": 75,
          "metadata": {},
          "output_type": "execute_result"
        }
      ],
      "source": [
        "int(True)"
      ]
    },
    {
      "cell_type": "code",
      "execution_count": 76,
      "id": "NjFTUTwxLOXV",
      "metadata": {
        "colab": {
          "base_uri": "https://localhost:8080/"
        },
        "id": "NjFTUTwxLOXV",
        "outputId": "adc688b6-7a60-4b24-fdc1-85c4f2079ad5"
      },
      "outputs": [
        {
          "data": {
            "text/plain": [
              "0"
            ]
          },
          "execution_count": 76,
          "metadata": {},
          "output_type": "execute_result"
        }
      ],
      "source": [
        "int(False)"
      ]
    },
    {
      "cell_type": "code",
      "execution_count": 77,
      "id": "237f456f",
      "metadata": {
        "colab": {
          "base_uri": "https://localhost:8080/"
        },
        "id": "237f456f",
        "outputId": "0908910e-dcbb-4ac9-e3a0-85f4a0344965"
      },
      "outputs": [
        {
          "data": {
            "text/plain": [
              "True"
            ]
          },
          "execution_count": 77,
          "metadata": {},
          "output_type": "execute_result"
        }
      ],
      "source": [
        "age = 25\n",
        "age > 20"
      ]
    },
    {
      "cell_type": "code",
      "execution_count": 78,
      "id": "8GonKdj4Lr6d",
      "metadata": {
        "colab": {
          "base_uri": "https://localhost:8080/"
        },
        "id": "8GonKdj4Lr6d",
        "outputId": "fe1cceba-b63e-434b-e89a-b645d37388b1"
      },
      "outputs": [
        {
          "data": {
            "text/plain": [
              "False"
            ]
          },
          "execution_count": 78,
          "metadata": {},
          "output_type": "execute_result"
        }
      ],
      "source": [
        "age = 18\n",
        "age > 20"
      ]
    },
    {
      "cell_type": "markdown",
      "id": "05dbed2c",
      "metadata": {
        "id": "05dbed2c"
      },
      "source": [
        "### 論理演算子"
      ]
    },
    {
      "cell_type": "code",
      "execution_count": 79,
      "id": "2aSf-GZBMzVB",
      "metadata": {
        "id": "2aSf-GZBMzVB"
      },
      "outputs": [],
      "source": [
        "age = 70"
      ]
    },
    {
      "cell_type": "code",
      "execution_count": 80,
      "id": "HwnaxoqwM1Ss",
      "metadata": {
        "colab": {
          "base_uri": "https://localhost:8080/"
        },
        "id": "HwnaxoqwM1Ss",
        "outputId": "c912fa2a-9d45-48b6-f86f-6587d4498481"
      },
      "outputs": [
        {
          "data": {
            "text/plain": [
              "False"
            ]
          },
          "execution_count": 80,
          "metadata": {},
          "output_type": "execute_result"
        }
      ],
      "source": [
        "(age >= 18) and (age <= 65)"
      ]
    },
    {
      "cell_type": "code",
      "execution_count": 81,
      "id": "nub_iPPhM3Bx",
      "metadata": {
        "colab": {
          "base_uri": "https://localhost:8080/"
        },
        "id": "nub_iPPhM3Bx",
        "outputId": "28e55255-70e8-4d0a-b85c-7da86ba492f4"
      },
      "outputs": [
        {
          "data": {
            "text/plain": [
              "True"
            ]
          },
          "execution_count": 81,
          "metadata": {},
          "output_type": "execute_result"
        }
      ],
      "source": [
        "(age >= 18) or (age <= 65)"
      ]
    },
    {
      "cell_type": "code",
      "execution_count": 82,
      "id": "tP0Hab7_M4kM",
      "metadata": {
        "colab": {
          "base_uri": "https://localhost:8080/"
        },
        "id": "tP0Hab7_M4kM",
        "outputId": "16bd4b64-3969-461d-cb18-5de07b838d78"
      },
      "outputs": [
        {
          "data": {
            "text/plain": [
              "False"
            ]
          },
          "execution_count": 82,
          "metadata": {},
          "output_type": "execute_result"
        }
      ],
      "source": [
        "not(age >= 18)"
      ]
    },
    {
      "cell_type": "code",
      "execution_count": 83,
      "id": "o86V01B2N_7T",
      "metadata": {
        "colab": {
          "base_uri": "https://localhost:8080/"
        },
        "id": "o86V01B2N_7T",
        "outputId": "5cc8c657-8ff9-4a6d-ab95-e778a2092d57"
      },
      "outputs": [
        {
          "data": {
            "text/plain": [
              "False"
            ]
          },
          "execution_count": 83,
          "metadata": {},
          "output_type": "execute_result"
        }
      ],
      "source": [
        "age >= 18 and age <= 65"
      ]
    },
    {
      "cell_type": "code",
      "execution_count": 84,
      "id": "9ev-QsstODzl",
      "metadata": {
        "colab": {
          "base_uri": "https://localhost:8080/"
        },
        "id": "9ev-QsstODzl",
        "outputId": "127f3427-f305-4b26-c246-9df36e7837a9"
      },
      "outputs": [
        {
          "data": {
            "text/plain": [
              "True"
            ]
          },
          "execution_count": 84,
          "metadata": {},
          "output_type": "execute_result"
        }
      ],
      "source": [
        "age >= 18 or age <= 65"
      ]
    },
    {
      "cell_type": "code",
      "execution_count": 85,
      "id": "ySW4yvHeOHQd",
      "metadata": {
        "colab": {
          "base_uri": "https://localhost:8080/"
        },
        "id": "ySW4yvHeOHQd",
        "outputId": "aa6518e6-c00d-44b1-a132-3c4dc53be0f3"
      },
      "outputs": [
        {
          "data": {
            "text/plain": [
              "False"
            ]
          },
          "execution_count": 85,
          "metadata": {},
          "output_type": "execute_result"
        }
      ],
      "source": [
        "not age >= 18"
      ]
    },
    {
      "cell_type": "markdown",
      "id": "I2K0cR3RPiSp",
      "metadata": {
        "id": "I2K0cR3RPiSp"
      },
      "source": [
        "## コメントと命令文の区切り"
      ]
    },
    {
      "cell_type": "markdown",
      "id": "35d3da9e",
      "metadata": {
        "id": "35d3da9e"
      },
      "source": [
        "### コメント"
      ]
    },
    {
      "cell_type": "code",
      "execution_count": 86,
      "id": "a369d8a4",
      "metadata": {
        "colab": {
          "base_uri": "https://localhost:8080/",
          "height": 145
        },
        "id": "a369d8a4",
        "outputId": "48f58719-f23a-4369-de13-0f88fad09325"
      },
      "outputs": [
        {
          "ename": "SyntaxError",
          "evalue": "invalid character '。' (U+3002) (217049119.py, line 1)",
          "output_type": "error",
          "traceback": [
            "  \u001b[36mCell\u001b[39m\u001b[36m \u001b[39m\u001b[32mIn[86]\u001b[39m\u001b[32m, line 1\u001b[39m\n\u001b[31m    \u001b[39m\u001b[31mこれは普通の日本語のコメントです。\u001b[39m\n                    ^\n\u001b[31mSyntaxError\u001b[39m\u001b[31m:\u001b[39m invalid character '。' (U+3002)\n"
          ]
        }
      ],
      "source": [
        "これは普通の日本語のコメントです。"
      ]
    },
    {
      "cell_type": "code",
      "execution_count": 87,
      "id": "dd1c691d",
      "metadata": {
        "colab": {
          "base_uri": "https://localhost:8080/"
        },
        "id": "dd1c691d",
        "outputId": "c8ce2a5f-8479-465f-a10b-f62230273ff7"
      },
      "outputs": [
        {
          "name": "stdout",
          "output_type": "stream",
          "text": [
            "30\n"
          ]
        }
      ],
      "source": [
        "# これは普通の日本語のコメントです。\n",
        "\n",
        "a = 10  # 変数aに10を代入\n",
        "b = 20  # 変数bに20を代入\n",
        "\n",
        "# 以下はaを上書きしているが、コメントにしているので処理は行われない\n",
        "# a = 50\n",
        "\n",
        "# 足し算\n",
        "c = a + b\n",
        "\n",
        "\"\"\"\n",
        "このように記述することで\n",
        "複数行のコメントの記述も可能です。\n",
        "最後にcの中身を表示します。\n",
        "\"\"\"\n",
        "print(c)"
      ]
    },
    {
      "cell_type": "markdown",
      "id": "d75c1bf0",
      "metadata": {
        "id": "d75c1bf0"
      },
      "source": [
        "### 命令文の区切り"
      ]
    },
    {
      "cell_type": "code",
      "execution_count": 88,
      "id": "heCzJF32OM2v",
      "metadata": {
        "colab": {
          "base_uri": "https://localhost:8080/"
        },
        "id": "heCzJF32OM2v",
        "outputId": "3696a40b-3a34-4777-82ed-d9b8df059185"
      },
      "outputs": [
        {
          "name": "stdout",
          "output_type": "stream",
          "text": [
            "10\n",
            "20\n",
            "30\n"
          ]
        }
      ],
      "source": [
        "a = 10; b = 20; c = 30\n",
        "print(a)\n",
        "print(b)\n",
        "print(c)"
      ]
    },
    {
      "cell_type": "code",
      "execution_count": 89,
      "id": "wN9dRpBnOYz4",
      "metadata": {
        "colab": {
          "base_uri": "https://localhost:8080/"
        },
        "id": "wN9dRpBnOYz4",
        "outputId": "8e4b7600-86d3-4cbb-9659-b1304b32b284"
      },
      "outputs": [
        {
          "name": "stdout",
          "output_type": "stream",
          "text": [
            "10\n",
            "20\n",
            "30\n"
          ]
        }
      ],
      "source": [
        "print(a); print(b); print(c)"
      ]
    },
    {
      "cell_type": "markdown",
      "id": "9cyhKwAltSGy",
      "metadata": {
        "id": "9cyhKwAltSGy"
      },
      "source": [
        "## さまざまな関数\n"
      ]
    },
    {
      "cell_type": "markdown",
      "id": "fbOAF3cZP4St",
      "metadata": {
        "id": "fbOAF3cZP4St"
      },
      "source": [
        "### 関数とは\n"
      ]
    },
    {
      "cell_type": "code",
      "execution_count": 90,
      "id": "gWqAlYXeTfHw",
      "metadata": {
        "colab": {
          "base_uri": "https://localhost:8080/"
        },
        "id": "gWqAlYXeTfHw",
        "outputId": "09beabf9-d335-43c4-8380-cb602e321917"
      },
      "outputs": [
        {
          "name": "stdout",
          "output_type": "stream",
          "text": [
            "あああ\n"
          ]
        }
      ],
      "source": [
        "a = print(\"あああ\")"
      ]
    },
    {
      "cell_type": "code",
      "execution_count": 91,
      "id": "V8Mfn6WuTZvt",
      "metadata": {
        "colab": {
          "base_uri": "https://localhost:8080/"
        },
        "id": "V8Mfn6WuTZvt",
        "outputId": "7347beb2-e1b7-44b0-b4a0-cb8cf3eaacdf"
      },
      "outputs": [
        {
          "name": "stdout",
          "output_type": "stream",
          "text": [
            "None\n"
          ]
        }
      ],
      "source": [
        "print(a)"
      ]
    },
    {
      "cell_type": "code",
      "execution_count": 92,
      "id": "2HjnIdPvUPhs",
      "metadata": {
        "colab": {
          "base_uri": "https://localhost:8080/"
        },
        "id": "2HjnIdPvUPhs",
        "outputId": "9b18dc63-87b0-479b-ad93-1a89f80ef50b"
      },
      "outputs": [
        {
          "data": {
            "text/plain": [
              "str"
            ]
          },
          "execution_count": 92,
          "metadata": {},
          "output_type": "execute_result"
        }
      ],
      "source": [
        "type(\"okay\")"
      ]
    },
    {
      "cell_type": "markdown",
      "id": "4f236543",
      "metadata": {
        "id": "4f236543"
      },
      "source": [
        "### 組み込み関数"
      ]
    },
    {
      "cell_type": "markdown",
      "id": "hrm3g6zCC-le",
      "metadata": {
        "id": "hrm3g6zCC-le"
      },
      "source": [
        "#### 文字数を数える"
      ]
    },
    {
      "cell_type": "code",
      "execution_count": 93,
      "id": "olo58PvpETpx",
      "metadata": {
        "colab": {
          "base_uri": "https://localhost:8080/"
        },
        "id": "olo58PvpETpx",
        "outputId": "e949de1b-03b3-43e8-e0e9-5895e6e5ada3"
      },
      "outputs": [
        {
          "data": {
            "text/plain": [
              "13"
            ]
          },
          "execution_count": 93,
          "metadata": {},
          "output_type": "execute_result"
        }
      ],
      "source": [
        "name = \"Taro Kirameki\"\n",
        "len(name)"
      ]
    },
    {
      "cell_type": "code",
      "execution_count": 94,
      "id": "ayK3VuSiFYUQ",
      "metadata": {
        "colab": {
          "base_uri": "https://localhost:8080/",
          "height": 197
        },
        "id": "ayK3VuSiFYUQ",
        "outputId": "edcc2c1d-bf76-4149-a3d3-a326a1a38f10"
      },
      "outputs": [
        {
          "ename": "TypeError",
          "evalue": "object of type 'int' has no len()",
          "output_type": "error",
          "traceback": [
            "\u001b[31m---------------------------------------------------------------------------\u001b[39m",
            "\u001b[31mTypeError\u001b[39m                                 Traceback (most recent call last)",
            "\u001b[36mCell\u001b[39m\u001b[36m \u001b[39m\u001b[32mIn[94]\u001b[39m\u001b[32m, line 2\u001b[39m\n\u001b[32m      1\u001b[39m num = \u001b[32m10000\u001b[39m\n\u001b[32m----> \u001b[39m\u001b[32m2\u001b[39m \u001b[38;5;28;43mlen\u001b[39;49m\u001b[43m(\u001b[49m\u001b[43mnum\u001b[49m\u001b[43m)\u001b[49m\n",
            "\u001b[31mTypeError\u001b[39m: object of type 'int' has no len()"
          ]
        }
      ],
      "source": [
        "num = 10000\n",
        "len(num)"
      ]
    },
    {
      "cell_type": "code",
      "execution_count": 95,
      "id": "SrbQnCoUFRP5",
      "metadata": {
        "colab": {
          "base_uri": "https://localhost:8080/"
        },
        "id": "SrbQnCoUFRP5",
        "outputId": "5fede9a6-3fca-4e0f-e41f-baaf3cd78844"
      },
      "outputs": [
        {
          "data": {
            "text/plain": [
              "5"
            ]
          },
          "execution_count": 95,
          "metadata": {},
          "output_type": "execute_result"
        }
      ],
      "source": [
        "num = 10000\n",
        "suuji = str(num)\n",
        "len(suuji)"
      ]
    },
    {
      "cell_type": "markdown",
      "id": "5lzwFVdNg-PF",
      "metadata": {
        "id": "5lzwFVdNg-PF"
      },
      "source": [
        "#### 文字列の入力"
      ]
    },
    {
      "cell_type": "code",
      "execution_count": 96,
      "id": "73ac3320",
      "metadata": {
        "colab": {
          "base_uri": "https://localhost:8080/"
        },
        "id": "73ac3320",
        "outputId": "0bda6865-40d9-46f6-d763-eb05d525db42"
      },
      "outputs": [],
      "source": [
        "name = input(\"名前を入力してください：\")"
      ]
    },
    {
      "cell_type": "code",
      "execution_count": 97,
      "id": "57787003",
      "metadata": {
        "colab": {
          "base_uri": "https://localhost:8080/"
        },
        "id": "57787003",
        "outputId": "163a9af3-107a-42df-8f8f-fe7b632d6d3d"
      },
      "outputs": [
        {
          "name": "stdout",
          "output_type": "stream",
          "text": [
            "あなたの名前は  ですね。\n"
          ]
        }
      ],
      "source": [
        "print(\"あなたの名前は\", name, \"ですね。\")"
      ]
    },
    {
      "cell_type": "code",
      "execution_count": 98,
      "id": "q_7rL56iA-C1",
      "metadata": {
        "colab": {
          "base_uri": "https://localhost:8080/"
        },
        "id": "q_7rL56iA-C1",
        "outputId": "0b66ebe2-9891-43a5-a5f6-d5d384386d81"
      },
      "outputs": [
        {
          "name": "stdout",
          "output_type": "stream",
          "text": [
            "あなたの名前は  ですね。\n"
          ]
        }
      ],
      "source": [
        "print(\"あなたの名前は \" + name + \" ですね。\")"
      ]
    },
    {
      "cell_type": "code",
      "execution_count": 99,
      "id": "M9U4uxIVMSP9",
      "metadata": {
        "colab": {
          "base_uri": "https://localhost:8080/"
        },
        "id": "M9U4uxIVMSP9",
        "outputId": "130a7d0a-b109-4aa0-ec60-ca5cb031aa61"
      },
      "outputs": [
        {
          "name": "stdout",
          "output_type": "stream",
          "text": [
            "あなたの名前は  ですね。\n"
          ]
        }
      ],
      "source": [
        "print(f\"あなたの名前は {name} ですね。\")"
      ]
    },
    {
      "cell_type": "markdown",
      "id": "8e63f9f9",
      "metadata": {
        "id": "8e63f9f9"
      },
      "source": [
        "##### input() の注意点"
      ]
    },
    {
      "cell_type": "code",
      "execution_count": 100,
      "id": "h6MpJAA2f675",
      "metadata": {
        "colab": {
          "base_uri": "https://localhost:8080/"
        },
        "id": "h6MpJAA2f675",
        "outputId": "d8583c94-ad93-439a-b17d-694a8761e083"
      },
      "outputs": [],
      "source": [
        "num = input(\"整数値を入力してみる：\")"
      ]
    },
    {
      "cell_type": "code",
      "execution_count": 101,
      "id": "3ldTE_pagEL3",
      "metadata": {
        "colab": {
          "base_uri": "https://localhost:8080/"
        },
        "id": "3ldTE_pagEL3",
        "outputId": "3fb32ae9-f3c0-424a-db09-55f2ad63de7c"
      },
      "outputs": [
        {
          "data": {
            "text/plain": [
              "str"
            ]
          },
          "execution_count": 101,
          "metadata": {},
          "output_type": "execute_result"
        }
      ],
      "source": [
        "type(num)"
      ]
    },
    {
      "cell_type": "code",
      "execution_count": 102,
      "id": "k4yjOziPgCfE",
      "metadata": {
        "colab": {
          "base_uri": "https://localhost:8080/",
          "height": 180
        },
        "id": "k4yjOziPgCfE",
        "outputId": "cc53c168-2fff-4177-f967-c70c8b674649"
      },
      "outputs": [
        {
          "ename": "TypeError",
          "evalue": "can only concatenate str (not \"int\") to str",
          "output_type": "error",
          "traceback": [
            "\u001b[31m---------------------------------------------------------------------------\u001b[39m",
            "\u001b[31mTypeError\u001b[39m                                 Traceback (most recent call last)",
            "\u001b[36mCell\u001b[39m\u001b[36m \u001b[39m\u001b[32mIn[102]\u001b[39m\u001b[32m, line 1\u001b[39m\n\u001b[32m----> \u001b[39m\u001b[32m1\u001b[39m num = \u001b[43mnum\u001b[49m\u001b[43m \u001b[49m\u001b[43m+\u001b[49m\u001b[43m \u001b[49m\u001b[32;43m10\u001b[39;49m\n",
            "\u001b[31mTypeError\u001b[39m: can only concatenate str (not \"int\") to str"
          ]
        }
      ],
      "source": [
        "num = num + 10"
      ]
    },
    {
      "cell_type": "code",
      "execution_count": 103,
      "id": "2d842706",
      "metadata": {
        "colab": {
          "base_uri": "https://localhost:8080/"
        },
        "id": "2d842706",
        "outputId": "0f02e519-5c7d-436e-b8f4-ef722cbd2b3f"
      },
      "outputs": [
        {
          "ename": "ValueError",
          "evalue": "invalid literal for int() with base 10: ''",
          "output_type": "error",
          "traceback": [
            "\u001b[31m---------------------------------------------------------------------------\u001b[39m",
            "\u001b[31mValueError\u001b[39m                                Traceback (most recent call last)",
            "\u001b[36mCell\u001b[39m\u001b[36m \u001b[39m\u001b[32mIn[103]\u001b[39m\u001b[32m, line 1\u001b[39m\n\u001b[32m----> \u001b[39m\u001b[32m1\u001b[39m num = \u001b[38;5;28;43mint\u001b[39;49m\u001b[43m(\u001b[49m\u001b[43mnum\u001b[49m\u001b[43m)\u001b[49m\n\u001b[32m      2\u001b[39m num = num + \u001b[32m10\u001b[39m\n\u001b[32m      3\u001b[39m num\n",
            "\u001b[31mValueError\u001b[39m: invalid literal for int() with base 10: ''"
          ]
        }
      ],
      "source": [
        "num = int(num)\n",
        "num = num + 10\n",
        "num"
      ]
    },
    {
      "cell_type": "code",
      "execution_count": 104,
      "id": "Say8wumAgcH2",
      "metadata": {
        "colab": {
          "base_uri": "https://localhost:8080/",
          "height": 232
        },
        "id": "Say8wumAgcH2",
        "outputId": "a195309e-b138-4cfa-a712-d44612d4ea62"
      },
      "outputs": [
        {
          "data": {
            "text/plain": [
              "1"
            ]
          },
          "execution_count": 104,
          "metadata": {},
          "output_type": "execute_result"
        }
      ],
      "source": [
        "num_fake = input(\"整数値を入力：\")\n",
        "num = int(num_fake)\n",
        "num"
      ]
    },
    {
      "cell_type": "markdown",
      "id": "S63o9KaptnAy",
      "metadata": {
        "id": "S63o9KaptnAy"
      },
      "source": [
        "#### コードの実行"
      ]
    },
    {
      "cell_type": "code",
      "execution_count": 105,
      "id": "zsAt3pP6EGfT",
      "metadata": {
        "colab": {
          "base_uri": "https://localhost:8080/",
          "height": 35
        },
        "id": "zsAt3pP6EGfT",
        "outputId": "a67569d2-f637-47da-9bfa-51217249d1a0"
      },
      "outputs": [
        {
          "data": {
            "text/plain": [
              "'a = \"Alphabet\"\\nb = \"Google\"\\nc = a + \"は\" + b + \"の親会社です。\"\\nprint(c)'"
            ]
          },
          "execution_count": 105,
          "metadata": {},
          "output_type": "execute_result"
        }
      ],
      "source": [
        "\"\"\"a = \"Alphabet\"\n",
        "b = \"Google\"\n",
        "c = a + \"は\" + b + \"の親会社です。\"\n",
        "print(c)\"\"\""
      ]
    },
    {
      "cell_type": "code",
      "execution_count": 106,
      "id": "vu87R8Tfvj1E",
      "metadata": {
        "colab": {
          "base_uri": "https://localhost:8080/"
        },
        "id": "vu87R8Tfvj1E",
        "outputId": "7bedee04-3e72-4825-8a55-b12f998beb11"
      },
      "outputs": [
        {
          "name": "stdout",
          "output_type": "stream",
          "text": [
            "AlphabetはGoogleの親会社です。\n"
          ]
        }
      ],
      "source": [
        "exec(\"\"\"a = \"Alphabet\"\n",
        "b = \"Google\"\n",
        "c = a + \"は\" + b + \"の親会社です。\"\n",
        "print(c)\"\"\")"
      ]
    },
    {
      "cell_type": "code",
      "execution_count": 107,
      "id": "mi2HCX0StpYF",
      "metadata": {
        "colab": {
          "base_uri": "https://localhost:8080/",
          "height": 35
        },
        "id": "mi2HCX0StpYF",
        "outputId": "b1747b10-ac0e-4f13-e7b1-200a57ca26d0"
      },
      "outputs": [
        {
          "data": {
            "text/plain": [
              "'mario'"
            ]
          },
          "execution_count": 107,
          "metadata": {},
          "output_type": "execute_result"
        }
      ],
      "source": [
        "exec(\"name = 'mario'\")\n",
        "name"
      ]
    },
    {
      "cell_type": "markdown",
      "id": "yo_Os7fMxXFz",
      "metadata": {
        "id": "yo_Os7fMxXFz"
      },
      "source": [
        "### 自作関数"
      ]
    },
    {
      "cell_type": "markdown",
      "id": "ogZfb9nTId57",
      "metadata": {
        "id": "ogZfb9nTId57"
      },
      "source": [
        "#### 自作関数の作り方の基本"
      ]
    },
    {
      "cell_type": "code",
      "execution_count": 108,
      "id": "EmOqmK1o1j7x",
      "metadata": {
        "colab": {
          "base_uri": "https://localhost:8080/"
        },
        "id": "EmOqmK1o1j7x",
        "outputId": "2c53eefe-85e5-41fc-afde-f1240aafcf92"
      },
      "outputs": [
        {
          "name": "stdout",
          "output_type": "stream",
          "text": [
            "Hello!\n",
            "It is a fine day today!\n",
            "Good morning!\n",
            "Have a nice day!\n"
          ]
        }
      ],
      "source": [
        "def hello():\n",
        "    print(\"Hello!\")\n",
        "    print(\"It is a fine day today!\")\n",
        "\n",
        "def good_morning():\n",
        "    print(\"Good morning!\")\n",
        "    print(\"Have a nice day!\")\n",
        "\n",
        "hello()\n",
        "good_morning()"
      ]
    },
    {
      "cell_type": "markdown",
      "id": "NzcPPRxw3jhC",
      "metadata": {
        "id": "NzcPPRxw3jhC"
      },
      "source": [
        "#### 引数がある関数"
      ]
    },
    {
      "cell_type": "code",
      "execution_count": 109,
      "id": "wp2ZH1qT3pqE",
      "metadata": {
        "colab": {
          "base_uri": "https://localhost:8080/"
        },
        "id": "wp2ZH1qT3pqE",
        "outputId": "fdaaa1f8-6d68-4aa6-d9d7-42a76b82dbef"
      },
      "outputs": [
        {
          "name": "stdout",
          "output_type": "stream",
          "text": [
            "Hello!\n",
            "My name is tanaka.\n",
            "I'm 25 years old.\n",
            "Hello!\n",
            "My name is suzuki.\n",
            "I'm 30 years old.\n"
          ]
        }
      ],
      "source": [
        "def introduce(name, age):\n",
        "    print(\"Hello!\")\n",
        "    print(f\"My name is {name}.\")\n",
        "    print(f\"I'm {age} years old.\")\n",
        "\n",
        "introduce(\"tanaka\", 25)\n",
        "introduce(\"suzuki\", 30)"
      ]
    },
    {
      "cell_type": "markdown",
      "id": "xanAQWQA3wIn",
      "metadata": {
        "id": "xanAQWQA3wIn"
      },
      "source": [
        "#### キーワード引数を使う"
      ]
    },
    {
      "cell_type": "code",
      "execution_count": 110,
      "id": "7LRO8qoP30Kj",
      "metadata": {
        "colab": {
          "base_uri": "https://localhost:8080/"
        },
        "id": "7LRO8qoP30Kj",
        "outputId": "7caaa4c4-e374-4857-f0df-e86117e935e2"
      },
      "outputs": [
        {
          "name": "stdout",
          "output_type": "stream",
          "text": [
            "Hello!\n",
            "My name is tanaka.\n",
            "I'm 25 years old.\n",
            "Hello!\n",
            "My name is suzuki.\n",
            "I'm 30 years old.\n",
            "Hello!\n",
            "My name is sato.\n",
            "I'm 20 years old.\n",
            "Hello!\n",
            "My name is takahashi.\n",
            "I'm 35 years old.\n"
          ]
        }
      ],
      "source": [
        "def introduce(name, age):\n",
        "    print(\"Hello!\")\n",
        "    print(f\"My name is {name}.\")\n",
        "    print(f\"I'm {age} years old.\")\n",
        "\n",
        "introduce(\"tanaka\", 25)\n",
        "introduce(\"suzuki\", 30)\n",
        "introduce(name = \"sato\", age = 20)       # 追加\n",
        "introduce(age = 35, name = \"takahashi\")  # 追加"
      ]
    },
    {
      "cell_type": "markdown",
      "id": "BUjLo2jn3-d6",
      "metadata": {
        "id": "BUjLo2jn3-d6"
      },
      "source": [
        "#### 引数のデフォルト値"
      ]
    },
    {
      "cell_type": "code",
      "execution_count": 111,
      "id": "bl__hv0P4Afp",
      "metadata": {
        "colab": {
          "base_uri": "https://localhost:8080/"
        },
        "id": "bl__hv0P4Afp",
        "outputId": "d55f196f-19ac-4a81-d67a-8977cc4c12bb"
      },
      "outputs": [
        {
          "name": "stdout",
          "output_type": "stream",
          "text": [
            "Hello!\n",
            "My name is tanaka.\n",
            "I'm 25 years old.\n",
            "Hello!\n",
            "My name is suzuki.\n",
            "I'm 18 years old.\n",
            "Hello!\n",
            "My name is nanashi.\n",
            "I'm 30 years old.\n",
            "Hello!\n",
            "My name is nanashi.\n",
            "I'm 18 years old.\n"
          ]
        }
      ],
      "source": [
        "def introduce(name = \"nanashi\", age = 18):\n",
        "    print(\"Hello!\")\n",
        "    print(f\"My name is {name}.\")\n",
        "    print(f\"I'm {age} years old.\")\n",
        "\n",
        "introduce(\"tanaka\", 25)  # 引数を全て指定\n",
        "introduce(\"suzuki\")      # age を省略\n",
        "introduce(age = 30)      # name を省略\n",
        "introduce()              # name も age も省略"
      ]
    },
    {
      "cell_type": "markdown",
      "id": "UA9s2Izx4CbX",
      "metadata": {
        "id": "UA9s2Izx4CbX"
      },
      "source": [
        "#### 戻り値がある関数の定義"
      ]
    },
    {
      "cell_type": "code",
      "execution_count": 112,
      "id": "YRCEJ7DJ4EyW",
      "metadata": {
        "colab": {
          "base_uri": "https://localhost:8080/"
        },
        "id": "YRCEJ7DJ4EyW",
        "outputId": "1a2e3557-a630-44bc-eb78-14a05f5df258"
      },
      "outputs": [
        {
          "name": "stdout",
          "output_type": "stream",
          "text": [
            "BMI値：15.4\n"
          ]
        }
      ],
      "source": [
        "def calc_bmi(height, weight):\n",
        "    ret = weight / (height ** 2)\n",
        "    return ret\n",
        "\n",
        "height = float(input(\"身長(m)を入力：\"))\n",
        "weight = float(input(\"体重(kg)を入力：\"))\n",
        "\n",
        "bmi = calc_bmi(height, weight)\n",
        "print(f\"BMI値：{bmi:.1f}\")"
      ]
    },
    {
      "cell_type": "markdown",
      "id": "vhEMlAGK4GUs",
      "metadata": {
        "id": "vhEMlAGK4GUs"
      },
      "source": [
        "##### 変数の通用範囲に注意"
      ]
    },
    {
      "cell_type": "code",
      "execution_count": 113,
      "id": "u9T7Xj55q-O0",
      "metadata": {
        "colab": {
          "base_uri": "https://localhost:8080/",
          "height": 249
        },
        "id": "u9T7Xj55q-O0",
        "outputId": "db59f38c-cc4d-4c26-b69a-aeca45a52f5b"
      },
      "outputs": [
        {
          "ename": "NameError",
          "evalue": "name 'ret' is not defined",
          "output_type": "error",
          "traceback": [
            "\u001b[31m---------------------------------------------------------------------------\u001b[39m",
            "\u001b[31mNameError\u001b[39m                                 Traceback (most recent call last)",
            "\u001b[36mCell\u001b[39m\u001b[36m \u001b[39m\u001b[32mIn[113]\u001b[39m\u001b[32m, line 9\u001b[39m\n\u001b[32m      6\u001b[39m weight = \u001b[38;5;28mfloat\u001b[39m(\u001b[38;5;28minput\u001b[39m(\u001b[33m\"\u001b[39m\u001b[33m体重(kg)を入力：\u001b[39m\u001b[33m\"\u001b[39m))\n\u001b[32m      8\u001b[39m bmi = calc_bmi(height, weight)\n\u001b[32m----> \u001b[39m\u001b[32m9\u001b[39m \u001b[38;5;28mprint\u001b[39m(\u001b[43mret\u001b[49m)\n",
            "\u001b[31mNameError\u001b[39m: name 'ret' is not defined"
          ]
        }
      ],
      "source": [
        "def calc_bmi(height, weight):\n",
        "    ret = weight / (height ** 2)\n",
        "    return ret\n",
        "\n",
        "height = float(input(\"身長(m)を入力：\"))\n",
        "weight = float(input(\"体重(kg)を入力：\"))\n",
        "\n",
        "bmi = calc_bmi(height, weight)\n",
        "print(ret)"
      ]
    },
    {
      "cell_type": "code",
      "execution_count": null,
      "id": "3cedc730",
      "metadata": {},
      "outputs": [],
      "source": []
    }
  ],
  "metadata": {
    "colab": {
      "provenance": [],
      "toc_visible": true
    },
    "kernelspec": {
      "display_name": ".venv",
      "language": "python",
      "name": "python3"
    },
    "language_info": {
      "codemirror_mode": {
        "name": "ipython",
        "version": 3
      },
      "file_extension": ".py",
      "mimetype": "text/x-python",
      "name": "python",
      "nbconvert_exporter": "python",
      "pygments_lexer": "ipython3",
      "version": "3.12.7"
    }
  },
  "nbformat": 4,
  "nbformat_minor": 5
}
