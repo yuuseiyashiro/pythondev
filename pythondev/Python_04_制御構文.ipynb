{
  "cells": [
    {
      "cell_type": "markdown",
      "id": "PWMpdUbMMv5R",
      "metadata": {
        "id": "PWMpdUbMMv5R"
      },
      "source": [
        "## 条件分岐\n",
        "\n"
      ]
    },
    {
      "cell_type": "markdown",
      "id": "565a666d",
      "metadata": {
        "id": "565a666d"
      },
      "source": [
        "### if文"
      ]
    },
    {
      "cell_type": "code",
      "execution_count": 1,
      "id": "037ecde4",
      "metadata": {
        "colab": {
          "base_uri": "https://localhost:8080/"
        },
        "id": "037ecde4",
        "outputId": "ba61f6be-e3b3-4a00-81c8-9962af6d09ee"
      },
      "outputs": [
        {
          "name": "stdout",
          "output_type": "stream",
          "text": [
            "合格です\n",
            "処理を終了します\n"
          ]
        }
      ],
      "source": [
        "score = int(input(\"点数を入力してください: \"))\n",
        "\n",
        "if score >= 60:\n",
        "    print(\"合格です\")\n",
        "\n",
        "print(\"処理を終了します\")"
      ]
    },
    {
      "cell_type": "code",
      "execution_count": 2,
      "id": "412c7626",
      "metadata": {
        "id": "412c7626"
      },
      "outputs": [],
      "source": [
        "def exam(score):\n",
        "    if score >= 60:\n",
        "        print(\"合格です\")\n",
        "        print(\"おめでとうございます！\")\n",
        "    print(\"処理を終了します\")"
      ]
    },
    {
      "cell_type": "code",
      "execution_count": 3,
      "id": "7985813c",
      "metadata": {
        "attributes": {
          "classes": [
            "txt"
          ],
          "id": ""
        },
        "colab": {
          "base_uri": "https://localhost:8080/"
        },
        "id": "7985813c",
        "outputId": "988b2b5f-5eee-444b-aa9f-330d072fe5fa"
      },
      "outputs": [
        {
          "name": "stdout",
          "output_type": "stream",
          "text": [
            "合格です\n",
            "おめでとうございます！\n",
            "処理を終了します\n"
          ]
        }
      ],
      "source": [
        "exam(80)"
      ]
    },
    {
      "cell_type": "code",
      "execution_count": 4,
      "id": "FE7uU7lqjSOZ",
      "metadata": {
        "colab": {
          "base_uri": "https://localhost:8080/"
        },
        "id": "FE7uU7lqjSOZ",
        "outputId": "6b879e5a-301c-41c0-bb4a-3af2c1a8db7e"
      },
      "outputs": [
        {
          "name": "stdout",
          "output_type": "stream",
          "text": [
            "処理を終了します\n"
          ]
        }
      ],
      "source": [
        "exam(40)"
      ]
    },
    {
      "cell_type": "markdown",
      "id": "JKB1osw5jeuF",
      "metadata": {
        "id": "JKB1osw5jeuF"
      },
      "source": [
        "### 複数の条件式を指定する"
      ]
    },
    {
      "cell_type": "code",
      "execution_count": 5,
      "id": "2af1cd5d",
      "metadata": {
        "colab": {
          "base_uri": "https://localhost:8080/"
        },
        "id": "2af1cd5d",
        "outputId": "1c5b3e26-1df3-47bf-d3b6-4a8b8e89a660"
      },
      "outputs": [
        {
          "name": "stdout",
          "output_type": "stream",
          "text": [
            "どうぞお乗りください\n",
            "処理を終了します\n"
          ]
        }
      ],
      "source": [
        "age = int(input(\"年齢を入力してください: \"))\n",
        "\n",
        "if (age >= 18) and (age <= 65):\n",
        "    print(\"どうぞお乗りください\")\n",
        "\n",
        "print(\"処理を終了します\")"
      ]
    },
    {
      "cell_type": "markdown",
      "id": "6ecc449a",
      "metadata": {
        "id": "6ecc449a"
      },
      "source": [
        "### if文の中にif文を記述する（ネスト）"
      ]
    },
    {
      "cell_type": "code",
      "execution_count": 6,
      "id": "5e4b084a",
      "metadata": {
        "colab": {
          "base_uri": "https://localhost:8080/"
        },
        "id": "5e4b084a",
        "outputId": "28f974f8-7193-4116-8134-b294d57e7bb0"
      },
      "outputs": [
        {
          "name": "stdout",
          "output_type": "stream",
          "text": [
            "どうぞお乗りください\n",
            "処理を終了します\n"
          ]
        }
      ],
      "source": [
        "age = int(input(\"年齢を入力してください: \"))\n",
        "\n",
        "if age >= 18:\n",
        "    if age <= 65:\n",
        "        print(\"どうぞお乗りください\")\n",
        "\n",
        "print(\"処理を終了します\")"
      ]
    },
    {
      "cell_type": "markdown",
      "id": "9737d579",
      "metadata": {
        "id": "9737d579"
      },
      "source": [
        "### if-else文"
      ]
    },
    {
      "cell_type": "code",
      "execution_count": 7,
      "id": "adf6329e",
      "metadata": {
        "colab": {
          "base_uri": "https://localhost:8080/"
        },
        "id": "adf6329e",
        "outputId": "443a64db-ca62-4e1d-bbc8-87e3890f1dfc"
      },
      "outputs": [
        {
          "name": "stdout",
          "output_type": "stream",
          "text": [
            "不合格です\n",
            "もっとがんばりましょう\n",
            "処理を終了します\n"
          ]
        }
      ],
      "source": [
        "score = int(input(\"点数を入力してください: \"))\n",
        "\n",
        "if score >= 60:\n",
        "    print(\"合格です\")\n",
        "    print(\"おめでとうございます！\")\n",
        "else:\n",
        "    print(\"不合格です\")\n",
        "    print(\"もっとがんばりましょう\")\n",
        "\n",
        "print(\"処理を終了します\")"
      ]
    },
    {
      "cell_type": "markdown",
      "id": "veD0PhzGkZnj",
      "metadata": {
        "id": "veD0PhzGkZnj"
      },
      "source": [
        "### if-elif-else文"
      ]
    },
    {
      "cell_type": "code",
      "execution_count": 8,
      "id": "7d406251",
      "metadata": {
        "colab": {
          "base_uri": "https://localhost:8080/"
        },
        "id": "7d406251",
        "outputId": "f489c7cf-5fca-40d8-8943-2c1e82302ec6"
      },
      "outputs": [
        {
          "name": "stdout",
          "output_type": "stream",
          "text": [
            "合格です\n",
            "おめでとうございます！\n",
            "処理を終了します\n"
          ]
        }
      ],
      "source": [
        "score = int(input(\"点数を入力してください: \"))\n",
        "\n",
        "if score >= 90:\n",
        "    print(\"優秀です\")\n",
        "    print(\"大変よくできました！！\")\n",
        "else:\n",
        "    if score >= 60:\n",
        "        print(\"合格です\")\n",
        "        print(\"おめでとうございます！\")\n",
        "    else:\n",
        "        print(\"不合格です\")\n",
        "        print(\"もっとがんばりましょう\")\n",
        "\n",
        "print(\"処理を終了します\")"
      ]
    },
    {
      "cell_type": "markdown",
      "id": "dfc7ec49",
      "metadata": {
        "id": "dfc7ec49"
      },
      "source": [
        "#### 補足1：別の多分岐の方法"
      ]
    },
    {
      "cell_type": "code",
      "execution_count": 9,
      "id": "220e1132",
      "metadata": {
        "colab": {
          "base_uri": "https://localhost:8080/"
        },
        "id": "220e1132",
        "outputId": "73721a6c-4111-466d-efb1-23e358e45d0a"
      },
      "outputs": [
        {
          "name": "stdout",
          "output_type": "stream",
          "text": [
            "優秀です\n",
            "大変よくできました！！\n",
            "処理を終了します\n"
          ]
        }
      ],
      "source": [
        "score = int(input(\"点数を入力してください: \"))\n",
        "\n",
        "if score >= 90:\n",
        "    print(\"優秀です\")\n",
        "    print(\"大変よくできました！！\")\n",
        "\n",
        "elif score >= 60:\n",
        "    print(\"合格です\")\n",
        "    print(\"おめでとうございます！\")\n",
        "\n",
        "else:\n",
        "    print(\"不合格です\")\n",
        "    print(\"もっとがんばりましょう\")\n",
        "\n",
        "print(\"処理を終了します\")"
      ]
    },
    {
      "cell_type": "markdown",
      "id": "z-KGfi5h7pwV",
      "metadata": {
        "id": "z-KGfi5h7pwV"
      },
      "source": [
        "#### 補足2：4つ以上の分岐では `elif` を複数記述する"
      ]
    },
    {
      "cell_type": "code",
      "execution_count": 10,
      "id": "ca02436a",
      "metadata": {
        "colab": {
          "base_uri": "https://localhost:8080/"
        },
        "id": "ca02436a",
        "outputId": "4c445837-27b4-48a9-aa9d-25826a76666c"
      },
      "outputs": [
        {
          "name": "stdout",
          "output_type": "stream",
          "text": [
            "春はあけぼの\n",
            "処理を終了します\n"
          ]
        }
      ],
      "source": [
        "season = input(\"季節を入力してください: \")\n",
        "\n",
        "if season == \"春\":\n",
        "    print(\"春はあけぼの\")\n",
        "elif season == \"夏\":\n",
        "    print(\"夏は夜\")\n",
        "elif season == \"秋\":\n",
        "    print(\"秋は夕暮れ\")\n",
        "elif season == \"冬\":\n",
        "    print(\"冬はつとめて\")\n",
        "else:\n",
        "    print(\"エラー\")\n",
        "\n",
        "print(\"処理を終了します\")"
      ]
    },
    {
      "cell_type": "markdown",
      "id": "PMzBLk3ge_XD",
      "metadata": {
        "id": "PMzBLk3ge_XD"
      },
      "source": [
        "### match文"
      ]
    },
    {
      "cell_type": "code",
      "execution_count": 11,
      "id": "G4x250Kwe-U2",
      "metadata": {
        "colab": {
          "base_uri": "https://localhost:8080/"
        },
        "id": "G4x250Kwe-U2",
        "outputId": "bdb60778-0dfc-47d7-9c88-ed9a322bfc8b"
      },
      "outputs": [
        {
          "name": "stdout",
          "output_type": "stream",
          "text": [
            "夏は夜\n",
            "処理を終了します\n"
          ]
        }
      ],
      "source": [
        "season = input(\"季節を入力してください: \")\n",
        "\n",
        "match season:\n",
        "    case \"春\":\n",
        "        print(\"春はあけぼの\")\n",
        "    case \"夏\":\n",
        "        print(\"夏は夜\")\n",
        "    case \"秋\":\n",
        "        print(\"秋は夕暮れ\")\n",
        "    case \"冬\":\n",
        "        print(\"冬はつとめて\")\n",
        "    case _:\n",
        "        print(\"エラー\")\n",
        "\n",
        "print(\"処理を終了します\")"
      ]
    },
    {
      "cell_type": "markdown",
      "id": "7f898910",
      "metadata": {
        "id": "7f898910"
      },
      "source": [
        "## 繰り返し"
      ]
    },
    {
      "cell_type": "code",
      "execution_count": 12,
      "id": "518ed78a",
      "metadata": {
        "colab": {
          "base_uri": "https://localhost:8080/"
        },
        "id": "518ed78a",
        "outputId": "f9062264-09c8-485e-ef14-191592cab85b"
      },
      "outputs": [
        {
          "name": "stdout",
          "output_type": "stream",
          "text": [
            "1\n",
            "2\n",
            "3\n",
            "4\n",
            "5\n",
            "6\n",
            "7\n",
            "8\n",
            "9\n",
            "10\n"
          ]
        }
      ],
      "source": [
        "i = 0\n",
        "\n",
        "i += 1\n",
        "print(i)\n",
        "\n",
        "i += 1\n",
        "print(i)\n",
        "\n",
        "i += 1\n",
        "print(i)\n",
        "\n",
        "i += 1\n",
        "print(i)\n",
        "\n",
        "i += 1\n",
        "print(i)\n",
        "\n",
        "i += 1\n",
        "print(i)\n",
        "\n",
        "i += 1\n",
        "print(i)\n",
        "\n",
        "i += 1\n",
        "print(i)\n",
        "\n",
        "i += 1\n",
        "print(i)\n",
        "\n",
        "i += 1\n",
        "print(i)"
      ]
    },
    {
      "cell_type": "markdown",
      "id": "1WPJh17bldWx",
      "metadata": {
        "id": "1WPJh17bldWx"
      },
      "source": [
        "### while文"
      ]
    },
    {
      "cell_type": "code",
      "execution_count": 13,
      "id": "23e6c00b",
      "metadata": {
        "colab": {
          "base_uri": "https://localhost:8080/"
        },
        "id": "23e6c00b",
        "outputId": "62203868-cfad-4b11-8a17-476e7eacae97"
      },
      "outputs": [
        {
          "name": "stdout",
          "output_type": "stream",
          "text": [
            "1\n",
            "2\n",
            "3\n",
            "4\n",
            "5\n",
            "6\n",
            "7\n",
            "8\n",
            "9\n",
            "10\n",
            "処理を終了します\n"
          ]
        }
      ],
      "source": [
        "i = 0\n",
        "\n",
        "while i < 10:\n",
        "    i += 1\n",
        "    print(i)\n",
        "\n",
        "print(\"処理を終了します\")"
      ]
    },
    {
      "cell_type": "markdown",
      "id": "rVLH81axl5g7",
      "metadata": {
        "id": "rVLH81axl5g7"
      },
      "source": [
        "### break"
      ]
    },
    {
      "cell_type": "code",
      "execution_count": 14,
      "id": "65efc227",
      "metadata": {
        "colab": {
          "base_uri": "https://localhost:8080/"
        },
        "id": "65efc227",
        "outputId": "f668933d-5a68-467f-b111-c3409959b396"
      },
      "outputs": [
        {
          "name": "stdout",
          "output_type": "stream",
          "text": [
            "1\n",
            "2\n",
            "3\n",
            "4\n",
            "5\n",
            "6\n",
            "7\n",
            "8\n",
            "9\n",
            "10\n",
            "処理を終了します\n"
          ]
        }
      ],
      "source": [
        "i = 0\n",
        "\n",
        "while True:\n",
        "    i += 1\n",
        "\n",
        "    if i > 10:\n",
        "        break\n",
        "\n",
        "    print(i)\n",
        "\n",
        "print(\"処理を終了します\")"
      ]
    },
    {
      "cell_type": "markdown",
      "id": "5RxDuYC-l_fA",
      "metadata": {
        "id": "5RxDuYC-l_fA"
      },
      "source": [
        "### continue"
      ]
    },
    {
      "cell_type": "code",
      "execution_count": 15,
      "id": "c939ffe9",
      "metadata": {
        "colab": {
          "base_uri": "https://localhost:8080/"
        },
        "id": "c939ffe9",
        "outputId": "e11f4f04-72b0-4880-f7d7-476ce92c26e8"
      },
      "outputs": [
        {
          "name": "stdout",
          "output_type": "stream",
          "text": [
            "2\n",
            "4\n",
            "6\n",
            "8\n",
            "10\n",
            "処理を終了します\n"
          ]
        }
      ],
      "source": [
        "i = 0\n",
        "\n",
        "while True:\n",
        "    i += 1\n",
        "\n",
        "    if i > 10:\n",
        "        break\n",
        "\n",
        "    if i % 2 == 1:\n",
        "        continue\n",
        "\n",
        "    print(i)\n",
        "\n",
        "print(\"処理を終了します\")"
      ]
    },
    {
      "cell_type": "markdown",
      "id": "fcMmCEu4mC1A",
      "metadata": {
        "id": "fcMmCEu4mC1A"
      },
      "source": [
        "### for文"
      ]
    },
    {
      "cell_type": "code",
      "execution_count": 16,
      "id": "8e4f2f38",
      "metadata": {
        "colab": {
          "base_uri": "https://localhost:8080/"
        },
        "id": "8e4f2f38",
        "outputId": "8dffec82-51e4-4da7-fe7a-b6fe78a1a65f"
      },
      "outputs": [
        {
          "name": "stdout",
          "output_type": "stream",
          "text": [
            "0\n",
            "1\n",
            "2\n",
            "3\n",
            "4\n",
            "5\n",
            "6\n",
            "7\n",
            "8\n",
            "9\n",
            "10\n"
          ]
        }
      ],
      "source": [
        "for i in range(11):\n",
        "    print(i)"
      ]
    },
    {
      "cell_type": "markdown",
      "id": "DGzdflzcmF97",
      "metadata": {
        "id": "DGzdflzcmF97"
      },
      "source": [
        "### 補足：range()関数の詳細と応用的な使い方"
      ]
    },
    {
      "cell_type": "code",
      "execution_count": 17,
      "id": "LqLASyYKVGGe",
      "metadata": {
        "colab": {
          "base_uri": "https://localhost:8080/"
        },
        "id": "LqLASyYKVGGe",
        "outputId": "f554223e-9bdc-488d-cf6f-eb74fe165d57"
      },
      "outputs": [
        {
          "data": {
            "text/plain": [
              "range"
            ]
          },
          "execution_count": 17,
          "metadata": {},
          "output_type": "execute_result"
        }
      ],
      "source": [
        "type(range(11))"
      ]
    },
    {
      "cell_type": "code",
      "execution_count": 18,
      "id": "3489bf67",
      "metadata": {
        "colab": {
          "base_uri": "https://localhost:8080/"
        },
        "id": "3489bf67",
        "outputId": "8d651a9d-59d1-437b-f61d-21e82b8b4121"
      },
      "outputs": [
        {
          "name": "stdout",
          "output_type": "stream",
          "text": [
            "1\n",
            "2\n",
            "3\n",
            "4\n",
            "5\n",
            "6\n",
            "7\n",
            "8\n",
            "9\n",
            "10\n"
          ]
        }
      ],
      "source": [
        "for i in range(1, 11):\n",
        "    print(i)"
      ]
    },
    {
      "cell_type": "code",
      "execution_count": 19,
      "id": "996cb8ee",
      "metadata": {
        "colab": {
          "base_uri": "https://localhost:8080/"
        },
        "id": "996cb8ee",
        "outputId": "862032c0-d1af-49d3-f304-7942b8f64810"
      },
      "outputs": [
        {
          "name": "stdout",
          "output_type": "stream",
          "text": [
            "2\n",
            "4\n",
            "6\n",
            "8\n",
            "10\n"
          ]
        }
      ],
      "source": [
        "for i in range(2, 11, 2):\n",
        "    print(i)"
      ]
    },
    {
      "cell_type": "code",
      "execution_count": 20,
      "id": "fb9e58b1",
      "metadata": {
        "colab": {
          "base_uri": "https://localhost:8080/"
        },
        "id": "fb9e58b1",
        "outputId": "1e892d54-0210-4dd2-e00a-ae1519a59eac"
      },
      "outputs": [
        {
          "name": "stdout",
          "output_type": "stream",
          "text": [
            "10\n",
            "8\n",
            "6\n",
            "4\n",
            "2\n"
          ]
        }
      ],
      "source": [
        "for i in range(10, 0, -2):\n",
        "    print(i)"
      ]
    },
    {
      "cell_type": "code",
      "execution_count": 21,
      "id": "f605deac",
      "metadata": {
        "colab": {
          "base_uri": "https://localhost:8080/"
        },
        "id": "f605deac",
        "outputId": "a5b98d7a-f1ad-4516-ef01-dcda0490bc65"
      },
      "outputs": [
        {
          "name": "stdout",
          "output_type": "stream",
          "text": [
            "0 + 0 = 0\n",
            "0 + 1 = 1\n",
            "0 + 2 = 2\n",
            "0 + 3 = 3\n",
            "0 + 4 = 4\n",
            "0 + 5 = 5\n",
            "0 + 6 = 6\n",
            "0 + 7 = 7\n",
            "0 + 8 = 8\n",
            "0 + 9 = 9\n",
            "0 + 10 = 10\n",
            "1 + 0 = 1\n",
            "1 + 1 = 2\n",
            "1 + 2 = 3\n",
            "1 + 3 = 4\n",
            "1 + 4 = 5\n",
            "1 + 5 = 6\n",
            "1 + 6 = 7\n",
            "1 + 7 = 8\n",
            "1 + 8 = 9\n",
            "1 + 9 = 10\n",
            "1 + 10 = 11\n",
            "2 + 0 = 2\n",
            "2 + 1 = 3\n",
            "2 + 2 = 4\n",
            "2 + 3 = 5\n",
            "2 + 4 = 6\n",
            "2 + 5 = 7\n",
            "2 + 6 = 8\n",
            "2 + 7 = 9\n",
            "2 + 8 = 10\n",
            "2 + 9 = 11\n",
            "2 + 10 = 12\n",
            "3 + 0 = 3\n",
            "3 + 1 = 4\n",
            "3 + 2 = 5\n",
            "3 + 3 = 6\n",
            "3 + 4 = 7\n",
            "3 + 5 = 8\n",
            "3 + 6 = 9\n",
            "3 + 7 = 10\n",
            "3 + 8 = 11\n",
            "3 + 9 = 12\n",
            "3 + 10 = 13\n",
            "4 + 0 = 4\n",
            "4 + 1 = 5\n",
            "4 + 2 = 6\n",
            "4 + 3 = 7\n",
            "4 + 4 = 8\n",
            "4 + 5 = 9\n",
            "4 + 6 = 10\n",
            "4 + 7 = 11\n",
            "4 + 8 = 12\n",
            "4 + 9 = 13\n",
            "4 + 10 = 14\n",
            "5 + 0 = 5\n",
            "5 + 1 = 6\n",
            "5 + 2 = 7\n",
            "5 + 3 = 8\n",
            "5 + 4 = 9\n",
            "5 + 5 = 10\n",
            "5 + 6 = 11\n",
            "5 + 7 = 12\n",
            "5 + 8 = 13\n",
            "5 + 9 = 14\n",
            "5 + 10 = 15\n",
            "6 + 0 = 6\n",
            "6 + 1 = 7\n",
            "6 + 2 = 8\n",
            "6 + 3 = 9\n",
            "6 + 4 = 10\n",
            "6 + 5 = 11\n",
            "6 + 6 = 12\n",
            "6 + 7 = 13\n",
            "6 + 8 = 14\n",
            "6 + 9 = 15\n",
            "6 + 10 = 16\n",
            "7 + 0 = 7\n",
            "7 + 1 = 8\n",
            "7 + 2 = 9\n",
            "7 + 3 = 10\n",
            "7 + 4 = 11\n",
            "7 + 5 = 12\n",
            "7 + 6 = 13\n",
            "7 + 7 = 14\n",
            "7 + 8 = 15\n",
            "7 + 9 = 16\n",
            "7 + 10 = 17\n",
            "8 + 0 = 8\n",
            "8 + 1 = 9\n",
            "8 + 2 = 10\n",
            "8 + 3 = 11\n",
            "8 + 4 = 12\n",
            "8 + 5 = 13\n",
            "8 + 6 = 14\n",
            "8 + 7 = 15\n",
            "8 + 8 = 16\n",
            "8 + 9 = 17\n",
            "8 + 10 = 18\n",
            "9 + 0 = 9\n",
            "9 + 1 = 10\n",
            "9 + 2 = 11\n",
            "9 + 3 = 12\n",
            "9 + 4 = 13\n",
            "9 + 5 = 14\n",
            "9 + 6 = 15\n",
            "9 + 7 = 16\n",
            "9 + 8 = 17\n",
            "9 + 9 = 18\n",
            "9 + 10 = 19\n",
            "10 + 0 = 10\n",
            "10 + 1 = 11\n",
            "10 + 2 = 12\n",
            "10 + 3 = 13\n",
            "10 + 4 = 14\n",
            "10 + 5 = 15\n",
            "10 + 6 = 16\n",
            "10 + 7 = 17\n",
            "10 + 8 = 18\n",
            "10 + 9 = 19\n",
            "10 + 10 = 20\n"
          ]
        }
      ],
      "source": [
        "for i in range(11):\n",
        "    for j in range(11):\n",
        "        print(f\"{i} + {j} = {i + j}\")"
      ]
    },
    {
      "cell_type": "markdown",
      "id": "40458b66",
      "metadata": {
        "id": "40458b66"
      },
      "source": [
        "### カウンタ変数の使い方に注意\n"
      ]
    },
    {
      "cell_type": "code",
      "execution_count": 22,
      "id": "PTYHAHqTQj8m",
      "metadata": {
        "colab": {
          "base_uri": "https://localhost:8080/"
        },
        "id": "PTYHAHqTQj8m",
        "outputId": "bd231f13-7554-4c07-a6f9-9beef334a073"
      },
      "outputs": [
        {
          "name": "stdout",
          "output_type": "stream",
          "text": [
            "0 + 0 = 0\n",
            "0 + 1 = 1\n",
            "0 + 2 = 2\n",
            "1 + 0 = 1\n",
            "1 + 1 = 2\n",
            "1 + 2 = 3\n",
            "2 + 0 = 2\n",
            "2 + 1 = 3\n",
            "2 + 2 = 4\n",
            "2\n",
            "2\n"
          ]
        }
      ],
      "source": [
        "for i in range(3):\n",
        "    for j in range(3):\n",
        "        print(f\"{i} + {j} = {i + j}\")\n",
        "\n",
        "print(i)\n",
        "print(j)"
      ]
    },
    {
      "cell_type": "markdown",
      "id": "1Mo4vEQWmYxU",
      "metadata": {
        "id": "1Mo4vEQWmYxU"
      },
      "source": [
        "### pass"
      ]
    },
    {
      "cell_type": "code",
      "execution_count": 23,
      "id": "yqU-ZHWSVqN4",
      "metadata": {
        "colab": {
          "base_uri": "https://localhost:8080/"
        },
        "id": "yqU-ZHWSVqN4",
        "outputId": "4dd2dfe1-e387-4de2-ddac-b9eb1d06c908"
      },
      "outputs": [
        {
          "name": "stdout",
          "output_type": "stream",
          "text": [
            "1\n",
            "2\n",
            "3\n",
            "4\n",
            "5\n",
            "6\n",
            "7\n",
            "8\n",
            "9\n",
            "10\n",
            "処理を終了します\n"
          ]
        }
      ],
      "source": [
        "i = 0\n",
        "\n",
        "while True:\n",
        "    i += 1\n",
        "\n",
        "    if i > 10:\n",
        "        break\n",
        "\n",
        "    if i % 2 == 1:\n",
        "        pass\n",
        "\n",
        "    print(i)\n",
        "\n",
        "print(\"処理を終了します\")"
      ]
    },
    {
      "cell_type": "markdown",
      "id": "8aefae4b",
      "metadata": {
        "id": "8aefae4b"
      },
      "source": [
        "## 例外処理"
      ]
    },
    {
      "cell_type": "markdown",
      "id": "3LX3VbaQnJ_h",
      "metadata": {
        "id": "3LX3VbaQnJ_h"
      },
      "source": [
        "### 実行時エラー(例外)と例外処理"
      ]
    },
    {
      "cell_type": "code",
      "execution_count": 24,
      "id": "6wZzL82nnewE",
      "metadata": {
        "colab": {
          "base_uri": "https://localhost:8080/",
          "height": 197
        },
        "id": "6wZzL82nnewE",
        "outputId": "7209064a-8543-40d1-e208-7d2b426210de"
      },
      "outputs": [
        {
          "ename": "ValueError",
          "evalue": "invalid literal for int() with base 10: 'あいうえお'",
          "output_type": "error",
          "traceback": [
            "\u001b[31m---------------------------------------------------------------------------\u001b[39m",
            "\u001b[31mValueError\u001b[39m                                Traceback (most recent call last)",
            "\u001b[36mCell\u001b[39m\u001b[36m \u001b[39m\u001b[32mIn[24]\u001b[39m\u001b[32m, line 1\u001b[39m\n\u001b[32m----> \u001b[39m\u001b[32m1\u001b[39m score = \u001b[38;5;28;43mint\u001b[39;49m\u001b[43m(\u001b[49m\u001b[38;5;28;43minput\u001b[39;49m\u001b[43m(\u001b[49m\u001b[33;43m\"\u001b[39;49m\u001b[33;43m点数を入力してください: \u001b[39;49m\u001b[33;43m\"\u001b[39;49m\u001b[43m)\u001b[49m\u001b[43m)\u001b[49m\n",
            "\u001b[31mValueError\u001b[39m: invalid literal for int() with base 10: 'あいうえお'"
          ]
        }
      ],
      "source": [
        "score = int(input(\"点数を入力してください: \"))"
      ]
    },
    {
      "cell_type": "markdown",
      "id": "RFkV6DnhnpEJ",
      "metadata": {
        "id": "RFkV6DnhnpEJ"
      },
      "source": [
        "### try-catch文"
      ]
    },
    {
      "cell_type": "code",
      "execution_count": 25,
      "id": "cIc-wQjenuGM",
      "metadata": {
        "colab": {
          "base_uri": "https://localhost:8080/"
        },
        "id": "cIc-wQjenuGM",
        "outputId": "529c3b5e-5a70-41a9-b719-d8a9637ad4f1"
      },
      "outputs": [
        {
          "name": "stdout",
          "output_type": "stream",
          "text": [
            "合格です\n",
            "おめでとうございます！\n",
            "処理を終了します\n"
          ]
        }
      ],
      "source": [
        "try:\n",
        "    score = int(input(\"点数を入力してください: \"))\n",
        "except ValueError:\n",
        "    print(\"エラー: 数値を入力してください\")\n",
        "except:\n",
        "    print(\"エラー: 何らかのエラーが発生しました\")\n",
        "else:\n",
        "    if score >= 60:\n",
        "        print(\"合格です\")\n",
        "        print(\"おめでとうございます！\")\n",
        "finally:\n",
        "    print(\"処理を終了します\")"
      ]
    },
    {
      "cell_type": "markdown",
      "id": "59872112",
      "metadata": {
        "id": "59872112"
      },
      "source": [
        "## エラーの訂正（デバッグ）"
      ]
    },
    {
      "cell_type": "markdown",
      "id": "DSm7XZKu0wsA",
      "metadata": {
        "id": "DSm7XZKu0wsA"
      },
      "source": [
        "### プリントデバッグ"
      ]
    },
    {
      "cell_type": "code",
      "execution_count": 26,
      "id": "e9d75b46",
      "metadata": {
        "colab": {
          "base_uri": "https://localhost:8080/",
          "height": 35
        },
        "id": "e9d75b46",
        "outputId": "6ae9e4be-cea9-4ad7-d594-d7e4730b0d7e"
      },
      "outputs": [
        {
          "data": {
            "text/plain": [
              "'東京から新橋までの運賃は140円です。'"
            ]
          },
          "execution_count": 26,
          "metadata": {},
          "output_type": "execute_result"
        }
      ],
      "source": [
        "station1 = \"東京\"\n",
        "station2 = \"新橋\"\n",
        "price = 140\n",
        "f\"{station1}から{station2}までの運賃は{price}円です。\""
      ]
    },
    {
      "cell_type": "code",
      "execution_count": 27,
      "id": "durhM_TSvBLB",
      "metadata": {
        "colab": {
          "base_uri": "https://localhost:8080/"
        },
        "id": "durhM_TSvBLB",
        "outputId": "25259ed9-a764-43f1-eb39-888c74eaee23"
      },
      "outputs": [
        {
          "name": "stdout",
          "output_type": "stream",
          "text": [
            "station1='東京' station2='新橋' price=140\n"
          ]
        }
      ],
      "source": [
        "print(f\"{station1=} {station2=} {price=}\")"
      ]
    },
    {
      "cell_type": "markdown",
      "id": "YGnpuGD2vlBV",
      "metadata": {
        "id": "YGnpuGD2vlBV"
      },
      "source": [
        "### assert文"
      ]
    },
    {
      "cell_type": "code",
      "execution_count": 28,
      "id": "xN3B26001xD_",
      "metadata": {
        "id": "xN3B26001xD_"
      },
      "outputs": [],
      "source": [
        "station1 = \"東京\"\n",
        "station2 = \"新橋\"\n",
        "price = 140"
      ]
    },
    {
      "cell_type": "code",
      "execution_count": 29,
      "id": "9vgjGMJv1ns2",
      "metadata": {
        "colab": {
          "base_uri": "https://localhost:8080/"
        },
        "id": "9vgjGMJv1ns2",
        "outputId": "82cdb7ce-e5cd-4a24-9cf4-bf1c4d9ffbf9"
      },
      "outputs": [
        {
          "data": {
            "text/plain": [
              "False"
            ]
          },
          "execution_count": 29,
          "metadata": {},
          "output_type": "execute_result"
        }
      ],
      "source": [
        "price < 100"
      ]
    },
    {
      "cell_type": "code",
      "execution_count": 30,
      "id": "y1QKbCWOwVVS",
      "metadata": {
        "colab": {
          "base_uri": "https://localhost:8080/",
          "height": 180
        },
        "id": "y1QKbCWOwVVS",
        "outputId": "5cd60ab2-2e1f-4e5a-ae16-9947535527f1"
      },
      "outputs": [
        {
          "ename": "AssertionError",
          "evalue": "",
          "output_type": "error",
          "traceback": [
            "\u001b[31m---------------------------------------------------------------------------\u001b[39m",
            "\u001b[31mAssertionError\u001b[39m                            Traceback (most recent call last)",
            "\u001b[36mCell\u001b[39m\u001b[36m \u001b[39m\u001b[32mIn[30]\u001b[39m\u001b[32m, line 1\u001b[39m\n\u001b[32m----> \u001b[39m\u001b[32m1\u001b[39m \u001b[38;5;28;01massert\u001b[39;00m price < \u001b[32m100\u001b[39m\n",
            "\u001b[31mAssertionError\u001b[39m: "
          ]
        }
      ],
      "source": [
        "assert price < 100"
      ]
    },
    {
      "cell_type": "code",
      "execution_count": 31,
      "id": "DVYARTZpww3s",
      "metadata": {
        "colab": {
          "base_uri": "https://localhost:8080/",
          "height": 166
        },
        "id": "DVYARTZpww3s",
        "outputId": "d8302892-7379-43a8-a663-7bc102405a21"
      },
      "outputs": [
        {
          "ename": "AssertionError",
          "evalue": "手持ちが100円しかないので、その電車には乗れません。",
          "output_type": "error",
          "traceback": [
            "\u001b[31m---------------------------------------------------------------------------\u001b[39m",
            "\u001b[31mAssertionError\u001b[39m                            Traceback (most recent call last)",
            "\u001b[36mCell\u001b[39m\u001b[36m \u001b[39m\u001b[32mIn[31]\u001b[39m\u001b[32m, line 1\u001b[39m\n\u001b[32m----> \u001b[39m\u001b[32m1\u001b[39m \u001b[38;5;28;01massert\u001b[39;00m price <= \u001b[32m100\u001b[39m, \u001b[33m\"\u001b[39m\u001b[33m手持ちが100円しかないので、その電車には乗れません。\u001b[39m\u001b[33m\"\u001b[39m\n",
            "\u001b[31mAssertionError\u001b[39m: 手持ちが100円しかないので、その電車には乗れません。"
          ]
        }
      ],
      "source": [
        "assert price <= 100, \"手持ちが100円しかないので、その電車には乗れません。\""
      ]
    },
    {
      "cell_type": "markdown",
      "id": "AEwVre942AMS",
      "metadata": {
        "id": "AEwVre942AMS"
      },
      "source": [
        "### raise文"
      ]
    },
    {
      "cell_type": "code",
      "execution_count": 32,
      "id": "rZ-mMkq42VwA",
      "metadata": {
        "colab": {
          "base_uri": "https://localhost:8080/",
          "height": 214
        },
        "id": "rZ-mMkq42VwA",
        "outputId": "e796b1e9-c0e6-4fbe-b359-e0aa9ed7a8f8"
      },
      "outputs": [
        {
          "ename": "ValueError",
          "evalue": "100円しかないので、その電車に乗れません。",
          "output_type": "error",
          "traceback": [
            "\u001b[31m---------------------------------------------------------------------------\u001b[39m",
            "\u001b[31mValueError\u001b[39m                                Traceback (most recent call last)",
            "\u001b[36mCell\u001b[39m\u001b[36m \u001b[39m\u001b[32mIn[32]\u001b[39m\u001b[32m, line 7\u001b[39m\n\u001b[32m      5\u001b[39m     \u001b[38;5;28mprint\u001b[39m(\u001b[33m\"\u001b[39m\u001b[33m電車に乗れます\u001b[39m\u001b[33m\"\u001b[39m)\n\u001b[32m      6\u001b[39m \u001b[38;5;28;01melse\u001b[39;00m:\n\u001b[32m----> \u001b[39m\u001b[32m7\u001b[39m     \u001b[38;5;28;01mraise\u001b[39;00m \u001b[38;5;167;01mValueError\u001b[39;00m(\u001b[33mf\u001b[39m\u001b[33m\"\u001b[39m\u001b[38;5;132;01m{\u001b[39;00mbudget\u001b[38;5;132;01m}\u001b[39;00m\u001b[33m円しかないので、その電車に乗れません。\u001b[39m\u001b[33m\"\u001b[39m)\n",
            "\u001b[31mValueError\u001b[39m: 100円しかないので、その電車に乗れません。"
          ]
        }
      ],
      "source": [
        "budget = 100\n",
        "price = 1000\n",
        "\n",
        "if price <= 100:\n",
        "    print(\"電車に乗れます\")\n",
        "else:\n",
        "    raise ValueError(f\"{budget}円しかないので、その電車に乗れません。\")"
      ]
    },
    {
      "cell_type": "code",
      "execution_count": null,
      "id": "b855c01e",
      "metadata": {},
      "outputs": [],
      "source": []
    }
  ],
  "metadata": {
    "colab": {
      "provenance": []
    },
    "kernelspec": {
      "display_name": ".venv",
      "language": "python",
      "name": "python3"
    },
    "language_info": {
      "codemirror_mode": {
        "name": "ipython",
        "version": 3
      },
      "file_extension": ".py",
      "mimetype": "text/x-python",
      "name": "python",
      "nbconvert_exporter": "python",
      "pygments_lexer": "ipython3",
      "version": "3.12.7"
    }
  },
  "nbformat": 4,
  "nbformat_minor": 5
}
