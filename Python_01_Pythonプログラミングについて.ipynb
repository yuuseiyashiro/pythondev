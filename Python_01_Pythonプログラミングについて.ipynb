{
  "cells": [
    {
      "cell_type": "markdown",
      "metadata": {
        "id": "fiaSg5_XOTRi"
      },
      "source": [
        "### Pythonを実行する方法1: REPLを使う"
      ]
    },
    {
      "cell_type": "markdown",
      "metadata": {
        "id": "pOQ6dEFbOgtQ"
      },
      "source": [
        "公式のオンラインREPLを利用する\n",
        "\n",
        "[Python Shell](https://www.python.org/shell/)"
      ]
    },
    {
      "cell_type": "markdown",
      "metadata": {
        "id": "gAJnVAnsOn-R"
      },
      "source": [
        "### Pythonを実行する方法2: 「.pyファイル」を作る\n",
        "\n",
        "（1）`example.py` というファイルを作成し、内容を以下のとおりに入力、保存（ファイルは作成済です）\n",
        "\n",
        "```python\n",
        "print(\"Hello, world!\")\n",
        "```\n",
        "\n",
        "（2）ターミナルで以下を実行\n",
        "\n",
        "```\n",
        "python example.py\n",
        "```"
      ]
    },
    {
      "cell_type": "markdown",
      "metadata": {
        "id": "gxwkdM2fR9v9"
      },
      "source": [
        "### Pythonを実行する方法3: Jupyter Notebookを使う"
      ]
    },
    {
      "cell_type": "code",
      "execution_count": null,
      "metadata": {
        "colab": {
          "base_uri": "https://localhost:8080/"
        },
        "id": "ahtR-d2UR-WP",
        "outputId": "e44c43de-34b1-4521-a2d7-8e14561b3e48"
      },
      "outputs": [
        {
          "name": "stdout",
          "output_type": "stream",
          "text": [
            "Hello, world!\n"
          ]
        }
      ],
      "source": [
        "print(\"Hello, world!\")"
      ]
    }
  ],
  "metadata": {
    "colab": {
      "provenance": []
    },
    "kernelspec": {
      "display_name": "Python 3",
      "name": "python3"
    },
    "language_info": {
      "name": "python"
    }
  },
  "nbformat": 4,
  "nbformat_minor": 0
}
