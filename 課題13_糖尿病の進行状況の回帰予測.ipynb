{
  "nbformat": 4,
  "nbformat_minor": 0,
  "metadata": {
    "colab": {
      "provenance": []
    },
    "kernelspec": {
      "name": "python3",
      "display_name": "Python 3"
    },
    "language_info": {
      "name": "python"
    }
  },
  "cells": [
    {
      "cell_type": "markdown",
      "source": [
        "# 【課題】糖尿病の進行状況を予測（回帰）しよう"
      ],
      "metadata": {
        "id": "3wxV98T0C9ZL"
      }
    },
    {
      "cell_type": "markdown",
      "source": [
        "## データを読み込む"
      ],
      "metadata": {
        "id": "tr8IwPgPDG8w"
      }
    },
    {
      "cell_type": "markdown",
      "source": [
        "まずは、最初のセルを実行し、データを読み込んでください。今回はscikit-learnに標準で入っているデータを使います。"
      ],
      "metadata": {
        "id": "hrtOoqJYYQbU"
      }
    },
    {
      "cell_type": "code",
      "execution_count": null,
      "metadata": {
        "id": "uG_1v9GACv2E"
      },
      "outputs": [],
      "source": [
        "# scikit-learnの糖尿病のデータセットを読み込む（変更しないでください）\n",
        "from sklearn import datasets\n",
        "diabetes_data = datasets.load_diabetes()"
      ]
    },
    {
      "cell_type": "markdown",
      "source": [
        "読み込んだデータについて確認します。"
      ],
      "metadata": {
        "id": "u1EVP8iQYdd4"
      }
    },
    {
      "cell_type": "code",
      "source": [
        "# データセットのDESCRを確認する（変更しないでください）\n",
        "print(diabetes_data.DESCR)"
      ],
      "metadata": {
        "id": "aajPTYB3ECpT"
      },
      "execution_count": null,
      "outputs": []
    },
    {
      "cell_type": "code",
      "source": [
        "# 読み込んだデータが何行何列かをshapeで確認する（変更しないでください）\n",
        "print(diabetes_data.data.shape)\n",
        "print(diabetes_data.target.shape)"
      ],
      "metadata": {
        "id": "WHzRiCt5Z8pD"
      },
      "execution_count": null,
      "outputs": []
    },
    {
      "cell_type": "markdown",
      "source": [
        "このデータは、糖尿病患者に関する10種類のデータを持っています。主要なもののみ、以下に概要を記載します。\n",
        "\n",
        "- `age`：年齢\n",
        "- `sex`：性別\n",
        "- `bmi`：身長と体重から計算されたBMI\n",
        "- `bp`：血圧の平均\n",
        "\n",
        "目的変数には、各患者の1年後の糖尿病の進行状況を数値化したものが入っています。\n",
        "\n",
        "今回は `bmi`（BMI）と `bp`（血圧）を説明変数として採用します。スライスを使い、`diabetes_data` の `data` と `target` から、それぞれ `X` と `y` を作成しましょう。なお、今回はscikit-learnが持つデータを読み込んでいるので、データはndarray型です。一度Pandasに変更してからスライスでも良いですが、ここではndarrayのまま `data` からスライスしています。"
      ],
      "metadata": {
        "id": "DK88Rnv6Yga6"
      }
    },
    {
      "cell_type": "code",
      "source": [
        "# スライスして X と y を作成する（変更しないでください）\n",
        "X = diabetes_data.data[:, 2:4]\n",
        "y = diabetes_data.target"
      ],
      "metadata": {
        "id": "7bYxVSpaR8va"
      },
      "execution_count": null,
      "outputs": []
    },
    {
      "cell_type": "markdown",
      "source": [
        "`X` の最初の10件を表示して、データがどのようになっているかを確認します。"
      ],
      "metadata": {
        "id": "kv-R-1Pea-mP"
      }
    },
    {
      "cell_type": "code",
      "source": [
        "# 特徴量（説明変数）の最初の10件をスライスして表示する\n",
        "# （以下にコードを書いてください）\n"
      ],
      "metadata": {
        "id": "Fo7pooWvSprv"
      },
      "execution_count": null,
      "outputs": []
    },
    {
      "cell_type": "markdown",
      "source": [
        "このデータは最初から正規化されているため、このような数値となっています。\n",
        "\n",
        "`y` のデータも表示してみましょう。"
      ],
      "metadata": {
        "id": "Pcn-edJXbjz-"
      }
    },
    {
      "cell_type": "code",
      "source": [
        "# 目的変数の最初の10件をスライスして表示する\n",
        "# （以下にコードを書いてください）\n"
      ],
      "metadata": {
        "id": "ZuEe7RERbGlX"
      },
      "execution_count": null,
      "outputs": []
    },
    {
      "cell_type": "markdown",
      "source": [
        "`y`（糖尿病の進行状況）の数値がどのように計測、あるいは計算されたものかについての説明は公表されていませんが、数値が大きいほど、糖尿病が進行しているものと認識してください。"
      ],
      "metadata": {
        "id": "3pH61xNZbTjg"
      }
    },
    {
      "cell_type": "markdown",
      "source": [
        "## データの前処理について\n",
        "\n",
        "今回は、とくに何か前処理を行なう必要はありませんので、スキップして進めます。"
      ],
      "metadata": {
        "id": "5_EvGRj_buMR"
      }
    },
    {
      "cell_type": "markdown",
      "source": [
        "## データを訓練データとテストデータに分ける"
      ],
      "metadata": {
        "id": "L_lecuWab7fg"
      }
    },
    {
      "cell_type": "markdown",
      "source": [
        "X および y を訓練データとテストデータに分けましょう。その際、訓練データ8割、テストデータ2割としてください。また、並び順がランダムになるよう、分割してください。"
      ],
      "metadata": {
        "id": "Lq-Sw5fvcGId"
      }
    },
    {
      "cell_type": "code",
      "source": [
        "# 訓練データ8割、テストデータ2割に分割する\n",
        "# （以下にコードを書いてください）\n"
      ],
      "metadata": {
        "id": "bIj9VSwWWMrI"
      },
      "execution_count": null,
      "outputs": []
    },
    {
      "cell_type": "markdown",
      "source": [
        "## モデルを作成して訓練する"
      ],
      "metadata": {
        "id": "vxpuO1SjsjHK"
      }
    },
    {
      "cell_type": "markdown",
      "source": [
        "ここでは、レッスン本文でも利用した「線形回帰モデル」（`LinearRegression`）を使います。また、作成したモデルに訓練データを渡して、学習を行ないます。"
      ],
      "metadata": {
        "id": "WxmRvj3ZskNN"
      }
    },
    {
      "cell_type": "code",
      "source": [
        "# LinearRegressionの線形回帰モデルを作成する\n",
        "# （以下にコードを書いてください）\n",
        "\n",
        "\n",
        "# 訓練データを使って訓練を行なう\n",
        "# （以下にコードを書いてください）\n"
      ],
      "metadata": {
        "id": "Km3grQC8WPEf"
      },
      "execution_count": null,
      "outputs": []
    },
    {
      "cell_type": "markdown",
      "source": [
        "## 期待する性能が出たかを評価する"
      ],
      "metadata": {
        "id": "3Sfghtd9svor"
      }
    },
    {
      "cell_type": "markdown",
      "source": [
        "予測を実行しましょう。"
      ],
      "metadata": {
        "id": "2omVJQocszn1"
      }
    },
    {
      "cell_type": "code",
      "source": [
        "# テストデータを使って予測（回帰）を実行する\n",
        "# （以下にコードを書いてください）\n"
      ],
      "metadata": {
        "id": "Nu7gRDudWRGr"
      },
      "execution_count": null,
      "outputs": []
    },
    {
      "cell_type": "markdown",
      "source": [
        "モデルの評価を行なううえで、まずは予測値と正解値の散布図を作ります。"
      ],
      "metadata": {
        "id": "gs4I6X7rs119"
      }
    },
    {
      "cell_type": "code",
      "source": [
        "# 横軸が予測値、縦軸は正解値でプロットした散布図を表示する\n",
        "# （以下にコードを書いてください）\n"
      ],
      "metadata": {
        "id": "nYlO0oEPWTGi"
      },
      "execution_count": null,
      "outputs": []
    },
    {
      "cell_type": "markdown",
      "source": [
        "正解値と予測値の平均二乗誤差を求めます。"
      ],
      "metadata": {
        "id": "8A-QWjLqtCUG"
      }
    },
    {
      "cell_type": "code",
      "source": [
        "# 正解値と予測値の平均二乗誤差を計算して表示する\n",
        "# （以下にコードを書いてください）\n"
      ],
      "metadata": {
        "id": "iMvEZzQmWcXp"
      },
      "execution_count": null,
      "outputs": []
    },
    {
      "cell_type": "markdown",
      "source": [
        "平均二乗誤差の平方根を計算し、正解値と予測値のズレの大きさを求めましょう。"
      ],
      "metadata": {
        "id": "HJDe1RuMtJaP"
      }
    },
    {
      "cell_type": "code",
      "source": [
        "# 平均二乗誤差の平方根を計算して表示する\n",
        "# （以下にコードを書いてください）\n"
      ],
      "metadata": {
        "id": "-q4gsK5mWe-X"
      },
      "execution_count": null,
      "outputs": []
    }
  ]
}