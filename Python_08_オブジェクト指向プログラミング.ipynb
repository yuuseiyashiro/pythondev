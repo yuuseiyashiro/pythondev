{
  "cells": [
    {
      "cell_type": "markdown",
      "id": "9iARStSggDQw",
      "metadata": {
        "id": "9iARStSggDQw"
      },
      "source": [
        "## クラスとデータ型\n",
        "\n"
      ]
    },
    {
      "cell_type": "markdown",
      "id": "1hg4W2UCaXR1",
      "metadata": {
        "id": "1hg4W2UCaXR1"
      },
      "source": [
        "### 一例：`datetime`"
      ]
    },
    {
      "cell_type": "code",
      "execution_count": 1,
      "id": "coQqxA0y0Wh-",
      "metadata": {
        "colab": {
          "base_uri": "https://localhost:8080/"
        },
        "id": "coQqxA0y0Wh-",
        "outputId": "b4f1bc02-8da9-4e25-a558-ee94eac64259"
      },
      "outputs": [
        {
          "name": "stdout",
          "output_type": "stream",
          "text": [
            "2025-03-13 08:44:34.363019+09:00\n"
          ]
        }
      ],
      "source": [
        "from datetime import datetime, timedelta, timezone\n",
        "\n",
        "jst = timezone(timedelta(hours=+9), 'JST')\n",
        "\n",
        "now_dtm = datetime.now(jst)\n",
        "\n",
        "print(now_dtm)"
      ]
    },
    {
      "cell_type": "code",
      "execution_count": 2,
      "id": "_ZEXCQqR1Xzk",
      "metadata": {
        "colab": {
          "base_uri": "https://localhost:8080/"
        },
        "id": "_ZEXCQqR1Xzk",
        "outputId": "fb5189c2-7d7b-48ad-ade0-29ee8d88a2bc"
      },
      "outputs": [
        {
          "name": "stdout",
          "output_type": "stream",
          "text": [
            "<class 'datetime.datetime'>\n"
          ]
        }
      ],
      "source": [
        "print(type(now_dtm))"
      ]
    },
    {
      "cell_type": "code",
      "execution_count": 3,
      "id": "Eh1T5kuqgJtR",
      "metadata": {
        "colab": {
          "base_uri": "https://localhost:8080/"
        },
        "id": "Eh1T5kuqgJtR",
        "outputId": "6edde1aa-12f1-4bbc-b137-a50b95403c22"
      },
      "outputs": [
        {
          "name": "stdout",
          "output_type": "stream",
          "text": [
            "3\n"
          ]
        }
      ],
      "source": [
        "print(now_dtm.weekday())"
      ]
    },
    {
      "cell_type": "code",
      "execution_count": 4,
      "id": "4AfUy6zleK5l",
      "metadata": {
        "colab": {
          "base_uri": "https://localhost:8080/"
        },
        "id": "4AfUy6zleK5l",
        "outputId": "77b508f2-832a-4957-9fed-40e3526b111a"
      },
      "outputs": [
        {
          "name": "stdout",
          "output_type": "stream",
          "text": [
            "2025-03-13 08:44:34.363019+09:00\n"
          ]
        }
      ],
      "source": [
        "print(now_dtm.__str__())"
      ]
    },
    {
      "cell_type": "markdown",
      "id": "QneM3e7OkzXJ",
      "metadata": {
        "id": "QneM3e7OkzXJ"
      },
      "source": [
        "## クラスの作り方とインスタンスの使い方\n"
      ]
    },
    {
      "cell_type": "markdown",
      "id": "cjB3ImAfgAHJ",
      "metadata": {
        "id": "cjB3ImAfgAHJ"
      },
      "source": [
        "### クラスを作ってみる"
      ]
    },
    {
      "cell_type": "code",
      "execution_count": 5,
      "id": "8819b8b6",
      "metadata": {
        "id": "8819b8b6"
      },
      "outputs": [],
      "source": [
        "class Dog:\n",
        "    # property\n",
        "    voice = \"bow!\"\n",
        "\n",
        "    # method\n",
        "    def bark(self):\n",
        "        print(self.voice)"
      ]
    },
    {
      "cell_type": "markdown",
      "id": "BtexooKXh2v9",
      "metadata": {
        "id": "BtexooKXh2v9"
      },
      "source": [
        "### 作ったクラスのインスタンスを使ってみる"
      ]
    },
    {
      "cell_type": "code",
      "execution_count": 6,
      "id": "fa40583e",
      "metadata": {
        "colab": {
          "base_uri": "https://localhost:8080/"
        },
        "id": "fa40583e",
        "outputId": "b0f41116-0709-47ea-f8f8-6d14d63ce9b4"
      },
      "outputs": [
        {
          "name": "stdout",
          "output_type": "stream",
          "text": [
            "bow!\n"
          ]
        }
      ],
      "source": [
        "buddy = Dog()\n",
        "buddy.bark()"
      ]
    },
    {
      "cell_type": "markdown",
      "id": "j6ixcUQwnbgZ",
      "metadata": {
        "id": "j6ixcUQwnbgZ"
      },
      "source": [
        "### コンストラクタ"
      ]
    },
    {
      "cell_type": "code",
      "execution_count": 7,
      "id": "7b77cba9",
      "metadata": {
        "id": "7b77cba9"
      },
      "outputs": [],
      "source": [
        "class Dog:\n",
        "    # property\n",
        "    voice = \"bow!\"\n",
        "\n",
        "    # constructor\n",
        "    def __init__(self, name = \"Buddy\"):\n",
        "        # property\n",
        "        self.name = name\n",
        "\n",
        "    # method\n",
        "    def bark(self):\n",
        "        print(self.voice)"
      ]
    },
    {
      "cell_type": "code",
      "execution_count": 8,
      "id": "8552891b",
      "metadata": {
        "colab": {
          "base_uri": "https://localhost:8080/"
        },
        "id": "8552891b",
        "outputId": "021ea3bb-8953-407a-f304-561badd55b26"
      },
      "outputs": [
        {
          "name": "stdout",
          "output_type": "stream",
          "text": [
            "Buddy\n",
            "bow!\n",
            "Jake\n",
            "bow!\n"
          ]
        }
      ],
      "source": [
        "buddy = Dog()\n",
        "print(buddy.name)\n",
        "buddy.bark()\n",
        "\n",
        "jake = Dog(\"Jake\")\n",
        "print(jake.name)\n",
        "jake.bark()"
      ]
    },
    {
      "cell_type": "markdown",
      "id": "8IWhXxPtiafQ",
      "metadata": {
        "id": "8IWhXxPtiafQ"
      },
      "source": [
        "### インスタンスを関数のように呼び出す"
      ]
    },
    {
      "cell_type": "code",
      "execution_count": 9,
      "id": "MwdPwAnRjhFS",
      "metadata": {
        "colab": {
          "base_uri": "https://localhost:8080/",
          "height": 35
        },
        "id": "MwdPwAnRjhFS",
        "outputId": "7515ba92-f83e-4cf2-b19f-3d5efdb1d10f"
      },
      "outputs": [
        {
          "data": {
            "text/plain": [
              "'このピンクのスーツ（サイズ：L、ブランド：サンプルブランド）は、パーティーにぴったりです。'"
            ]
          },
          "execution_count": 9,
          "metadata": {},
          "output_type": "execute_result"
        }
      ],
      "source": [
        "class Suit:\n",
        "    def __init__(self, color, size, brand):\n",
        "        self.color = color\n",
        "        self.size = size\n",
        "        self.brand = brand\n",
        "\n",
        "    def __call__(self, occasion):\n",
        "        return f\"この{self.color}のスーツ（サイズ：{self.size}、ブランド：{self.brand}）は、{occasion}にぴったりです。\"\n",
        "\n",
        "# クラスのインスタンス化\n",
        "my_suit = Suit(color=\"ピンク\", size=\"L\", brand=\"サンプルブランド\")\n",
        "\n",
        "# インスタンスを関数のように呼び出す\n",
        "result = my_suit(\"パーティー\")\n",
        "result"
      ]
    },
    {
      "cell_type": "code",
      "execution_count": 10,
      "id": "GxzDQ2-fkg0S",
      "metadata": {
        "colab": {
          "base_uri": "https://localhost:8080/",
          "height": 35
        },
        "id": "GxzDQ2-fkg0S",
        "outputId": "5d770dba-68c7-4f63-d66d-2ebf8384bf5e"
      },
      "outputs": [
        {
          "data": {
            "text/plain": [
              "'このピンクのスーツ（サイズ：L、ブランド：サンプルブランド）は、a formal eventにぴったりです。'"
            ]
          },
          "execution_count": 10,
          "metadata": {},
          "output_type": "execute_result"
        }
      ],
      "source": [
        "# インスタンスを関数のように呼び出す\n",
        "result = my_suit.__call__(\"a formal event\")\n",
        "result"
      ]
    },
    {
      "cell_type": "code",
      "execution_count": 11,
      "id": "krUvz9qwl1G0",
      "metadata": {
        "colab": {
          "base_uri": "https://localhost:8080/"
        },
        "id": "krUvz9qwl1G0",
        "outputId": "26c9e578-ef3d-4454-d145-e7bdf67a8161"
      },
      "outputs": [
        {
          "name": "stdout",
          "output_type": "stream",
          "text": [
            "bow!\n"
          ]
        }
      ],
      "source": [
        "class Dog:\n",
        "    voice = \"bow!\"\n",
        "\n",
        "    def __init__(self, name = \"Buddy\"):\n",
        "        # property\n",
        "        self.name = name\n",
        "\n",
        "    def __call__(self):\n",
        "        return self.bark()\n",
        "\n",
        "    def bark(self):\n",
        "        print(self.voice)\n",
        "\n",
        "buddy = Dog()\n",
        "buddy() # buddy.bark()と同じ"
      ]
    },
    {
      "cell_type": "markdown",
      "id": "696f8af2",
      "metadata": {
        "id": "696f8af2"
      },
      "source": [
        "### クラスメソッド"
      ]
    },
    {
      "cell_type": "code",
      "execution_count": 12,
      "id": "99ef6f02",
      "metadata": {
        "id": "99ef6f02"
      },
      "outputs": [],
      "source": [
        "class Dog:\n",
        "    # property\n",
        "    voice = \"bow!\"\n",
        "\n",
        "    # constructor\n",
        "    def __init__(self, name = \"Buddy\"):\n",
        "        self.name = name\n",
        "\n",
        "    # method\n",
        "    def bark(self):\n",
        "        print(self.voice)\n",
        "\n",
        "    # class method\n",
        "    @classmethod\n",
        "    def description(self):\n",
        "        print(f\"犬の鳴き声は{self.voice}\")"
      ]
    },
    {
      "cell_type": "code",
      "execution_count": 13,
      "id": "056a6178",
      "metadata": {
        "colab": {
          "base_uri": "https://localhost:8080/"
        },
        "id": "056a6178",
        "outputId": "81905463-daf2-43e4-aafe-af89294dd231"
      },
      "outputs": [
        {
          "name": "stdout",
          "output_type": "stream",
          "text": [
            "犬の鳴き声はbow!\n",
            "Buddy\n",
            "bow!\n",
            "Jake\n",
            "bow!\n"
          ]
        }
      ],
      "source": [
        "Dog.description() # この行ではインスタンスを生成していない\n",
        "\n",
        "buddy = Dog()\n",
        "print(buddy.name)\n",
        "buddy.bark()\n",
        "\n",
        "jake = Dog(\"Jake\")\n",
        "print(jake.name)\n",
        "jake.bark()"
      ]
    },
    {
      "cell_type": "markdown",
      "id": "5149909a",
      "metadata": {
        "id": "5149909a"
      },
      "source": [
        "### もう1つクラスを作ってみる"
      ]
    },
    {
      "cell_type": "code",
      "execution_count": 14,
      "id": "24805fd3",
      "metadata": {
        "id": "24805fd3"
      },
      "outputs": [],
      "source": [
        "class Dog:\n",
        "    # property\n",
        "    voice = \"bow!\"\n",
        "\n",
        "    # constructor\n",
        "    def __init__(self, name = \"Buddy\"):\n",
        "        self.name = name\n",
        "\n",
        "    # method\n",
        "    def bark(self):\n",
        "        print(self.voice)\n",
        "\n",
        "    # class method\n",
        "    @classmethod\n",
        "    def description(self):\n",
        "        print(f\"犬の鳴き声は{self.voice}\")\n",
        "\n",
        "class Japanese_Dog:\n",
        "    voice = \"ワン！\"\n",
        "\n",
        "    def __init__(self, name = \"ポチ\"):\n",
        "        self.name = name\n",
        "\n",
        "    def bark(self):\n",
        "        print(self.voice)\n",
        "\n",
        "    @classmethod\n",
        "    def description(self):\n",
        "        print(f\"日本の犬の鳴き声は{self.voice}\")"
      ]
    },
    {
      "cell_type": "code",
      "execution_count": 15,
      "id": "a9d60469",
      "metadata": {
        "colab": {
          "base_uri": "https://localhost:8080/"
        },
        "id": "a9d60469",
        "outputId": "1f3583cd-bda6-43af-b41e-f6da1682423c"
      },
      "outputs": [
        {
          "name": "stdout",
          "output_type": "stream",
          "text": [
            "犬の鳴き声はbow!\n",
            "Buddy\n",
            "bow!\n",
            "Jake\n",
            "bow!\n",
            "日本の犬の鳴き声はワン！\n",
            "ポチ\n",
            "ワン！\n",
            "シロ\n",
            "ワン！\n"
          ]
        }
      ],
      "source": [
        "Dog.description() # この行ではインスタンスを生成していない\n",
        "\n",
        "buddy = Dog()\n",
        "print(buddy.name)\n",
        "buddy.bark()\n",
        "\n",
        "jake = Dog(\"Jake\")\n",
        "print(jake.name)\n",
        "jake.bark()\n",
        "\n",
        "Japanese_Dog.description() # この行ではインスタンスを生成していない\n",
        "\n",
        "pochi = Japanese_Dog()\n",
        "print(pochi.name)\n",
        "pochi.bark()\n",
        "\n",
        "shiro = Japanese_Dog(\"シロ\")\n",
        "print(shiro.name)\n",
        "shiro.bark()"
      ]
    },
    {
      "cell_type": "markdown",
      "id": "QUAvrCAE24UQ",
      "metadata": {
        "id": "QUAvrCAE24UQ"
      },
      "source": [
        "## 継承"
      ]
    },
    {
      "cell_type": "code",
      "execution_count": 16,
      "id": "0acbd37f",
      "metadata": {
        "id": "0acbd37f"
      },
      "outputs": [],
      "source": [
        "class Dog:\n",
        "    def __init__(self, name):\n",
        "        self.name = name\n",
        "\n",
        "    def bark(self):\n",
        "        print(self.voice)\n",
        "\n",
        "class English_Dog(Dog):\n",
        "    voice = \"bow!\"\n",
        "\n",
        "    def __init__(self, name = \"Buddy\"):\n",
        "        super().__init__(name)\n",
        "\n",
        "    @classmethod\n",
        "    def description(self):\n",
        "        print(f\"英語圏の犬の鳴き声は{self.voice}\")\n",
        "\n",
        "class Japanese_Dog(Dog):\n",
        "    voice = \"ワン！\"\n",
        "\n",
        "    def __init__(self, name = \"ポチ\"):\n",
        "        super().__init__(name)\n",
        "\n",
        "    @classmethod\n",
        "    def description(self):\n",
        "        print(f\"日本の犬の鳴き声は{self.voice}\")"
      ]
    },
    {
      "cell_type": "code",
      "execution_count": 17,
      "id": "46280b3c",
      "metadata": {
        "colab": {
          "base_uri": "https://localhost:8080/"
        },
        "id": "46280b3c",
        "outputId": "bb5fa536-dbd0-416c-9d1d-9999bf26bf3a"
      },
      "outputs": [
        {
          "name": "stdout",
          "output_type": "stream",
          "text": [
            "英語圏の犬の鳴き声はbow!\n",
            "Buddy\n",
            "bow!\n",
            "Jake\n",
            "bow!\n",
            "日本の犬の鳴き声はワン！\n",
            "ポチ\n",
            "ワン！\n",
            "シロ\n",
            "ワン！\n"
          ]
        }
      ],
      "source": [
        "English_Dog.description()\n",
        "\n",
        "buddy = English_Dog()\n",
        "print(buddy.name)\n",
        "buddy.bark()\n",
        "\n",
        "jake = English_Dog(\"Jake\")\n",
        "print(jake.name)\n",
        "jake.bark()\n",
        "\n",
        "Japanese_Dog.description()\n",
        "\n",
        "pochi = Japanese_Dog()\n",
        "print(pochi.name)\n",
        "pochi.bark()\n",
        "\n",
        "shiro = Japanese_Dog(\"シロ\")\n",
        "print(shiro.name)\n",
        "shiro.bark()"
      ]
    },
    {
      "cell_type": "markdown",
      "id": "dc05c529",
      "metadata": {
        "id": "dc05c529"
      },
      "source": [
        "## 多態性"
      ]
    },
    {
      "cell_type": "markdown",
      "id": "b06BLPvX6P4M",
      "metadata": {
        "id": "b06BLPvX6P4M"
      },
      "source": [
        "### オーバーライド"
      ]
    },
    {
      "cell_type": "code",
      "execution_count": 18,
      "id": "599d6744",
      "metadata": {
        "id": "599d6744"
      },
      "outputs": [],
      "source": [
        "class Dog:\n",
        "    voice = \"国によって変わる\"\n",
        "\n",
        "    def __init__(self, name):\n",
        "        self.name = name\n",
        "\n",
        "    def bark(self):\n",
        "        print(self.voice)\n",
        "\n",
        "    @classmethod\n",
        "    def description(self):\n",
        "        print(f\"世界の犬の鳴き声は{self.voice}\")\n",
        "\n",
        "class English_Dog(Dog):\n",
        "    voice = \"bow!\"\n",
        "\n",
        "    def __init__(self, name = \"Buddy\"):\n",
        "        super().__init__(name)\n",
        "\n",
        "    @classmethod\n",
        "    def description(self):\n",
        "        print(f\"英語圏の犬の鳴き声は{self.voice}\")\n",
        "\n",
        "class Japanese_Dog(Dog):\n",
        "    voice = \"ワン！\"\n",
        "\n",
        "    def __init__(self, name = \"ポチ\"):\n",
        "        super().__init__(name)\n",
        "\n",
        "    @classmethod\n",
        "    def description(self):\n",
        "        print(f\"日本の犬の鳴き声は{self.voice}\")"
      ]
    },
    {
      "cell_type": "code",
      "execution_count": 19,
      "id": "85951b32",
      "metadata": {
        "colab": {
          "base_uri": "https://localhost:8080/"
        },
        "id": "85951b32",
        "outputId": "c00cfcaf-dc89-479b-a386-358d72a6eb48"
      },
      "outputs": [
        {
          "name": "stdout",
          "output_type": "stream",
          "text": [
            "世界の犬の鳴き声は国によって変わる\n",
            "犬\n",
            "国によって変わる\n",
            "英語圏の犬の鳴き声はbow!\n",
            "Buddy\n",
            "bow!\n",
            "Jake\n",
            "bow!\n",
            "日本の犬の鳴き声はワン！\n",
            "ポチ\n",
            "ワン！\n",
            "シロ\n",
            "ワン！\n"
          ]
        }
      ],
      "source": [
        "Dog.description() # この行ではインスタンスを生成していない\n",
        "\n",
        "dog = Dog(\"犬\")\n",
        "print(dog.name)\n",
        "dog.bark()\n",
        "\n",
        "English_Dog.description() # この行ではインスタンスを生成していない\n",
        "\n",
        "buddy = English_Dog()\n",
        "print(buddy.name)\n",
        "buddy.bark()\n",
        "\n",
        "jake = English_Dog(\"Jake\")\n",
        "print(jake.name)\n",
        "jake.bark()\n",
        "\n",
        "Japanese_Dog.description() # この行ではインスタンスを生成していない\n",
        "\n",
        "pochi = Japanese_Dog()\n",
        "print(pochi.name)\n",
        "pochi.bark()\n",
        "\n",
        "shiro = Japanese_Dog(\"シロ\")\n",
        "print(shiro.name)\n",
        "shiro.bark()"
      ]
    },
    {
      "cell_type": "markdown",
      "id": "08331fbf",
      "metadata": {
        "id": "08331fbf"
      },
      "source": [
        "### （参考）オーバーロード"
      ]
    },
    {
      "cell_type": "code",
      "execution_count": 20,
      "id": "7b69d8d8",
      "metadata": {
        "id": "7b69d8d8"
      },
      "outputs": [],
      "source": [
        "class Human:\n",
        "    def greet(self, name = None):\n",
        "        if name == None:\n",
        "            print(\"こんにちは！\")\n",
        "        else:\n",
        "            print(f\"わたしの名前は{name}です！\")"
      ]
    },
    {
      "cell_type": "code",
      "execution_count": 21,
      "id": "c39cf4f4",
      "metadata": {
        "colab": {
          "base_uri": "https://localhost:8080/"
        },
        "id": "c39cf4f4",
        "outputId": "67d8f220-c40a-452f-a540-454a41f9282c"
      },
      "outputs": [
        {
          "name": "stdout",
          "output_type": "stream",
          "text": [
            "わたしの名前は田中です！\n",
            "こんにちは！\n"
          ]
        }
      ],
      "source": [
        "human = Human()\n",
        "human.greet(\"田中\")\n",
        "human.greet()"
      ]
    },
    {
      "cell_type": "markdown",
      "id": "68958ef2",
      "metadata": {
        "id": "68958ef2"
      },
      "source": [
        "## カプセル化"
      ]
    },
    {
      "cell_type": "code",
      "execution_count": 22,
      "id": "d66966bf",
      "metadata": {
        "id": "d66966bf"
      },
      "outputs": [],
      "source": [
        "class Human2:\n",
        "    def __init__(self, name):\n",
        "        self.name = name"
      ]
    },
    {
      "cell_type": "code",
      "execution_count": 23,
      "id": "13c6b652",
      "metadata": {
        "colab": {
          "base_uri": "https://localhost:8080/"
        },
        "id": "13c6b652",
        "outputId": "786acec7-c9fb-4c04-f0ed-fe0f582b5091"
      },
      "outputs": [
        {
          "name": "stdout",
          "output_type": "stream",
          "text": [
            "田中\n"
          ]
        }
      ],
      "source": [
        "tanaka = Human2(\"田中\")\n",
        "print(tanaka.name)"
      ]
    },
    {
      "cell_type": "code",
      "execution_count": 24,
      "id": "6qamCyhb7fpP",
      "metadata": {
        "colab": {
          "base_uri": "https://localhost:8080/"
        },
        "id": "6qamCyhb7fpP",
        "outputId": "9561e415-227f-4cc0-e8ea-fc08f0446fc8"
      },
      "outputs": [
        {
          "name": "stdout",
          "output_type": "stream",
          "text": [
            "鈴木\n"
          ]
        }
      ],
      "source": [
        "suzuki = Human2(\"鈴木\")\n",
        "print(suzuki.name)"
      ]
    },
    {
      "cell_type": "code",
      "execution_count": 25,
      "id": "c610777e",
      "metadata": {
        "id": "c610777e"
      },
      "outputs": [],
      "source": [
        "class Human2:\n",
        "    def __init__(self, name):\n",
        "        self.__name = name"
      ]
    },
    {
      "cell_type": "code",
      "execution_count": 26,
      "id": "5dc62914",
      "metadata": {
        "colab": {
          "base_uri": "https://localhost:8080/",
          "height": 197
        },
        "id": "5dc62914",
        "outputId": "29f3186c-e5e9-477a-9856-5798134e9564"
      },
      "outputs": [
        {
          "ename": "AttributeError",
          "evalue": "'Human2' object has no attribute '__name'",
          "output_type": "error",
          "traceback": [
            "\u001b[31m---------------------------------------------------------------------------\u001b[39m",
            "\u001b[31mAttributeError\u001b[39m                            Traceback (most recent call last)",
            "\u001b[36mCell\u001b[39m\u001b[36m \u001b[39m\u001b[32mIn[26]\u001b[39m\u001b[32m, line 2\u001b[39m\n\u001b[32m      1\u001b[39m tanaka = Human2(\u001b[33m\"\u001b[39m\u001b[33m田中\u001b[39m\u001b[33m\"\u001b[39m)\n\u001b[32m----> \u001b[39m\u001b[32m2\u001b[39m \u001b[38;5;28mprint\u001b[39m(\u001b[43mtanaka\u001b[49m\u001b[43m.\u001b[49m\u001b[43m__name\u001b[49m)\n",
            "\u001b[31mAttributeError\u001b[39m: 'Human2' object has no attribute '__name'"
          ]
        }
      ],
      "source": [
        "tanaka = Human2(\"田中\")\n",
        "print(tanaka.__name)"
      ]
    },
    {
      "cell_type": "code",
      "execution_count": 27,
      "id": "Ff3pLau37bIg",
      "metadata": {
        "colab": {
          "base_uri": "https://localhost:8080/",
          "height": 197
        },
        "id": "Ff3pLau37bIg",
        "outputId": "f2a1fce3-67a0-4809-ef13-39322a65ee2e"
      },
      "outputs": [
        {
          "ename": "AttributeError",
          "evalue": "'Human2' object has no attribute '__name'",
          "output_type": "error",
          "traceback": [
            "\u001b[31m---------------------------------------------------------------------------\u001b[39m",
            "\u001b[31mAttributeError\u001b[39m                            Traceback (most recent call last)",
            "\u001b[36mCell\u001b[39m\u001b[36m \u001b[39m\u001b[32mIn[27]\u001b[39m\u001b[32m, line 2\u001b[39m\n\u001b[32m      1\u001b[39m suzuki = Human2(\u001b[33m\"\u001b[39m\u001b[33m鈴木\u001b[39m\u001b[33m\"\u001b[39m)\n\u001b[32m----> \u001b[39m\u001b[32m2\u001b[39m \u001b[38;5;28mprint\u001b[39m(\u001b[43msuzuki\u001b[49m\u001b[43m.\u001b[49m\u001b[43m__name\u001b[49m)\n",
            "\u001b[31mAttributeError\u001b[39m: 'Human2' object has no attribute '__name'"
          ]
        }
      ],
      "source": [
        "suzuki = Human2(\"鈴木\")\n",
        "print(suzuki.__name)"
      ]
    },
    {
      "cell_type": "code",
      "execution_count": 28,
      "id": "fd2ae664",
      "metadata": {
        "colab": {
          "base_uri": "https://localhost:8080/"
        },
        "id": "fd2ae664",
        "outputId": "69391fae-302e-4c8a-ae0e-f1c2422e8775"
      },
      "outputs": [
        {
          "name": "stdout",
          "output_type": "stream",
          "text": [
            "田中\n"
          ]
        }
      ],
      "source": [
        "tanaka = Human2(\"田中\")\n",
        "print(tanaka._Human2__name)"
      ]
    },
    {
      "cell_type": "code",
      "execution_count": 29,
      "id": "mflrbl8C8sia",
      "metadata": {
        "colab": {
          "base_uri": "https://localhost:8080/"
        },
        "id": "mflrbl8C8sia",
        "outputId": "b715a14f-b7ff-44d7-d457-175a3af6caf7"
      },
      "outputs": [
        {
          "name": "stdout",
          "output_type": "stream",
          "text": [
            "鈴木\n"
          ]
        }
      ],
      "source": [
        "suzuki = Human2(\"鈴木\")\n",
        "print(suzuki._Human2__name)"
      ]
    },
    {
      "cell_type": "code",
      "execution_count": 30,
      "id": "54ced826",
      "metadata": {
        "id": "54ced826"
      },
      "outputs": [],
      "source": [
        "class Human2:\n",
        "    def __init__(self, name):\n",
        "        self.set_name(name)\n",
        "\n",
        "    # ゲッター\n",
        "    def get_name(self):\n",
        "        return self.__name\n",
        "\n",
        "    # セッター\n",
        "    def set_name(self, name):\n",
        "        self.__name = name"
      ]
    },
    {
      "cell_type": "code",
      "execution_count": 31,
      "id": "cbd3725b",
      "metadata": {
        "colab": {
          "base_uri": "https://localhost:8080/"
        },
        "id": "cbd3725b",
        "outputId": "20750e78-d3b9-49f8-d5de-7d4e01f6e358"
      },
      "outputs": [
        {
          "name": "stdout",
          "output_type": "stream",
          "text": [
            "田中\n"
          ]
        }
      ],
      "source": [
        "tanaka = Human2(\"田中\")\n",
        "\n",
        "# ゲッターを使用して値を取得\n",
        "print(tanaka.get_name())"
      ]
    },
    {
      "cell_type": "code",
      "execution_count": 32,
      "id": "MS4yRpuh9v4H",
      "metadata": {
        "colab": {
          "base_uri": "https://localhost:8080/"
        },
        "id": "MS4yRpuh9v4H",
        "outputId": "d71a06ef-798f-44ce-9320-96863face1db"
      },
      "outputs": [
        {
          "name": "stdout",
          "output_type": "stream",
          "text": [
            "鈴木\n"
          ]
        }
      ],
      "source": [
        "suzuki = Human2(\"鈴木\")\n",
        "\n",
        "# ゲッターを使用して値を取得\n",
        "print(suzuki.get_name())"
      ]
    },
    {
      "cell_type": "markdown",
      "id": "1ZZtelHeh7CE",
      "metadata": {
        "id": "1ZZtelHeh7CE"
      },
      "source": [
        "## 補足"
      ]
    },
    {
      "cell_type": "markdown",
      "id": "vWfCUtjveKZf",
      "metadata": {
        "id": "vWfCUtjveKZf"
      },
      "source": [
        "### 定義したクラスをインポートして使う\n",
        "\n",
        "`dogs.py` というファイルを作成し、内容を以下のとおりに入力します。\n",
        "\n",
        "```python\n",
        "class Dog2:\n",
        "    country = \"世界\"\n",
        "    voice = \"国によって変わる\"\n",
        "\n",
        "    def __init__(self, name):\n",
        "        self.name = name\n",
        "\n",
        "    def bark(self):\n",
        "        print(self.voice)\n",
        "\n",
        "    @classmethod\n",
        "    def description(self):\n",
        "        print(f\"{self.country}の犬の鳴き声は{self.voice}\")\n",
        "\n",
        "class English_Dog2(Dog2):\n",
        "    country = \"英語圏\"\n",
        "    voice = \"bow!\"\n",
        "\n",
        "    def __init__(self, name = \"Buddy\"):\n",
        "        super().__init__(name)\n",
        "\n",
        "class Japanese_Dog2(Dog2):\n",
        "    country = \"日本\"\n",
        "    voice = \"ワン！\"\n",
        "\n",
        "    def __init__(self, name = \"ポチ\"):\n",
        "        super().__init__(name)\n",
        "```"
      ]
    },
    {
      "cell_type": "code",
      "execution_count": 33,
      "id": "GKoqCCtei0cU",
      "metadata": {
        "id": "GKoqCCtei0cU"
      },
      "outputs": [],
      "source": [
        "from dogs import Dog2, English_Dog2, Japanese_Dog2"
      ]
    },
    {
      "cell_type": "code",
      "execution_count": 34,
      "id": "8ef021eb",
      "metadata": {
        "colab": {
          "base_uri": "https://localhost:8080/"
        },
        "id": "8ef021eb",
        "outputId": "3862f401-3442-43fa-89e9-a78d45d0a311"
      },
      "outputs": [
        {
          "name": "stdout",
          "output_type": "stream",
          "text": [
            "世界の犬の鳴き声は国によって変わる\n",
            "犬\n",
            "国によって変わる\n",
            "英語圏の犬の鳴き声はbow!\n",
            "Buddy\n",
            "bow!\n",
            "Jake\n",
            "bow!\n",
            "日本の犬の鳴き声はワン！\n",
            "ポチ\n",
            "ワン！\n",
            "シロ\n",
            "ワン！\n"
          ]
        }
      ],
      "source": [
        "Dog2.description()\n",
        "\n",
        "dog = Dog2(\"犬\")\n",
        "print(dog.name)\n",
        "dog.bark()\n",
        "\n",
        "English_Dog2.description()\n",
        "\n",
        "buddy = English_Dog2()\n",
        "print(buddy.name)\n",
        "buddy.bark()\n",
        "\n",
        "jake = English_Dog2(\"Jake\")\n",
        "print(jake.name)\n",
        "jake.bark()\n",
        "\n",
        "Japanese_Dog2.description()\n",
        "\n",
        "pochi = Japanese_Dog2()\n",
        "print(pochi.name)\n",
        "pochi.bark()\n",
        "\n",
        "shiro = Japanese_Dog2(\"シロ\")\n",
        "print(shiro.name)\n",
        "shiro.bark()"
      ]
    },
    {
      "cell_type": "code",
      "execution_count": null,
      "id": "c0b971d4",
      "metadata": {},
      "outputs": [],
      "source": []
    }
  ],
  "metadata": {
    "colab": {
      "provenance": []
    },
    "kernelspec": {
      "display_name": ".venv",
      "language": "python",
      "name": "python3"
    },
    "language_info": {
      "codemirror_mode": {
        "name": "ipython",
        "version": 3
      },
      "file_extension": ".py",
      "mimetype": "text/x-python",
      "name": "python",
      "nbconvert_exporter": "python",
      "pygments_lexer": "ipython3",
      "version": "3.12.7"
    }
  },
  "nbformat": 4,
  "nbformat_minor": 5
}
