{
  "cells": [
    {
      "cell_type": "markdown",
      "metadata": {
        "id": "ogz23BJAxVKF"
      },
      "source": [
        "## \t（付録）その他のPythonの学習"
      ]
    },
    {
      "cell_type": "markdown",
      "metadata": {
        "id": "DyMlnpe0MIl0"
      },
      "source": [
        "### 例：日経平均価格を取得する"
      ]
    },
    {
      "cell_type": "markdown",
      "metadata": {
        "id": "tFTGYJgdQfKl"
      },
      "source": [
        "#### 日経平均株価のページのHTMLデータを取得してBeautifulSoupのオブジェクトを生成する"
      ]
    },
    {
      "cell_type": "code",
      "execution_count": 1,
      "metadata": {
        "colab": {
          "base_uri": "https://localhost:8080/"
        },
        "id": "wfkeCvH2MOaH",
        "outputId": "f72ee67c-19d3-45b0-d1eb-6e08504e64bd"
      },
      "outputs": [],
      "source": [
        "import urllib.request as request\n",
        "from bs4 import BeautifulSoup\n",
        "import pandas as pd\n",
        "from datetime import datetime, timedelta, timezone\n",
        "\n",
        "url = 'https://www.nikkei.com/markets/worldidx/chart/nk225/'\n",
        "\n",
        "response = request.urlopen(url)\n",
        "\n",
        "bs = BeautifulSoup(response, 'html.parser')\n"
      ]
    },
    {
      "cell_type": "markdown",
      "metadata": {
        "id": "LG6bJCG5QmN3"
      },
      "source": [
        "#### HTMLデータから日経平均株価を取得する"
      ]
    },
    {
      "cell_type": "code",
      "execution_count": 2,
      "metadata": {
        "colab": {
          "base_uri": "https://localhost:8080/"
        },
        "id": "6rGUh59fRRpx",
        "outputId": "fb9f9236-e2d2-4435-b0bc-fe3cb0b8b8c1"
      },
      "outputs": [
        {
          "name": "stdout",
          "output_type": "stream",
          "text": [
            "37,136.18\n"
          ]
        }
      ],
      "source": [
        "# 株価を取得\n",
        "stocksPrice = bs.select('.economic_value_now')[0].text\n",
        "print(stocksPrice)"
      ]
    },
    {
      "cell_type": "markdown",
      "metadata": {},
      "source": [
        "#### CSVに保存する"
      ]
    },
    {
      "cell_type": "code",
      "execution_count": 3,
      "metadata": {},
      "outputs": [],
      "source": [
        "# 今日の日付を取得\n",
        "jst = timezone(timedelta(hours=+9), 'JST')\n",
        "today = datetime.now(jst).date().isoformat()\n",
        "\n",
        "# PandasのDataFrameを生成\n",
        "df = pd.DataFrame(data = [[today, stocksPrice]])\n",
        "\n",
        "# CSVに保存（追記）\n",
        "df.to_csv('stoks_price.csv', mode = 'a', header = False, index = False)"
      ]
    },
    {
      "cell_type": "code",
      "execution_count": 4,
      "metadata": {},
      "outputs": [],
      "source": [
        "response.close()"
      ]
    }
  ],
  "metadata": {
    "colab": {
      "provenance": []
    },
    "kernelspec": {
      "display_name": ".venv",
      "language": "python",
      "name": "python3"
    },
    "language_info": {
      "codemirror_mode": {
        "name": "ipython",
        "version": 3
      },
      "file_extension": ".py",
      "mimetype": "text/x-python",
      "name": "python",
      "nbconvert_exporter": "python",
      "pygments_lexer": "ipython3",
      "version": "3.12.7"
    }
  },
  "nbformat": 4,
  "nbformat_minor": 0
}
